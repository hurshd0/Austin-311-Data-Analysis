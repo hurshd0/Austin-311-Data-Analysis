{
 "cells": [
  {
   "cell_type": "markdown",
   "metadata": {},
   "source": [
    "# Clean Austin-3-1-1 Data \n",
    "\n",
    "<img src=\"imgs/cleaning.jpg\" width = \"500\" align=\"center\"/>"
   ]
  },
  {
   "cell_type": "code",
   "execution_count": 1,
   "metadata": {
    "ExecuteTime": {
     "end_time": "2019-07-30T09:10:57.037866Z",
     "start_time": "2019-07-30T09:10:56.415653Z"
    }
   },
   "outputs": [],
   "source": [
    "import numpy as np # Linear algebra lib\n",
    "import pandas as pd # Data analysis lib\n",
    "\n",
    "# Removes rows and columns truncation of '...'\n",
    "pd.set_option('display.max_rows', 500)\n",
    "pd.set_option('display.max_columns', 500)\n",
    "pd.set_option('display.width', 1000)"
   ]
  },
  {
   "cell_type": "markdown",
   "metadata": {},
   "source": [
    "## Load data"
   ]
  },
  {
   "cell_type": "code",
   "execution_count": 2,
   "metadata": {
    "ExecuteTime": {
     "end_time": "2019-07-30T09:11:30.168836Z",
     "start_time": "2019-07-30T09:10:57.042649Z"
    }
   },
   "outputs": [
    {
     "name": "stdout",
     "output_type": "stream",
     "text": [
      "--2019-07-31 21:31:38--  https://austin-311-data.s3.us-east-2.amazonaws.com/311_Unified_Data.csv\n",
      "Resolving austin-311-data.s3.us-east-2.amazonaws.com (austin-311-data.s3.us-east-2.amazonaws.com)... 52.219.80.232\n",
      "Connecting to austin-311-data.s3.us-east-2.amazonaws.com (austin-311-data.s3.us-east-2.amazonaws.com)|52.219.80.232|:443... connected.\n",
      "HTTP request sent, awaiting response... 200 OK\n",
      "Length: 257255577 (245M) [text/csv]\n",
      "Saving to: ‘raw_data/311_Unified_Data.csv’\n",
      "\n",
      "311_Unified_Data.cs 100%[===================>] 245.34M  1.89MB/s    in 3m 20s  \n",
      "\n",
      "2019-07-31 21:34:59 (1.23 MB/s) - ‘raw_data/311_Unified_Data.csv’ saved [257255577/257255577]\n",
      "\n",
      "total 247M\n",
      "-rw-r--r-- 1 turtle turtle 246M Jul 30 20:56 311_Unified_Data.csv\n",
      "drwxr-xr-x 2 turtle turtle 4.0K Jul 30 20:46 ACS_Surveys_Austin\n",
      "-rw-r--r-- 1 turtle turtle 785K Jul 30 20:56 ACS_Surveys_Austin.zip\n",
      "Service Request (SR) Number,SR Type Code,SR Description,Owning Department,Method Received,SR Status,Status Change Date,Created Date,Last Update Date,Close Date,SR Location,Street Number,Street Name,City,Zip Code,County,State Plane X Coordinate,State Plane Y Coordinate,Latitude Coordinate,Longitude Coordinate,(Latitude.Longitude),Council District,Map Page,Map Tile\n",
      "16-00107769,TRASIGMA,Traffic Signal - Maintenance,Transportation,Phone,Duplicate (closed),05/06/2016 12:11:57 PM,05/06/2016 12:01:46 PM,05/06/2016 12:11:57 PM,05/06/2016 12:11:57 PM,\"WINDSOR RD & EXPOSITION BLVD, AUSTIN, TX 78703\",,WINDSOR RD & EXPOSITION BLVD,AUSTIN,78703,TRAVIS,3106038.49745799,10080978.0030157,30.29669887,-97.76826374,\"(30.29669887, -97.76826374)\",10,584C,MH24\n",
      "16-00108244,TRASIGMA,Traffic Signal - Maintenance,Transportation,Phone,Duplicate (closed),05/06/2016 07:51:27 PM,05/06/2016 07:51:27 PM,05/06/2016 07:51:27 PM,05/06/2016 07:51:27 PM,\"6001 MANCHACA RD, AUSTIN, TX 78745\",6001,MANCHACA,AUSTIN,78745,TRAVIS,3096240.5,10050194,30.2126949,-97.8015215,\"(30.2126949, -97.8015215)\",5,643M,MF17\n",
      "16-00108269,TRASIGMA,Traffic Signal - Maintenance,Transportation,Phone,Duplicate (closed),05/06/2016 08:22:56 PM,05/06/2016 08:22:56 PM,05/06/2016 08:22:56 PM,05/06/2016 08:22:56 PM,\"6001 MANCHACA RD, AUSTIN, TX 78745\",6001,MANCHACA,AUSTIN,78745,TRAVIS,3096240.5,10050194,30.2126949,-97.8015215,\"(30.2126949, -97.8015215)\",5,643M,MF17\n",
      "16-00324071,SWSDEADA,ARR Dead Animal Collection,Austin Resource Recovery,Phone,Closed,12/15/2016 09:05:43 AM,12/15/2016 06:41:40 AM,12/15/2016 09:05:43 AM,12/15/2016 09:05:43 AM,\"2200 E OLTORF ST, AUSTIN, TX 78741\",2200,OLTORF,AUSTIN,78741,TRAVIS,3118116.50749136,10057053.9397969,30.23016411,-97.73177647,\"(30.23016411, -97.73177647)\",3,615X,MJ19\n",
      "16-00108062,TRASIGMA,Traffic Signal - Maintenance,Transportation,Phone,Duplicate (closed),05/10/2016 04:56:52 PM,05/06/2016 05:03:45 PM,05/10/2016 04:56:52 PM,05/10/2016 04:56:52 PM,\"8401 N CAPITAL OF TEXAS HWY NB, AUSTIN, TX 78759\",8401,CAPITAL OF TEXAS,AUSTIN,78759,TRAVIS,3105863.35797435,10113092.5341337,30.38498865,-97.76647071,\"(30.38498865, -97.76647071)\",10,494L,MH32\n",
      "16-00107654,STREETL2,Street Light Issue- Address,Austin Energy Department,Phone,Closed,05/10/2016 06:58:01 AM,05/06/2016 10:28:16 AM,05/10/2016 06:58:01 AM,05/10/2016 06:58:01 AM,\"300 WEST AVE, AUSTIN, TX 78703\",300,WEST,AUSTIN,78703,TRAVIS,3111493.73999999,10070696.54,30.26808964,-97.75173887,\"(30.26808964, -97.75173887)\",9,584V,MH22\n",
      "16-00107641,STREETL2,Street Light Issue- Address,Austin Energy Department,Phone,Closed,05/11/2016 04:41:32 PM,05/06/2016 10:19:24 AM,05/11/2016 04:41:33 PM,05/11/2016 04:41:32 PM,\"1212 BEGONIA TER, AUSTIN, TX 78741\",1212,BEGONIA,AUSTIN,78741,TRAVIS,3127314.74792452,10058154.0013629,30.23259324,-97.70257675,\"(30.23259324, -97.70257675)\",3,616W,ML19\n",
      "16-00107655,STREETL2,Street Light Issue- Address,Austin Energy Department,Phone,Closed,05/11/2016 04:42:25 PM,05/06/2016 10:29:40 AM,05/11/2016 04:42:26 PM,05/11/2016 04:42:25 PM,\"7432 ELK PASS DR, AUSTIN, TX 78744\",7432,ELK PASS,AUSTIN,78744,TRAVIS,3130322.58738476,10046378.9104246,30.20002989,-97.6939397,\"(30.20002989, -97.6939397)\",2,646T,ML16\n",
      "16-00107684,STREETL2,Street Light Issue- Address,Austin Energy Department,Spot311 Interface,Closed,05/11/2016 04:43:10 PM,05/06/2016 10:50:02 AM,05/11/2016 04:43:11 PM,05/11/2016 04:43:10 PM,\"1820 TREADWELL ST, AUSTIN, TX 78704\",1820,TREADWELL,AUSTIN,78704,TRAVIS,3106296.99838993,10067557.0008973,30.25979001,-97.76842531,\"(30.25979001, -97.76842531)\",5,614C,MH21\n",
      "19-00200306,SWSDEADA,ARR Dead Animal Collection,Austin Resource Recovery,Phone,Duplicate (closed),06/01/2019 11:02:34 AM,05/30/2019 08:48:01 PM,06/01/2019 11:02:34 AM,06/01/2019 11:02:34 AM,\"9701 DALLUM DR, AUSTIN, TX 78753\",9701,DALLUM,AUSTIN,78753,TRAVIS,3132581.59238482,10104385.33044030,30.35933109,-97.68241579,\"(30.35933109, -97.68241579)\",4,526G,MM30\n",
      "19-00200312,SWSDEADA,ARR Dead Animal Collection,Austin Resource Recovery,Phone,Closed,06/01/2019 07:23:02 AM,05/30/2019 08:54:13 PM,06/01/2019 07:23:02 AM,06/01/2019 07:23:02 AM,\"MANOR RD & CHESTNUT AVE, AUSTIN, TX\",,MANOR RD & CHESTNUT AVE,AUSTIN,78722,TRAVIS,3121944.49828856,10076893.00093610,30.28445159,-97.71818213,\"(30.28445159, -97.71818213)\",9,585M,MK23\n",
      "19-00200313,CODECOMP,Austin Code - Request Code Officer,Austin Code Department,Phone,Closed,05/30/2019 09:07:16 PM,05/30/2019 08:58:18 PM,06/04/2019 09:19:11 AM,05/30/2019 09:07:16 PM,\"5904 HAROLD CT, AUSTIN, TX 78721\",5904,HAROLD,AUSTIN,78721,TRAVIS,3135635.49844157,10071746.00261830,30.26941125,-97.67520829,\"(30.26941125, -97.67520829)\",1,586V,MM22\n",
      "19-00200318,SBPOTREP,Pothole Repair,Public Works,Phone,Resolved,05/30/2019 10:40:21 PM,05/30/2019 09:05:44 PM,05/30/2019 10:40:21 PM,05/30/2019 10:40:21 PM,\"CHICON ST & E 11TH ST, AUSTIN, TX\",,CHICON ST & E 11TH ST,Austin,78702,TRAVIS,3121362.74932632,10070190.00034860,30.26606375,-97.72052347,\"(30.26606375, -97.72052347)\",1,585Y,MK22\n",
      "19-00200324,SHTERECS,Austin Code - Short Term Rental Complaint SR,Austin Code Department,Spot311 Interface,Closed,05/30/2019 09:25:16 PM,05/30/2019 09:16:14 PM,06/27/2019 08:41:07 AM,05/30/2019 09:25:16 PM,\"2401 MANOR RD, AUSTIN, TX 78722\",2401,MANOR,AUSTIN,78722,TRAVIS,3122276.67529258,10076937.09540020,30.28455133,-97.71712674,\"(30.28455133, -97.71712674)\",1,585M,MK23\n",
      "19-00200322,LOUDMUS1,Loud Commercial Music,Economic Development Department,Phone,Closed,05/31/2019 06:15:09 PM,05/30/2019 09:11:16 PM,05/31/2019 06:15:09 PM,05/31/2019 06:15:09 PM,\"708 E 6TH ST, AUSTIN, TX 78701\",708,6TH,AUSTIN,78701,TRAVIS,3116607.74807702,10070123.00076520,30.26618575,-97.73558625,\"(30.26618575, -97.73558625)\",9,585X,MJ22\n",
      "19-00200333,STREETL2,Street Light Issue- Address,Austin Energy Department,Phone,Closed,05/31/2019 01:28:28 PM,05/30/2019 09:25:47 PM,05/31/2019 01:28:28 PM,05/31/2019 01:28:28 PM,\"2612 S 3RD ST, AUSTIN, TX 78704\",2612,3RD,AUSTIN,78704,TRAVIS,3108052.48541742,10060203.25758820,30.23946425,-97.76340454,\"(30.23946425, -97.76340454)\",3,614Q,MH20\n",
      "19-00200337,STREETL2,Street Light Issue- Address,Austin Energy Department,Phone,Closed,06/03/2019 09:51:10 AM,05/30/2019 09:31:25 PM,06/03/2019 09:51:10 AM,06/03/2019 09:51:10 AM,\"1125 W RUNDBERG LN, AUSTIN, TX 78758\",1125,RUNDBERG,AUSTIN,78758,TRAVIS,3125800.35006203,10106716.43185010,30.36618139,-97.7037361,\"(30.36618139, -97.7037361)\",4,526A,ML30\n",
      "19-00200325,SHTERECS,Austin Code - Short Term Rental Complaint SR,Austin Code Department,Phone,Closed,05/30/2019 09:28:15 PM,05/30/2019 09:18:58 PM,06/04/2019 08:04:00 AM,05/30/2019 09:28:15 PM,\"2401 MANOR RD 136, AUSTIN, TX 78722\",2401,MANOR,AUSTIN,78722,TRAVIS,3122433.74888667,10076876.00063570,30.28437323,-97.71663379,\"(30.28437323, -97.71663379)\",1,585M,MK23\n",
      "19-00200330,CODECOMP,Austin Code - Request Code Officer,Austin Code Department,Phone,Closed,05/30/2019 09:34:21 PM,05/30/2019 09:23:41 PM,06/04/2019 09:19:13 AM,05/30/2019 09:34:21 PM,\"5904 HAROLD CT, AUSTIN, TX 78721\",5904,HAROLD,AUSTIN,78721,TRAVIS,3135635.49844157,10071746.00261830,30.26941125,-97.67520829,\"(30.26941125, -97.67520829)\",1,586V,MM22\n",
      "747987 raw_data/311_Unified_Data.csv\n"
     ]
    }
   ],
   "source": [
    "# Toggle Comments to run\n",
    "!mkdir -p 'raw_data'\n",
    "!rm -f raw_data/'311_Unified_Data.csv'\n",
    "!wget 'https://austin-311-data.s3.us-east-2.amazonaws.com/311_Unified_Data.csv' -P raw_data\n",
    "!ls -lh raw_data\n",
    "!head raw_data/'311_Unified_Data.csv'\n",
    "!tail raw_data/'311_Unified_Data.csv'\n",
    "!wc -l raw_data/'311_Unified_Data.csv'"
   ]
  },
  {
   "cell_type": "markdown",
   "metadata": {},
   "source": [
    "## Clean Data"
   ]
  },
  {
   "cell_type": "markdown",
   "metadata": {},
   "source": [
    "Start by loading the dataset"
   ]
  },
  {
   "cell_type": "code",
   "execution_count": 3,
   "metadata": {
    "ExecuteTime": {
     "end_time": "2019-07-30T09:11:43.757542Z",
     "start_time": "2019-07-30T09:11:30.180176Z"
    }
   },
   "outputs": [
    {
     "data": {
      "text/html": [
       "<div>\n",
       "<style scoped>\n",
       "    .dataframe tbody tr th:only-of-type {\n",
       "        vertical-align: middle;\n",
       "    }\n",
       "\n",
       "    .dataframe tbody tr th {\n",
       "        vertical-align: top;\n",
       "    }\n",
       "\n",
       "    .dataframe thead th {\n",
       "        text-align: right;\n",
       "    }\n",
       "</style>\n",
       "<table border=\"1\" class=\"dataframe\">\n",
       "  <thead>\n",
       "    <tr style=\"text-align: right;\">\n",
       "      <th></th>\n",
       "      <th>Service Request (SR) Number</th>\n",
       "      <th>SR Type Code</th>\n",
       "      <th>SR Description</th>\n",
       "      <th>Owning Department</th>\n",
       "      <th>Method Received</th>\n",
       "      <th>SR Status</th>\n",
       "      <th>Status Change Date</th>\n",
       "      <th>Created Date</th>\n",
       "      <th>Last Update Date</th>\n",
       "      <th>Close Date</th>\n",
       "      <th>SR Location</th>\n",
       "      <th>Street Number</th>\n",
       "      <th>Street Name</th>\n",
       "      <th>City</th>\n",
       "      <th>Zip Code</th>\n",
       "      <th>County</th>\n",
       "      <th>State Plane X Coordinate</th>\n",
       "      <th>State Plane Y Coordinate</th>\n",
       "      <th>Latitude Coordinate</th>\n",
       "      <th>Longitude Coordinate</th>\n",
       "      <th>(Latitude.Longitude)</th>\n",
       "      <th>Council District</th>\n",
       "      <th>Map Page</th>\n",
       "      <th>Map Tile</th>\n",
       "    </tr>\n",
       "  </thead>\n",
       "  <tbody>\n",
       "    <tr>\n",
       "      <th>0</th>\n",
       "      <td>16-00107769</td>\n",
       "      <td>TRASIGMA</td>\n",
       "      <td>Traffic Signal - Maintenance</td>\n",
       "      <td>Transportation</td>\n",
       "      <td>Phone</td>\n",
       "      <td>Duplicate (closed)</td>\n",
       "      <td>05/06/2016 12:11:57 PM</td>\n",
       "      <td>05/06/2016 12:01:46 PM</td>\n",
       "      <td>05/06/2016 12:11:57 PM</td>\n",
       "      <td>05/06/2016 12:11:57 PM</td>\n",
       "      <td>WINDSOR RD &amp; EXPOSITION BLVD, AUSTIN, TX 78703</td>\n",
       "      <td>NaN</td>\n",
       "      <td>WINDSOR RD &amp; EXPOSITION BLVD</td>\n",
       "      <td>AUSTIN</td>\n",
       "      <td>78703.0</td>\n",
       "      <td>TRAVIS</td>\n",
       "      <td>3106038.49745799</td>\n",
       "      <td>1.008098e+07</td>\n",
       "      <td>30.296699</td>\n",
       "      <td>-97.768264</td>\n",
       "      <td>(30.29669887, -97.76826374)</td>\n",
       "      <td>10.0</td>\n",
       "      <td>584C</td>\n",
       "      <td>MH24</td>\n",
       "    </tr>\n",
       "    <tr>\n",
       "      <th>1</th>\n",
       "      <td>16-00108244</td>\n",
       "      <td>TRASIGMA</td>\n",
       "      <td>Traffic Signal - Maintenance</td>\n",
       "      <td>Transportation</td>\n",
       "      <td>Phone</td>\n",
       "      <td>Duplicate (closed)</td>\n",
       "      <td>05/06/2016 07:51:27 PM</td>\n",
       "      <td>05/06/2016 07:51:27 PM</td>\n",
       "      <td>05/06/2016 07:51:27 PM</td>\n",
       "      <td>05/06/2016 07:51:27 PM</td>\n",
       "      <td>6001 MANCHACA RD, AUSTIN, TX 78745</td>\n",
       "      <td>6001</td>\n",
       "      <td>MANCHACA</td>\n",
       "      <td>AUSTIN</td>\n",
       "      <td>78745.0</td>\n",
       "      <td>TRAVIS</td>\n",
       "      <td>3096240.5</td>\n",
       "      <td>1.005019e+07</td>\n",
       "      <td>30.212695</td>\n",
       "      <td>-97.801521</td>\n",
       "      <td>(30.2126949, -97.8015215)</td>\n",
       "      <td>5.0</td>\n",
       "      <td>643M</td>\n",
       "      <td>MF17</td>\n",
       "    </tr>\n",
       "    <tr>\n",
       "      <th>2</th>\n",
       "      <td>16-00108269</td>\n",
       "      <td>TRASIGMA</td>\n",
       "      <td>Traffic Signal - Maintenance</td>\n",
       "      <td>Transportation</td>\n",
       "      <td>Phone</td>\n",
       "      <td>Duplicate (closed)</td>\n",
       "      <td>05/06/2016 08:22:56 PM</td>\n",
       "      <td>05/06/2016 08:22:56 PM</td>\n",
       "      <td>05/06/2016 08:22:56 PM</td>\n",
       "      <td>05/06/2016 08:22:56 PM</td>\n",
       "      <td>6001 MANCHACA RD, AUSTIN, TX 78745</td>\n",
       "      <td>6001</td>\n",
       "      <td>MANCHACA</td>\n",
       "      <td>AUSTIN</td>\n",
       "      <td>78745.0</td>\n",
       "      <td>TRAVIS</td>\n",
       "      <td>3096240.5</td>\n",
       "      <td>1.005019e+07</td>\n",
       "      <td>30.212695</td>\n",
       "      <td>-97.801521</td>\n",
       "      <td>(30.2126949, -97.8015215)</td>\n",
       "      <td>5.0</td>\n",
       "      <td>643M</td>\n",
       "      <td>MF17</td>\n",
       "    </tr>\n",
       "    <tr>\n",
       "      <th>3</th>\n",
       "      <td>16-00324071</td>\n",
       "      <td>SWSDEADA</td>\n",
       "      <td>ARR Dead Animal Collection</td>\n",
       "      <td>Austin Resource Recovery</td>\n",
       "      <td>Phone</td>\n",
       "      <td>Closed</td>\n",
       "      <td>12/15/2016 09:05:43 AM</td>\n",
       "      <td>12/15/2016 06:41:40 AM</td>\n",
       "      <td>12/15/2016 09:05:43 AM</td>\n",
       "      <td>12/15/2016 09:05:43 AM</td>\n",
       "      <td>2200 E OLTORF ST, AUSTIN, TX 78741</td>\n",
       "      <td>2200</td>\n",
       "      <td>OLTORF</td>\n",
       "      <td>AUSTIN</td>\n",
       "      <td>78741.0</td>\n",
       "      <td>TRAVIS</td>\n",
       "      <td>3118116.50749136</td>\n",
       "      <td>1.005705e+07</td>\n",
       "      <td>30.230164</td>\n",
       "      <td>-97.731776</td>\n",
       "      <td>(30.23016411, -97.73177647)</td>\n",
       "      <td>3.0</td>\n",
       "      <td>615X</td>\n",
       "      <td>MJ19</td>\n",
       "    </tr>\n",
       "    <tr>\n",
       "      <th>4</th>\n",
       "      <td>16-00108062</td>\n",
       "      <td>TRASIGMA</td>\n",
       "      <td>Traffic Signal - Maintenance</td>\n",
       "      <td>Transportation</td>\n",
       "      <td>Phone</td>\n",
       "      <td>Duplicate (closed)</td>\n",
       "      <td>05/10/2016 04:56:52 PM</td>\n",
       "      <td>05/06/2016 05:03:45 PM</td>\n",
       "      <td>05/10/2016 04:56:52 PM</td>\n",
       "      <td>05/10/2016 04:56:52 PM</td>\n",
       "      <td>8401 N CAPITAL OF TEXAS HWY NB, AUSTIN, TX 78759</td>\n",
       "      <td>8401</td>\n",
       "      <td>CAPITAL OF TEXAS</td>\n",
       "      <td>AUSTIN</td>\n",
       "      <td>78759.0</td>\n",
       "      <td>TRAVIS</td>\n",
       "      <td>3105863.35797435</td>\n",
       "      <td>1.011309e+07</td>\n",
       "      <td>30.384989</td>\n",
       "      <td>-97.766471</td>\n",
       "      <td>(30.38498865, -97.76647071)</td>\n",
       "      <td>10.0</td>\n",
       "      <td>494L</td>\n",
       "      <td>MH32</td>\n",
       "    </tr>\n",
       "  </tbody>\n",
       "</table>\n",
       "</div>"
      ],
      "text/plain": [
       "  Service Request (SR) Number SR Type Code                SR Description         Owning Department Method Received           SR Status      Status Change Date            Created Date        Last Update Date              Close Date                                       SR Location Street Number                   Street Name    City  Zip Code  County State Plane X Coordinate  State Plane Y Coordinate  Latitude Coordinate  Longitude Coordinate         (Latitude.Longitude)  Council District Map Page Map Tile\n",
       "0                 16-00107769     TRASIGMA  Traffic Signal - Maintenance            Transportation           Phone  Duplicate (closed)  05/06/2016 12:11:57 PM  05/06/2016 12:01:46 PM  05/06/2016 12:11:57 PM  05/06/2016 12:11:57 PM    WINDSOR RD & EXPOSITION BLVD, AUSTIN, TX 78703           NaN  WINDSOR RD & EXPOSITION BLVD  AUSTIN   78703.0  TRAVIS         3106038.49745799              1.008098e+07            30.296699            -97.768264  (30.29669887, -97.76826374)              10.0     584C     MH24\n",
       "1                 16-00108244     TRASIGMA  Traffic Signal - Maintenance            Transportation           Phone  Duplicate (closed)  05/06/2016 07:51:27 PM  05/06/2016 07:51:27 PM  05/06/2016 07:51:27 PM  05/06/2016 07:51:27 PM                6001 MANCHACA RD, AUSTIN, TX 78745          6001                      MANCHACA  AUSTIN   78745.0  TRAVIS                3096240.5              1.005019e+07            30.212695            -97.801521    (30.2126949, -97.8015215)               5.0     643M     MF17\n",
       "2                 16-00108269     TRASIGMA  Traffic Signal - Maintenance            Transportation           Phone  Duplicate (closed)  05/06/2016 08:22:56 PM  05/06/2016 08:22:56 PM  05/06/2016 08:22:56 PM  05/06/2016 08:22:56 PM                6001 MANCHACA RD, AUSTIN, TX 78745          6001                      MANCHACA  AUSTIN   78745.0  TRAVIS                3096240.5              1.005019e+07            30.212695            -97.801521    (30.2126949, -97.8015215)               5.0     643M     MF17\n",
       "3                 16-00324071     SWSDEADA    ARR Dead Animal Collection  Austin Resource Recovery           Phone              Closed  12/15/2016 09:05:43 AM  12/15/2016 06:41:40 AM  12/15/2016 09:05:43 AM  12/15/2016 09:05:43 AM                2200 E OLTORF ST, AUSTIN, TX 78741          2200                        OLTORF  AUSTIN   78741.0  TRAVIS         3118116.50749136              1.005705e+07            30.230164            -97.731776  (30.23016411, -97.73177647)               3.0     615X     MJ19\n",
       "4                 16-00108062     TRASIGMA  Traffic Signal - Maintenance            Transportation           Phone  Duplicate (closed)  05/10/2016 04:56:52 PM  05/06/2016 05:03:45 PM  05/10/2016 04:56:52 PM  05/10/2016 04:56:52 PM  8401 N CAPITAL OF TEXAS HWY NB, AUSTIN, TX 78759          8401              CAPITAL OF TEXAS  AUSTIN   78759.0  TRAVIS         3105863.35797435              1.011309e+07            30.384989            -97.766471  (30.38498865, -97.76647071)              10.0     494L     MH32"
      ]
     },
     "execution_count": 3,
     "metadata": {},
     "output_type": "execute_result"
    }
   ],
   "source": [
    "df = pd.read_csv('raw_data/311_Unified_Data.csv', low_memory=False)\n",
    "df.head()"
   ]
  },
  {
   "cell_type": "code",
   "execution_count": 4,
   "metadata": {
    "ExecuteTime": {
     "end_time": "2019-07-30T09:11:43.771222Z",
     "start_time": "2019-07-30T09:11:43.763174Z"
    }
   },
   "outputs": [
    {
     "name": "stdout",
     "output_type": "stream",
     "text": [
      "This dataset has number of rows 747986, number of cols 24\n"
     ]
    }
   ],
   "source": [
    "print('This dataset has number of rows {}, number of cols {}'.format(df.shape[0], df.shape[1]))"
   ]
  },
  {
   "cell_type": "code",
   "execution_count": 5,
   "metadata": {
    "ExecuteTime": {
     "end_time": "2019-07-30T09:11:45.801331Z",
     "start_time": "2019-07-30T09:11:43.775010Z"
    }
   },
   "outputs": [
    {
     "name": "stdout",
     "output_type": "stream",
     "text": [
      "<class 'pandas.core.frame.DataFrame'>\n",
      "RangeIndex: 747986 entries, 0 to 747985\n",
      "Data columns (total 24 columns):\n",
      "Service Request (SR) Number    743752 non-null object\n",
      "SR Type Code                   743751 non-null object\n",
      "SR Description                 743751 non-null object\n",
      "Owning Department              743751 non-null object\n",
      "Method Received                743751 non-null object\n",
      "SR Status                      743751 non-null object\n",
      "Status Change Date             737819 non-null object\n",
      "Created Date                   737819 non-null object\n",
      "Last Update Date               737819 non-null object\n",
      "Close Date                     695220 non-null object\n",
      "SR Location                    738374 non-null object\n",
      "Street Number                  592926 non-null object\n",
      "Street Name                    738287 non-null object\n",
      "City                           737345 non-null object\n",
      "Zip Code                       735561 non-null float64\n",
      "County                         731471 non-null object\n",
      "State Plane X Coordinate       738313 non-null object\n",
      "State Plane Y Coordinate       738271 non-null float64\n",
      "Latitude Coordinate            738300 non-null float64\n",
      "Longitude Coordinate           738300 non-null float64\n",
      "(Latitude.Longitude)           738300 non-null object\n",
      "Council District               702005 non-null float64\n",
      "Map Page                       736655 non-null object\n",
      "Map Tile                       735166 non-null object\n",
      "dtypes: float64(5), object(19)\n",
      "memory usage: 137.0+ MB\n"
     ]
    }
   ],
   "source": [
    "df.info()"
   ]
  },
  {
   "cell_type": "markdown",
   "metadata": {},
   "source": [
    "For our analysis we don't need following columns:\n",
    " \n",
    "  - `Service Request (SR) Number`\n",
    "  - `Status Change Date`\n",
    "  - `SR Status`\n",
    "  - `Last Update Date`\n",
    "  - `Close Date`\n",
    "  - `Map Page`\n",
    "  - `Map Tile`\n",
    "  - `State Plane X Coordinate`\n",
    "  - `State Plane Y Coordinate`\n",
    "  - `Street Number`\n",
    "  - `Street Name`\n",
    "  - `SR Location`\n",
    "  - `(Latitude.Longitude)`\n",
    "  - `Council District`"
   ]
  },
  {
   "cell_type": "markdown",
   "metadata": {},
   "source": [
    "### Drop unecessary columns and empty rows"
   ]
  },
  {
   "cell_type": "code",
   "execution_count": 6,
   "metadata": {
    "ExecuteTime": {
     "end_time": "2019-07-30T09:11:45.932323Z",
     "start_time": "2019-07-30T09:11:45.804959Z"
    }
   },
   "outputs": [
    {
     "data": {
      "text/html": [
       "<div>\n",
       "<style scoped>\n",
       "    .dataframe tbody tr th:only-of-type {\n",
       "        vertical-align: middle;\n",
       "    }\n",
       "\n",
       "    .dataframe tbody tr th {\n",
       "        vertical-align: top;\n",
       "    }\n",
       "\n",
       "    .dataframe thead th {\n",
       "        text-align: right;\n",
       "    }\n",
       "</style>\n",
       "<table border=\"1\" class=\"dataframe\">\n",
       "  <thead>\n",
       "    <tr style=\"text-align: right;\">\n",
       "      <th></th>\n",
       "      <th>SR Type Code</th>\n",
       "      <th>SR Description</th>\n",
       "      <th>Owning Department</th>\n",
       "      <th>Method Received</th>\n",
       "      <th>Created Date</th>\n",
       "      <th>City</th>\n",
       "      <th>Zip Code</th>\n",
       "      <th>County</th>\n",
       "      <th>Latitude Coordinate</th>\n",
       "      <th>Longitude Coordinate</th>\n",
       "    </tr>\n",
       "  </thead>\n",
       "  <tbody>\n",
       "    <tr>\n",
       "      <th>0</th>\n",
       "      <td>TRASIGMA</td>\n",
       "      <td>Traffic Signal - Maintenance</td>\n",
       "      <td>Transportation</td>\n",
       "      <td>Phone</td>\n",
       "      <td>05/06/2016 12:01:46 PM</td>\n",
       "      <td>AUSTIN</td>\n",
       "      <td>78703.0</td>\n",
       "      <td>TRAVIS</td>\n",
       "      <td>30.296699</td>\n",
       "      <td>-97.768264</td>\n",
       "    </tr>\n",
       "    <tr>\n",
       "      <th>1</th>\n",
       "      <td>TRASIGMA</td>\n",
       "      <td>Traffic Signal - Maintenance</td>\n",
       "      <td>Transportation</td>\n",
       "      <td>Phone</td>\n",
       "      <td>05/06/2016 07:51:27 PM</td>\n",
       "      <td>AUSTIN</td>\n",
       "      <td>78745.0</td>\n",
       "      <td>TRAVIS</td>\n",
       "      <td>30.212695</td>\n",
       "      <td>-97.801521</td>\n",
       "    </tr>\n",
       "    <tr>\n",
       "      <th>2</th>\n",
       "      <td>TRASIGMA</td>\n",
       "      <td>Traffic Signal - Maintenance</td>\n",
       "      <td>Transportation</td>\n",
       "      <td>Phone</td>\n",
       "      <td>05/06/2016 08:22:56 PM</td>\n",
       "      <td>AUSTIN</td>\n",
       "      <td>78745.0</td>\n",
       "      <td>TRAVIS</td>\n",
       "      <td>30.212695</td>\n",
       "      <td>-97.801521</td>\n",
       "    </tr>\n",
       "    <tr>\n",
       "      <th>3</th>\n",
       "      <td>SWSDEADA</td>\n",
       "      <td>ARR Dead Animal Collection</td>\n",
       "      <td>Austin Resource Recovery</td>\n",
       "      <td>Phone</td>\n",
       "      <td>12/15/2016 06:41:40 AM</td>\n",
       "      <td>AUSTIN</td>\n",
       "      <td>78741.0</td>\n",
       "      <td>TRAVIS</td>\n",
       "      <td>30.230164</td>\n",
       "      <td>-97.731776</td>\n",
       "    </tr>\n",
       "    <tr>\n",
       "      <th>4</th>\n",
       "      <td>TRASIGMA</td>\n",
       "      <td>Traffic Signal - Maintenance</td>\n",
       "      <td>Transportation</td>\n",
       "      <td>Phone</td>\n",
       "      <td>05/06/2016 05:03:45 PM</td>\n",
       "      <td>AUSTIN</td>\n",
       "      <td>78759.0</td>\n",
       "      <td>TRAVIS</td>\n",
       "      <td>30.384989</td>\n",
       "      <td>-97.766471</td>\n",
       "    </tr>\n",
       "  </tbody>\n",
       "</table>\n",
       "</div>"
      ],
      "text/plain": [
       "  SR Type Code                SR Description         Owning Department Method Received            Created Date    City  Zip Code  County  Latitude Coordinate  Longitude Coordinate\n",
       "0     TRASIGMA  Traffic Signal - Maintenance            Transportation           Phone  05/06/2016 12:01:46 PM  AUSTIN   78703.0  TRAVIS            30.296699            -97.768264\n",
       "1     TRASIGMA  Traffic Signal - Maintenance            Transportation           Phone  05/06/2016 07:51:27 PM  AUSTIN   78745.0  TRAVIS            30.212695            -97.801521\n",
       "2     TRASIGMA  Traffic Signal - Maintenance            Transportation           Phone  05/06/2016 08:22:56 PM  AUSTIN   78745.0  TRAVIS            30.212695            -97.801521\n",
       "3     SWSDEADA    ARR Dead Animal Collection  Austin Resource Recovery           Phone  12/15/2016 06:41:40 AM  AUSTIN   78741.0  TRAVIS            30.230164            -97.731776\n",
       "4     TRASIGMA  Traffic Signal - Maintenance            Transportation           Phone  05/06/2016 05:03:45 PM  AUSTIN   78759.0  TRAVIS            30.384989            -97.766471"
      ]
     },
     "execution_count": 6,
     "metadata": {},
     "output_type": "execute_result"
    }
   ],
   "source": [
    "columns = ['Council District', 'Map Page', 'Map Tile', 'Service Request (SR) Number', 'Status Change Date', 'Last Update Date', 'Close Date', 'SR Status', 'SR Location', 'Street Number', 'Street Name', 'State Plane X Coordinate', 'State Plane Y Coordinate', '(Latitude.Longitude)']\n",
    "df = df.drop(columns, axis=1)\n",
    "df.head()"
   ]
  },
  {
   "cell_type": "markdown",
   "metadata": {},
   "source": [
    "### Check for missing values and drop rows that are missing important info."
   ]
  },
  {
   "cell_type": "code",
   "execution_count": 7,
   "metadata": {
    "ExecuteTime": {
     "end_time": "2019-07-30T09:11:47.529282Z",
     "start_time": "2019-07-30T09:11:45.936157Z"
    }
   },
   "outputs": [
    {
     "data": {
      "text/plain": [
       "SR Type Code             4235\n",
       "SR Description           4235\n",
       "Owning Department        4235\n",
       "Method Received          4235\n",
       "Created Date            10167\n",
       "City                    10641\n",
       "Zip Code                12425\n",
       "County                  16515\n",
       "Latitude Coordinate      9686\n",
       "Longitude Coordinate     9686\n",
       "dtype: int64"
      ]
     },
     "execution_count": 7,
     "metadata": {},
     "output_type": "execute_result"
    }
   ],
   "source": [
    "df.isnull().sum()"
   ]
  },
  {
   "cell_type": "markdown",
   "metadata": {},
   "source": [
    "So, there are lot missing values, mostly due to empty rows, let's drop those rows now."
   ]
  },
  {
   "cell_type": "code",
   "execution_count": 8,
   "metadata": {
    "ExecuteTime": {
     "end_time": "2019-07-30T09:11:48.947065Z",
     "start_time": "2019-07-30T09:11:47.532953Z"
    }
   },
   "outputs": [
    {
     "data": {
      "text/plain": [
       "SR Type Code                0\n",
       "SR Description              0\n",
       "Owning Department           0\n",
       "Method Received             0\n",
       "Created Date             5932\n",
       "City                     6406\n",
       "Zip Code                 8190\n",
       "County                  12280\n",
       "Latitude Coordinate      5451\n",
       "Longitude Coordinate     5451\n",
       "dtype: int64"
      ]
     },
     "execution_count": 8,
     "metadata": {},
     "output_type": "execute_result"
    }
   ],
   "source": [
    "df = df.dropna(how='all') # how='all' drops rows that have all NaN values, whereas, 'any' will drop any row that has NaN present\n",
    "df.isnull().sum()"
   ]
  },
  {
   "cell_type": "markdown",
   "metadata": {},
   "source": [
    "After dropping rows that had all `NaN` values, now we can drop those that having missing valuable information needed to stratify complaints by their location info. \n",
    "\n"
   ]
  },
  {
   "cell_type": "markdown",
   "metadata": {},
   "source": [
    "#### Missing all location data (i.e. Zip Code and County and City)\n",
    "\n",
    "Let's drop rows that contain all of the missing location info."
   ]
  },
  {
   "cell_type": "code",
   "execution_count": 9,
   "metadata": {
    "ExecuteTime": {
     "end_time": "2019-07-30T09:11:49.313186Z",
     "start_time": "2019-07-30T09:11:48.950828Z"
    }
   },
   "outputs": [
    {
     "name": "stdout",
     "output_type": "stream",
     "text": [
      "Before dimensions:  (743751, 10)\n",
      "After dimensions:  (738061, 10)\n"
     ]
    },
    {
     "data": {
      "text/html": [
       "<div>\n",
       "<style scoped>\n",
       "    .dataframe tbody tr th:only-of-type {\n",
       "        vertical-align: middle;\n",
       "    }\n",
       "\n",
       "    .dataframe tbody tr th {\n",
       "        vertical-align: top;\n",
       "    }\n",
       "\n",
       "    .dataframe thead th {\n",
       "        text-align: right;\n",
       "    }\n",
       "</style>\n",
       "<table border=\"1\" class=\"dataframe\">\n",
       "  <thead>\n",
       "    <tr style=\"text-align: right;\">\n",
       "      <th></th>\n",
       "      <th>SR Type Code</th>\n",
       "      <th>SR Description</th>\n",
       "      <th>Owning Department</th>\n",
       "      <th>Method Received</th>\n",
       "      <th>Created Date</th>\n",
       "      <th>City</th>\n",
       "      <th>Zip Code</th>\n",
       "      <th>County</th>\n",
       "      <th>Latitude Coordinate</th>\n",
       "      <th>Longitude Coordinate</th>\n",
       "    </tr>\n",
       "  </thead>\n",
       "  <tbody>\n",
       "    <tr>\n",
       "      <th>0</th>\n",
       "      <td>TRASIGMA</td>\n",
       "      <td>Traffic Signal - Maintenance</td>\n",
       "      <td>Transportation</td>\n",
       "      <td>Phone</td>\n",
       "      <td>05/06/2016 12:01:46 PM</td>\n",
       "      <td>AUSTIN</td>\n",
       "      <td>78703.0</td>\n",
       "      <td>TRAVIS</td>\n",
       "      <td>30.296699</td>\n",
       "      <td>-97.768264</td>\n",
       "    </tr>\n",
       "    <tr>\n",
       "      <th>1</th>\n",
       "      <td>TRASIGMA</td>\n",
       "      <td>Traffic Signal - Maintenance</td>\n",
       "      <td>Transportation</td>\n",
       "      <td>Phone</td>\n",
       "      <td>05/06/2016 07:51:27 PM</td>\n",
       "      <td>AUSTIN</td>\n",
       "      <td>78745.0</td>\n",
       "      <td>TRAVIS</td>\n",
       "      <td>30.212695</td>\n",
       "      <td>-97.801521</td>\n",
       "    </tr>\n",
       "    <tr>\n",
       "      <th>2</th>\n",
       "      <td>TRASIGMA</td>\n",
       "      <td>Traffic Signal - Maintenance</td>\n",
       "      <td>Transportation</td>\n",
       "      <td>Phone</td>\n",
       "      <td>05/06/2016 08:22:56 PM</td>\n",
       "      <td>AUSTIN</td>\n",
       "      <td>78745.0</td>\n",
       "      <td>TRAVIS</td>\n",
       "      <td>30.212695</td>\n",
       "      <td>-97.801521</td>\n",
       "    </tr>\n",
       "    <tr>\n",
       "      <th>3</th>\n",
       "      <td>SWSDEADA</td>\n",
       "      <td>ARR Dead Animal Collection</td>\n",
       "      <td>Austin Resource Recovery</td>\n",
       "      <td>Phone</td>\n",
       "      <td>12/15/2016 06:41:40 AM</td>\n",
       "      <td>AUSTIN</td>\n",
       "      <td>78741.0</td>\n",
       "      <td>TRAVIS</td>\n",
       "      <td>30.230164</td>\n",
       "      <td>-97.731776</td>\n",
       "    </tr>\n",
       "    <tr>\n",
       "      <th>4</th>\n",
       "      <td>TRASIGMA</td>\n",
       "      <td>Traffic Signal - Maintenance</td>\n",
       "      <td>Transportation</td>\n",
       "      <td>Phone</td>\n",
       "      <td>05/06/2016 05:03:45 PM</td>\n",
       "      <td>AUSTIN</td>\n",
       "      <td>78759.0</td>\n",
       "      <td>TRAVIS</td>\n",
       "      <td>30.384989</td>\n",
       "      <td>-97.766471</td>\n",
       "    </tr>\n",
       "  </tbody>\n",
       "</table>\n",
       "</div>"
      ],
      "text/plain": [
       "  SR Type Code                SR Description         Owning Department Method Received            Created Date    City  Zip Code  County  Latitude Coordinate  Longitude Coordinate\n",
       "0     TRASIGMA  Traffic Signal - Maintenance            Transportation           Phone  05/06/2016 12:01:46 PM  AUSTIN   78703.0  TRAVIS            30.296699            -97.768264\n",
       "1     TRASIGMA  Traffic Signal - Maintenance            Transportation           Phone  05/06/2016 07:51:27 PM  AUSTIN   78745.0  TRAVIS            30.212695            -97.801521\n",
       "2     TRASIGMA  Traffic Signal - Maintenance            Transportation           Phone  05/06/2016 08:22:56 PM  AUSTIN   78745.0  TRAVIS            30.212695            -97.801521\n",
       "3     SWSDEADA    ARR Dead Animal Collection  Austin Resource Recovery           Phone  12/15/2016 06:41:40 AM  AUSTIN   78741.0  TRAVIS            30.230164            -97.731776\n",
       "4     TRASIGMA  Traffic Signal - Maintenance            Transportation           Phone  05/06/2016 05:03:45 PM  AUSTIN   78759.0  TRAVIS            30.384989            -97.766471"
      ]
     },
     "execution_count": 9,
     "metadata": {},
     "output_type": "execute_result"
    }
   ],
   "source": [
    "print('Before dimensions: ', df.shape)\n",
    "df = df.loc[df[['City', 'Zip Code', 'County']].notnull().values.any(axis=1)]\n",
    "print('After dimensions: ', df.shape)\n",
    "df.head()"
   ]
  },
  {
   "cell_type": "code",
   "execution_count": 10,
   "metadata": {
    "ExecuteTime": {
     "end_time": "2019-07-30T09:11:49.937363Z",
     "start_time": "2019-07-30T09:11:49.316983Z"
    }
   },
   "outputs": [
    {
     "data": {
      "text/plain": [
       "SR Type Code               0\n",
       "SR Description             0\n",
       "Owning Department          0\n",
       "Method Received            0\n",
       "Created Date            5889\n",
       "City                     716\n",
       "Zip Code                2500\n",
       "County                  6590\n",
       "Latitude Coordinate       70\n",
       "Longitude Coordinate      70\n",
       "dtype: int64"
      ]
     },
     "execution_count": 10,
     "metadata": {},
     "output_type": "execute_result"
    }
   ],
   "source": [
    "df.isnull().sum()"
   ]
  },
  {
   "cell_type": "markdown",
   "metadata": {},
   "source": [
    "After eliminating rows with no location information, we can now dive into missing `Latitude Longitude` coordinate values, as they are important to our analysis.\n",
    "\n",
    "#### Drop Missing Lat., Long. Coordinates"
   ]
  },
  {
   "cell_type": "code",
   "execution_count": 12,
   "metadata": {
    "ExecuteTime": {
     "end_time": "2019-07-30T09:11:50.193774Z",
     "start_time": "2019-07-30T09:11:49.996217Z"
    }
   },
   "outputs": [
    {
     "name": "stdout",
     "output_type": "stream",
     "text": [
      "Before dimensions:  (738061, 10)\n",
      "After dimensions:  (737991, 10)\n"
     ]
    },
    {
     "data": {
      "text/html": [
       "<div>\n",
       "<style scoped>\n",
       "    .dataframe tbody tr th:only-of-type {\n",
       "        vertical-align: middle;\n",
       "    }\n",
       "\n",
       "    .dataframe tbody tr th {\n",
       "        vertical-align: top;\n",
       "    }\n",
       "\n",
       "    .dataframe thead th {\n",
       "        text-align: right;\n",
       "    }\n",
       "</style>\n",
       "<table border=\"1\" class=\"dataframe\">\n",
       "  <thead>\n",
       "    <tr style=\"text-align: right;\">\n",
       "      <th></th>\n",
       "      <th>SR Type Code</th>\n",
       "      <th>SR Description</th>\n",
       "      <th>Owning Department</th>\n",
       "      <th>Method Received</th>\n",
       "      <th>Created Date</th>\n",
       "      <th>City</th>\n",
       "      <th>Zip Code</th>\n",
       "      <th>County</th>\n",
       "      <th>Latitude Coordinate</th>\n",
       "      <th>Longitude Coordinate</th>\n",
       "    </tr>\n",
       "  </thead>\n",
       "  <tbody>\n",
       "    <tr>\n",
       "      <th>0</th>\n",
       "      <td>TRASIGMA</td>\n",
       "      <td>Traffic Signal - Maintenance</td>\n",
       "      <td>Transportation</td>\n",
       "      <td>Phone</td>\n",
       "      <td>05/06/2016 12:01:46 PM</td>\n",
       "      <td>AUSTIN</td>\n",
       "      <td>78703.0</td>\n",
       "      <td>TRAVIS</td>\n",
       "      <td>30.296699</td>\n",
       "      <td>-97.768264</td>\n",
       "    </tr>\n",
       "    <tr>\n",
       "      <th>1</th>\n",
       "      <td>TRASIGMA</td>\n",
       "      <td>Traffic Signal - Maintenance</td>\n",
       "      <td>Transportation</td>\n",
       "      <td>Phone</td>\n",
       "      <td>05/06/2016 07:51:27 PM</td>\n",
       "      <td>AUSTIN</td>\n",
       "      <td>78745.0</td>\n",
       "      <td>TRAVIS</td>\n",
       "      <td>30.212695</td>\n",
       "      <td>-97.801521</td>\n",
       "    </tr>\n",
       "    <tr>\n",
       "      <th>2</th>\n",
       "      <td>TRASIGMA</td>\n",
       "      <td>Traffic Signal - Maintenance</td>\n",
       "      <td>Transportation</td>\n",
       "      <td>Phone</td>\n",
       "      <td>05/06/2016 08:22:56 PM</td>\n",
       "      <td>AUSTIN</td>\n",
       "      <td>78745.0</td>\n",
       "      <td>TRAVIS</td>\n",
       "      <td>30.212695</td>\n",
       "      <td>-97.801521</td>\n",
       "    </tr>\n",
       "    <tr>\n",
       "      <th>3</th>\n",
       "      <td>SWSDEADA</td>\n",
       "      <td>ARR Dead Animal Collection</td>\n",
       "      <td>Austin Resource Recovery</td>\n",
       "      <td>Phone</td>\n",
       "      <td>12/15/2016 06:41:40 AM</td>\n",
       "      <td>AUSTIN</td>\n",
       "      <td>78741.0</td>\n",
       "      <td>TRAVIS</td>\n",
       "      <td>30.230164</td>\n",
       "      <td>-97.731776</td>\n",
       "    </tr>\n",
       "    <tr>\n",
       "      <th>4</th>\n",
       "      <td>TRASIGMA</td>\n",
       "      <td>Traffic Signal - Maintenance</td>\n",
       "      <td>Transportation</td>\n",
       "      <td>Phone</td>\n",
       "      <td>05/06/2016 05:03:45 PM</td>\n",
       "      <td>AUSTIN</td>\n",
       "      <td>78759.0</td>\n",
       "      <td>TRAVIS</td>\n",
       "      <td>30.384989</td>\n",
       "      <td>-97.766471</td>\n",
       "    </tr>\n",
       "  </tbody>\n",
       "</table>\n",
       "</div>"
      ],
      "text/plain": [
       "  SR Type Code                SR Description         Owning Department Method Received            Created Date    City  Zip Code  County  Latitude Coordinate  Longitude Coordinate\n",
       "0     TRASIGMA  Traffic Signal - Maintenance            Transportation           Phone  05/06/2016 12:01:46 PM  AUSTIN   78703.0  TRAVIS            30.296699            -97.768264\n",
       "1     TRASIGMA  Traffic Signal - Maintenance            Transportation           Phone  05/06/2016 07:51:27 PM  AUSTIN   78745.0  TRAVIS            30.212695            -97.801521\n",
       "2     TRASIGMA  Traffic Signal - Maintenance            Transportation           Phone  05/06/2016 08:22:56 PM  AUSTIN   78745.0  TRAVIS            30.212695            -97.801521\n",
       "3     SWSDEADA    ARR Dead Animal Collection  Austin Resource Recovery           Phone  12/15/2016 06:41:40 AM  AUSTIN   78741.0  TRAVIS            30.230164            -97.731776\n",
       "4     TRASIGMA  Traffic Signal - Maintenance            Transportation           Phone  05/06/2016 05:03:45 PM  AUSTIN   78759.0  TRAVIS            30.384989            -97.766471"
      ]
     },
     "execution_count": 12,
     "metadata": {},
     "output_type": "execute_result"
    }
   ],
   "source": [
    "print('Before dimensions: ', df.shape)\n",
    "df = df.loc[df[['Latitude Coordinate', 'Longitude Coordinate']].notnull().values.any(axis=1)]\n",
    "print('After dimensions: ', df.shape)\n",
    "df.head()"
   ]
  },
  {
   "cell_type": "markdown",
   "metadata": {},
   "source": [
    "#### Drop Missing Zipcodes"
   ]
  },
  {
   "cell_type": "markdown",
   "metadata": {},
   "source": [
    "> NOTE: We can actually reverse geocode location info like, Street Address, City, County, Zip Code, and State using something like [Google Maps Reverse Geocode API](https://developers.google.com/maps/documentation/geocoding/start#reverse), and have that fill in the missing information. \n"
   ]
  },
  {
   "cell_type": "code",
   "execution_count": 13,
   "metadata": {
    "ExecuteTime": {
     "end_time": "2019-07-30T09:11:50.374191Z",
     "start_time": "2019-07-30T09:11:50.198122Z"
    }
   },
   "outputs": [
    {
     "name": "stdout",
     "output_type": "stream",
     "text": [
      "Before dimensions:  (737991, 10)\n",
      "After dimensions:  (735502, 10)\n"
     ]
    },
    {
     "data": {
      "text/html": [
       "<div>\n",
       "<style scoped>\n",
       "    .dataframe tbody tr th:only-of-type {\n",
       "        vertical-align: middle;\n",
       "    }\n",
       "\n",
       "    .dataframe tbody tr th {\n",
       "        vertical-align: top;\n",
       "    }\n",
       "\n",
       "    .dataframe thead th {\n",
       "        text-align: right;\n",
       "    }\n",
       "</style>\n",
       "<table border=\"1\" class=\"dataframe\">\n",
       "  <thead>\n",
       "    <tr style=\"text-align: right;\">\n",
       "      <th></th>\n",
       "      <th>SR Type Code</th>\n",
       "      <th>SR Description</th>\n",
       "      <th>Owning Department</th>\n",
       "      <th>Method Received</th>\n",
       "      <th>Created Date</th>\n",
       "      <th>City</th>\n",
       "      <th>Zip Code</th>\n",
       "      <th>County</th>\n",
       "      <th>Latitude Coordinate</th>\n",
       "      <th>Longitude Coordinate</th>\n",
       "    </tr>\n",
       "  </thead>\n",
       "  <tbody>\n",
       "    <tr>\n",
       "      <th>0</th>\n",
       "      <td>TRASIGMA</td>\n",
       "      <td>Traffic Signal - Maintenance</td>\n",
       "      <td>Transportation</td>\n",
       "      <td>Phone</td>\n",
       "      <td>05/06/2016 12:01:46 PM</td>\n",
       "      <td>AUSTIN</td>\n",
       "      <td>78703.0</td>\n",
       "      <td>TRAVIS</td>\n",
       "      <td>30.296699</td>\n",
       "      <td>-97.768264</td>\n",
       "    </tr>\n",
       "    <tr>\n",
       "      <th>1</th>\n",
       "      <td>TRASIGMA</td>\n",
       "      <td>Traffic Signal - Maintenance</td>\n",
       "      <td>Transportation</td>\n",
       "      <td>Phone</td>\n",
       "      <td>05/06/2016 07:51:27 PM</td>\n",
       "      <td>AUSTIN</td>\n",
       "      <td>78745.0</td>\n",
       "      <td>TRAVIS</td>\n",
       "      <td>30.212695</td>\n",
       "      <td>-97.801521</td>\n",
       "    </tr>\n",
       "    <tr>\n",
       "      <th>2</th>\n",
       "      <td>TRASIGMA</td>\n",
       "      <td>Traffic Signal - Maintenance</td>\n",
       "      <td>Transportation</td>\n",
       "      <td>Phone</td>\n",
       "      <td>05/06/2016 08:22:56 PM</td>\n",
       "      <td>AUSTIN</td>\n",
       "      <td>78745.0</td>\n",
       "      <td>TRAVIS</td>\n",
       "      <td>30.212695</td>\n",
       "      <td>-97.801521</td>\n",
       "    </tr>\n",
       "    <tr>\n",
       "      <th>3</th>\n",
       "      <td>SWSDEADA</td>\n",
       "      <td>ARR Dead Animal Collection</td>\n",
       "      <td>Austin Resource Recovery</td>\n",
       "      <td>Phone</td>\n",
       "      <td>12/15/2016 06:41:40 AM</td>\n",
       "      <td>AUSTIN</td>\n",
       "      <td>78741.0</td>\n",
       "      <td>TRAVIS</td>\n",
       "      <td>30.230164</td>\n",
       "      <td>-97.731776</td>\n",
       "    </tr>\n",
       "    <tr>\n",
       "      <th>4</th>\n",
       "      <td>TRASIGMA</td>\n",
       "      <td>Traffic Signal - Maintenance</td>\n",
       "      <td>Transportation</td>\n",
       "      <td>Phone</td>\n",
       "      <td>05/06/2016 05:03:45 PM</td>\n",
       "      <td>AUSTIN</td>\n",
       "      <td>78759.0</td>\n",
       "      <td>TRAVIS</td>\n",
       "      <td>30.384989</td>\n",
       "      <td>-97.766471</td>\n",
       "    </tr>\n",
       "  </tbody>\n",
       "</table>\n",
       "</div>"
      ],
      "text/plain": [
       "  SR Type Code                SR Description         Owning Department Method Received            Created Date    City  Zip Code  County  Latitude Coordinate  Longitude Coordinate\n",
       "0     TRASIGMA  Traffic Signal - Maintenance            Transportation           Phone  05/06/2016 12:01:46 PM  AUSTIN   78703.0  TRAVIS            30.296699            -97.768264\n",
       "1     TRASIGMA  Traffic Signal - Maintenance            Transportation           Phone  05/06/2016 07:51:27 PM  AUSTIN   78745.0  TRAVIS            30.212695            -97.801521\n",
       "2     TRASIGMA  Traffic Signal - Maintenance            Transportation           Phone  05/06/2016 08:22:56 PM  AUSTIN   78745.0  TRAVIS            30.212695            -97.801521\n",
       "3     SWSDEADA    ARR Dead Animal Collection  Austin Resource Recovery           Phone  12/15/2016 06:41:40 AM  AUSTIN   78741.0  TRAVIS            30.230164            -97.731776\n",
       "4     TRASIGMA  Traffic Signal - Maintenance            Transportation           Phone  05/06/2016 05:03:45 PM  AUSTIN   78759.0  TRAVIS            30.384989            -97.766471"
      ]
     },
     "execution_count": 13,
     "metadata": {},
     "output_type": "execute_result"
    }
   ],
   "source": [
    "print('Before dimensions: ', df.shape)\n",
    "df = df.loc[df['Zip Code'].notnull().values]\n",
    "print('After dimensions: ', df.shape)\n",
    "df.head()"
   ]
  },
  {
   "cell_type": "markdown",
   "metadata": {},
   "source": [
    "### Filter out rows that match Zipcodes from Austin and Travis County"
   ]
  },
  {
   "cell_type": "markdown",
   "metadata": {},
   "source": [
    "Let's use official City of Austin's to figure out Zip Codes under city territory.\n",
    "\n",
    "![](https://i.imgur.com/kdG5bxm.png)\n"
   ]
  },
  {
   "cell_type": "markdown",
   "metadata": {},
   "source": [
    "All of the polygons with zipcodes intersecting under blue-shaded region are under `City of Austin's` jurisdiction, but it's hazy at best, so we will keep all those complaints, under those zipcodes. "
   ]
  },
  {
   "cell_type": "code",
   "execution_count": 14,
   "metadata": {
    "ExecuteTime": {
     "end_time": "2019-07-30T09:11:50.579044Z",
     "start_time": "2019-07-30T09:11:50.378011Z"
    }
   },
   "outputs": [
    {
     "name": "stdout",
     "output_type": "stream",
     "text": [
      "Before dimensions:  (735502, 10)\n",
      "After dimensions:  (721244, 10)\n"
     ]
    },
    {
     "data": {
      "text/html": [
       "<div>\n",
       "<style scoped>\n",
       "    .dataframe tbody tr th:only-of-type {\n",
       "        vertical-align: middle;\n",
       "    }\n",
       "\n",
       "    .dataframe tbody tr th {\n",
       "        vertical-align: top;\n",
       "    }\n",
       "\n",
       "    .dataframe thead th {\n",
       "        text-align: right;\n",
       "    }\n",
       "</style>\n",
       "<table border=\"1\" class=\"dataframe\">\n",
       "  <thead>\n",
       "    <tr style=\"text-align: right;\">\n",
       "      <th></th>\n",
       "      <th>SR Type Code</th>\n",
       "      <th>SR Description</th>\n",
       "      <th>Owning Department</th>\n",
       "      <th>Method Received</th>\n",
       "      <th>Created Date</th>\n",
       "      <th>City</th>\n",
       "      <th>Zip Code</th>\n",
       "      <th>County</th>\n",
       "      <th>Latitude Coordinate</th>\n",
       "      <th>Longitude Coordinate</th>\n",
       "    </tr>\n",
       "  </thead>\n",
       "  <tbody>\n",
       "    <tr>\n",
       "      <th>0</th>\n",
       "      <td>TRASIGMA</td>\n",
       "      <td>Traffic Signal - Maintenance</td>\n",
       "      <td>Transportation</td>\n",
       "      <td>Phone</td>\n",
       "      <td>05/06/2016 12:01:46 PM</td>\n",
       "      <td>AUSTIN</td>\n",
       "      <td>78703.0</td>\n",
       "      <td>TRAVIS</td>\n",
       "      <td>30.296699</td>\n",
       "      <td>-97.768264</td>\n",
       "    </tr>\n",
       "    <tr>\n",
       "      <th>1</th>\n",
       "      <td>TRASIGMA</td>\n",
       "      <td>Traffic Signal - Maintenance</td>\n",
       "      <td>Transportation</td>\n",
       "      <td>Phone</td>\n",
       "      <td>05/06/2016 07:51:27 PM</td>\n",
       "      <td>AUSTIN</td>\n",
       "      <td>78745.0</td>\n",
       "      <td>TRAVIS</td>\n",
       "      <td>30.212695</td>\n",
       "      <td>-97.801521</td>\n",
       "    </tr>\n",
       "    <tr>\n",
       "      <th>2</th>\n",
       "      <td>TRASIGMA</td>\n",
       "      <td>Traffic Signal - Maintenance</td>\n",
       "      <td>Transportation</td>\n",
       "      <td>Phone</td>\n",
       "      <td>05/06/2016 08:22:56 PM</td>\n",
       "      <td>AUSTIN</td>\n",
       "      <td>78745.0</td>\n",
       "      <td>TRAVIS</td>\n",
       "      <td>30.212695</td>\n",
       "      <td>-97.801521</td>\n",
       "    </tr>\n",
       "    <tr>\n",
       "      <th>3</th>\n",
       "      <td>SWSDEADA</td>\n",
       "      <td>ARR Dead Animal Collection</td>\n",
       "      <td>Austin Resource Recovery</td>\n",
       "      <td>Phone</td>\n",
       "      <td>12/15/2016 06:41:40 AM</td>\n",
       "      <td>AUSTIN</td>\n",
       "      <td>78741.0</td>\n",
       "      <td>TRAVIS</td>\n",
       "      <td>30.230164</td>\n",
       "      <td>-97.731776</td>\n",
       "    </tr>\n",
       "    <tr>\n",
       "      <th>4</th>\n",
       "      <td>TRASIGMA</td>\n",
       "      <td>Traffic Signal - Maintenance</td>\n",
       "      <td>Transportation</td>\n",
       "      <td>Phone</td>\n",
       "      <td>05/06/2016 05:03:45 PM</td>\n",
       "      <td>AUSTIN</td>\n",
       "      <td>78759.0</td>\n",
       "      <td>TRAVIS</td>\n",
       "      <td>30.384989</td>\n",
       "      <td>-97.766471</td>\n",
       "    </tr>\n",
       "  </tbody>\n",
       "</table>\n",
       "</div>"
      ],
      "text/plain": [
       "  SR Type Code                SR Description         Owning Department Method Received            Created Date    City  Zip Code  County  Latitude Coordinate  Longitude Coordinate\n",
       "0     TRASIGMA  Traffic Signal - Maintenance            Transportation           Phone  05/06/2016 12:01:46 PM  AUSTIN   78703.0  TRAVIS            30.296699            -97.768264\n",
       "1     TRASIGMA  Traffic Signal - Maintenance            Transportation           Phone  05/06/2016 07:51:27 PM  AUSTIN   78745.0  TRAVIS            30.212695            -97.801521\n",
       "2     TRASIGMA  Traffic Signal - Maintenance            Transportation           Phone  05/06/2016 08:22:56 PM  AUSTIN   78745.0  TRAVIS            30.212695            -97.801521\n",
       "3     SWSDEADA    ARR Dead Animal Collection  Austin Resource Recovery           Phone  12/15/2016 06:41:40 AM  AUSTIN   78741.0  TRAVIS            30.230164            -97.731776\n",
       "4     TRASIGMA  Traffic Signal - Maintenance            Transportation           Phone  05/06/2016 05:03:45 PM  AUSTIN   78759.0  TRAVIS            30.384989            -97.766471"
      ]
     },
     "execution_count": 14,
     "metadata": {},
     "output_type": "execute_result"
    }
   ],
   "source": [
    "austin_zipcodes = \"\"\"\n",
    "78701,78702,78703,78704,78705,\n",
    "78721,78722,78723,78724,78725,\n",
    "78726,78727,78728,78729,78730,\n",
    "78731,78732,78733,78734,78735,\n",
    "78736,78737,78738,78739,78741,\n",
    "78742,78744,78745,78746,78747,\n",
    "78748,78749,78750,78751,78752,\n",
    "78753,78754,78756,78757,78758,\n",
    "78759,78610,78617,78653,78660\n",
    "\"\"\".split(',')\n",
    "austin_zipcodes = [x.strip() for x in austin_zipcodes]\n",
    "print('Before dimensions: ', df.shape)\n",
    "df = df.loc[df['Zip Code'].isin(np.array(austin_zipcodes))]\n",
    "print('After dimensions: ', df.shape)\n",
    "df.head()"
   ]
  },
  {
   "cell_type": "code",
   "execution_count": 15,
   "metadata": {
    "ExecuteTime": {
     "end_time": "2019-07-30T09:11:50.753688Z",
     "start_time": "2019-07-30T09:11:50.583295Z"
    }
   },
   "outputs": [
    {
     "data": {
      "text/plain": [
       "TRAVIS        702371\n",
       "WILLIAMSON     13758\n",
       "NaN             5020\n",
       "HAYS              76\n",
       "BASTROP           19\n",
       "Name: County, dtype: int64"
      ]
     },
     "execution_count": 15,
     "metadata": {},
     "output_type": "execute_result"
    }
   ],
   "source": [
    "df['County'].value_counts(dropna=False)"
   ]
  },
  {
   "cell_type": "markdown",
   "metadata": {
    "ExecuteTime": {
     "end_time": "2019-07-30T01:54:15.840935Z",
     "start_time": "2019-07-30T01:54:15.359601Z"
    }
   },
   "source": [
    "### Clean `city` column"
   ]
  },
  {
   "cell_type": "markdown",
   "metadata": {},
   "source": [
    "#### Strip leading and trailing whitespaces first from entire dataframe\n",
    "\n",
    "##### Before Stripping whitespaces"
   ]
  },
  {
   "cell_type": "code",
   "execution_count": 16,
   "metadata": {
    "ExecuteTime": {
     "end_time": "2019-07-30T09:11:51.585272Z",
     "start_time": "2019-07-30T09:11:50.758374Z"
    }
   },
   "outputs": [
    {
     "data": {
      "text/plain": [
       "SR Type Code               0\n",
       "SR Description             0\n",
       "Owning Department          0\n",
       "Method Received            0\n",
       "Created Date            5732\n",
       "City                     326\n",
       "Zip Code                   0\n",
       "County                  5020\n",
       "Latitude Coordinate        0\n",
       "Longitude Coordinate       0\n",
       "dtype: int64"
      ]
     },
     "execution_count": 16,
     "metadata": {},
     "output_type": "execute_result"
    }
   ],
   "source": [
    "df.isnull().sum()"
   ]
  },
  {
   "cell_type": "code",
   "execution_count": 17,
   "metadata": {
    "ExecuteTime": {
     "end_time": "2019-07-30T09:11:55.783450Z",
     "start_time": "2019-07-30T09:11:51.589155Z"
    }
   },
   "outputs": [],
   "source": [
    "df = df.apply(lambda x: x.str.strip() if x.dtype == \"object\" else x)\n",
    "df.replace('', np.NaN, inplace=True)"
   ]
  },
  {
   "cell_type": "markdown",
   "metadata": {},
   "source": [
    "##### After stripping whitespaces"
   ]
  },
  {
   "cell_type": "code",
   "execution_count": 18,
   "metadata": {
    "ExecuteTime": {
     "end_time": "2019-07-30T09:11:56.390703Z",
     "start_time": "2019-07-30T09:11:55.787461Z"
    }
   },
   "outputs": [
    {
     "data": {
      "text/plain": [
       "SR Type Code               0\n",
       "SR Description             0\n",
       "Owning Department          0\n",
       "Method Received            0\n",
       "Created Date            5732\n",
       "City                     326\n",
       "Zip Code                   0\n",
       "County                  5020\n",
       "Latitude Coordinate        0\n",
       "Longitude Coordinate       0\n",
       "dtype: int64"
      ]
     },
     "execution_count": 18,
     "metadata": {},
     "output_type": "execute_result"
    }
   ],
   "source": [
    "df.isnull().sum()"
   ]
  },
  {
   "cell_type": "markdown",
   "metadata": {},
   "source": [
    "#### Let's start by fixing casing of `City` and `County` columns to `Title Case`, and fix any misspellings."
   ]
  },
  {
   "cell_type": "code",
   "execution_count": 19,
   "metadata": {
    "ExecuteTime": {
     "end_time": "2019-07-30T09:11:57.142429Z",
     "start_time": "2019-07-30T09:11:56.395144Z"
    }
   },
   "outputs": [
    {
     "data": {
      "text/plain": [
       "Travis        702371\n",
       "Williamson     13758\n",
       "NaN             5020\n",
       "Hays              76\n",
       "Bastrop           19\n",
       "Name: County, dtype: int64"
      ]
     },
     "execution_count": 19,
     "metadata": {},
     "output_type": "execute_result"
    }
   ],
   "source": [
    "df['County'] = df['County'].str.title()\n",
    "df['County'].value_counts(dropna=False).sort_values(ascending=False)"
   ]
  },
  {
   "cell_type": "code",
   "execution_count": 20,
   "metadata": {
    "ExecuteTime": {
     "end_time": "2019-07-30T09:11:57.888869Z",
     "start_time": "2019-07-30T09:11:57.146385Z"
    }
   },
   "outputs": [
    {
     "data": {
      "text/plain": [
       "Austin                      710153\n",
       "Pflugerville                  3013\n",
       "Del Valle                     2232\n",
       "Manor                         1723\n",
       "Austin 5 Etj                  1111\n",
       "Bee Cave                       442\n",
       "Sunset Valley                  421\n",
       "NaN                            326\n",
       "Lakeway                        315\n",
       "West Lake Hills                261\n",
       "Mustang Ridge                  170\n",
       "West Lake Hill                 167\n",
       "Buda                           142\n",
       "Rollingwood                    136\n",
       "Creedmoor                      116\n",
       "Travis                         111\n",
       "Webberville                     88\n",
       "Other                           46\n",
       "The Hills                       43\n",
       "Round Rock                      42\n",
       "Cedar Park                      23\n",
       "Austn                           23\n",
       "San Leanna                      18\n",
       "Dripping Springs                15\n",
       "Dripping Sprin                  15\n",
       "Hays                            11\n",
       "Manchaca                         9\n",
       "Lago Vista                       9\n",
       "West Lake Hil                    8\n",
       "Leander                          6\n",
       "Aus                              6\n",
       "Jonestown                        6\n",
       "Georgetown                       5\n",
       "Village Of Mustang Ridge         4\n",
       "Village Of Webberville           3\n",
       "Austi                            3\n",
       "Ausitn                           3\n",
       "Aust                             2\n",
       "Atx                              2\n",
       "Village Of The Hills             2\n",
       "Bear Creek                       2\n",
       "Austin.                          2\n",
       "Austibn                          1\n",
       "Bastrop                          1\n",
       "Au                               1\n",
       "Austin `                         1\n",
       "Oak Hill                         1\n",
       "Mountain City                    1\n",
       "Dale                             1\n",
       "Cedar Creek                      1\n",
       "Village Of Creedmoor             1\n",
       "Name: City, dtype: int64"
      ]
     },
     "execution_count": 20,
     "metadata": {},
     "output_type": "execute_result"
    }
   ],
   "source": [
    "df['City'] = df['City'].str.title()\n",
    "df['City'].value_counts(dropna=False).sort_values(ascending=False)"
   ]
  },
  {
   "cell_type": "markdown",
   "metadata": {},
   "source": [
    "Not so surprisingly we have so many typos, and misspellings, which we can fix, but surprisingly there are calls from cities that are miles apart like `Houston`, `Dallas`, etc.., so let's keep those that are only from `City of Austin` in Travis County which is our main focus."
   ]
  },
  {
   "cell_type": "markdown",
   "metadata": {},
   "source": [
    "##### Austin and it's Extraterritorial Jurisdiction"
   ]
  },
  {
   "cell_type": "markdown",
   "metadata": {},
   "source": [
    "Another thing to note is `Austin's 5 ETJ's` (Extraterritorial Jurisdiction) refers to cities, is the legal capability of a municipality to exercise authority beyond the boundaries of its incorporated area. In the US, Texas is one of the states that by law allow cities to claim ETJ to contiguous land beyond their city limits.  Austin’s ETJ currently extends into 4 counties including Williamson, Travis, Hays, and Bastrop."
   ]
  },
  {
   "cell_type": "code",
   "execution_count": 21,
   "metadata": {
    "ExecuteTime": {
     "end_time": "2019-07-30T09:11:58.566967Z",
     "start_time": "2019-07-30T09:11:57.893045Z"
    }
   },
   "outputs": [
    {
     "data": {
      "text/plain": [
       "Travis     1089\n",
       "Hays          9\n",
       "NaN           7\n",
       "Bastrop       6\n",
       "Name: County, dtype: int64"
      ]
     },
     "execution_count": 21,
     "metadata": {},
     "output_type": "execute_result"
    }
   ],
   "source": [
    "df.loc[df['City'].str.contains('Austin 5 Etj', na=False), 'County'].value_counts(dropna=False)"
   ]
  },
  {
   "cell_type": "code",
   "execution_count": 22,
   "metadata": {
    "ExecuteTime": {
     "end_time": "2019-07-30T09:11:59.256892Z",
     "start_time": "2019-07-30T09:11:58.570719Z"
    }
   },
   "outputs": [
    {
     "data": {
      "text/plain": [
       "78610.0     26\n",
       "78617.0    171\n",
       "78653.0    315\n",
       "78660.0      2\n",
       "78724.0     16\n",
       "78725.0    328\n",
       "78733.0     10\n",
       "78734.0    103\n",
       "78735.0     31\n",
       "78736.0     25\n",
       "78737.0     43\n",
       "78738.0      5\n",
       "78747.0     35\n",
       "78758.0      1\n",
       "Name: Zip Code, dtype: int64"
      ]
     },
     "execution_count": 22,
     "metadata": {},
     "output_type": "execute_result"
    }
   ],
   "source": [
    "df.loc[df['City'].str.contains('Austin 5 Etj', na=False), 'Zip Code'].value_counts(dropna=False).sort_index()"
   ]
  },
  {
   "cell_type": "markdown",
   "metadata": {},
   "source": [
    "#### Fix `Austin` related typos and misspellings"
   ]
  },
  {
   "cell_type": "code",
   "execution_count": 23,
   "metadata": {
    "ExecuteTime": {
     "end_time": "2019-07-30T09:12:00.133749Z",
     "start_time": "2019-07-30T09:11:59.260639Z"
    }
   },
   "outputs": [
    {
     "data": {
      "text/plain": [
       "Austin                      710194\n",
       "Pflugerville                  3013\n",
       "Del Valle                     2232\n",
       "Manor                         1723\n",
       "Austin 5 Etj                  1111\n",
       "Bee Cave                       442\n",
       "Sunset Valley                  421\n",
       "NaN                            326\n",
       "Lakeway                        315\n",
       "West Lake Hills                261\n",
       "Mustang Ridge                  170\n",
       "West Lake Hill                 167\n",
       "Buda                           142\n",
       "Rollingwood                    136\n",
       "Creedmoor                      116\n",
       "Travis                         111\n",
       "Webberville                     88\n",
       "Other                           46\n",
       "The Hills                       43\n",
       "Round Rock                      42\n",
       "Cedar Park                      23\n",
       "San Leanna                      18\n",
       "Dripping Sprin                  15\n",
       "Dripping Springs                15\n",
       "Hays                            11\n",
       "Lago Vista                       9\n",
       "Manchaca                         9\n",
       "West Lake Hil                    8\n",
       "Leander                          6\n",
       "Jonestown                        6\n",
       "Georgetown                       5\n",
       "Village Of Mustang Ridge         4\n",
       "Village Of Webberville           3\n",
       "Atx                              2\n",
       "Bear Creek                       2\n",
       "Village Of The Hills             2\n",
       "Au                               1\n",
       "Mountain City                    1\n",
       "Bastrop                          1\n",
       "Oak Hill                         1\n",
       "Cedar Creek                      1\n",
       "Dale                             1\n",
       "Village Of Creedmoor             1\n",
       "Name: City, dtype: int64"
      ]
     },
     "execution_count": 23,
     "metadata": {},
     "output_type": "execute_result"
    }
   ],
   "source": [
    "df.loc[(df['City'] != 'Austin 5 Etj') & df['City'].str.startswith('Aus', na=False).values, 'City'] = 'Austin'\n",
    "df['City'].value_counts(dropna=False).sort_values(ascending=False)"
   ]
  },
  {
   "cell_type": "markdown",
   "metadata": {},
   "source": [
    "Looks like there is considerable complaints from surrounding territories that are under City of Austin's jurisdiction."
   ]
  },
  {
   "cell_type": "code",
   "execution_count": 24,
   "metadata": {
    "ExecuteTime": {
     "end_time": "2019-07-30T09:12:00.320569Z",
     "start_time": "2019-07-30T09:12:00.137859Z"
    }
   },
   "outputs": [
    {
     "data": {
      "text/plain": [
       "Bastrop           19\n",
       "Hays              76\n",
       "Travis        702371\n",
       "Williamson     13758\n",
       "NaN             5020\n",
       "Name: County, dtype: int64"
      ]
     },
     "execution_count": 24,
     "metadata": {},
     "output_type": "execute_result"
    }
   ],
   "source": [
    "df['County'].value_counts(dropna=False).sort_index()"
   ]
  },
  {
   "cell_type": "code",
   "execution_count": 25,
   "metadata": {
    "ExecuteTime": {
     "end_time": "2019-07-30T09:12:00.640723Z",
     "start_time": "2019-07-30T09:12:00.324293Z"
    }
   },
   "outputs": [
    {
     "data": {
      "text/plain": [
       "County      City                    \n",
       "Bastrop     Austin                           1\n",
       "            Austin 5 Etj                     6\n",
       "            Bastrop                          1\n",
       "            Del Valle                        4\n",
       "            Other                            3\n",
       "Hays        Austin                           7\n",
       "            Austin 5 Etj                     9\n",
       "            Bear Creek                       2\n",
       "            Buda                            25\n",
       "            Dripping Sprin                   7\n",
       "            Dripping Springs                13\n",
       "            Hays                             7\n",
       "            Mountain City                    1\n",
       "Travis      Atx                              2\n",
       "            Au                               1\n",
       "            Austin                      691627\n",
       "            Austin 5 Etj                  1089\n",
       "            Bee Cave                       440\n",
       "            Buda                           101\n",
       "            Cedar Creek                      1\n",
       "            Cedar Park                       7\n",
       "            Creedmoor                      116\n",
       "            Dale                             1\n",
       "            Del Valle                     2205\n",
       "            Dripping Sprin                   1\n",
       "            Georgetown                       5\n",
       "            Hays                             2\n",
       "            Jonestown                        6\n",
       "            Lago Vista                       7\n",
       "            Lakeway                        309\n",
       "            Leander                          5\n",
       "            Manchaca                         9\n",
       "            Manor                         1670\n",
       "            Mustang Ridge                  168\n",
       "            Oak Hill                         1\n",
       "            Other                           43\n",
       "            Pflugerville                  2964\n",
       "            Rollingwood                    135\n",
       "            Round Rock                      37\n",
       "            San Leanna                      17\n",
       "            Sunset Valley                  416\n",
       "            The Hills                       43\n",
       "            Travis                         108\n",
       "            Village Of Creedmoor             1\n",
       "            Village Of Mustang Ridge         4\n",
       "            Village Of The Hills             2\n",
       "            Village Of Webberville           3\n",
       "            Webberville                     88\n",
       "            West Lake Hil                    8\n",
       "            West Lake Hill                 163\n",
       "            West Lake Hills                259\n",
       "Williamson  Austin                       13728\n",
       "            Cedar Park                      15\n",
       "            Lago Vista                       2\n",
       "            Leander                          1\n",
       "            Round Rock                       3\n",
       "            Travis                           3\n",
       "dtype: int64"
      ]
     },
     "execution_count": 25,
     "metadata": {},
     "output_type": "execute_result"
    }
   ],
   "source": [
    "df[['County', 'City']].groupby(['County', 'City']).size()"
   ]
  },
  {
   "cell_type": "markdown",
   "metadata": {},
   "source": [
    "Looks like there are discrepancies in the data as `Austin` is in `Williamson`, `Bastrop`, and `Hays`, while the zipcodes we filtered only pertained to `City of Austin` territories in `Travis` county.\n",
    "\n",
    "As we noted earlier, using Google Maps API to reverse geocode to actual data would need to be done to assert the validity of `Zip Code`, `City` and `County`. "
   ]
  },
  {
   "cell_type": "markdown",
   "metadata": {},
   "source": [
    "#### Drop duplicate rows"
   ]
  },
  {
   "cell_type": "markdown",
   "metadata": {},
   "source": [
    "Let's check first to see if we have duplicate rows or not,"
   ]
  },
  {
   "cell_type": "code",
   "execution_count": 26,
   "metadata": {
    "ExecuteTime": {
     "end_time": "2019-07-30T09:12:02.162257Z",
     "start_time": "2019-07-30T09:12:00.644870Z"
    }
   },
   "outputs": [
    {
     "data": {
      "text/html": [
       "<div>\n",
       "<style scoped>\n",
       "    .dataframe tbody tr th:only-of-type {\n",
       "        vertical-align: middle;\n",
       "    }\n",
       "\n",
       "    .dataframe tbody tr th {\n",
       "        vertical-align: top;\n",
       "    }\n",
       "\n",
       "    .dataframe thead th {\n",
       "        text-align: right;\n",
       "    }\n",
       "</style>\n",
       "<table border=\"1\" class=\"dataframe\">\n",
       "  <thead>\n",
       "    <tr style=\"text-align: right;\">\n",
       "      <th></th>\n",
       "      <th>SR Type Code</th>\n",
       "      <th>SR Description</th>\n",
       "      <th>Owning Department</th>\n",
       "      <th>Method Received</th>\n",
       "      <th>Created Date</th>\n",
       "      <th>City</th>\n",
       "      <th>Zip Code</th>\n",
       "      <th>County</th>\n",
       "      <th>Latitude Coordinate</th>\n",
       "      <th>Longitude Coordinate</th>\n",
       "    </tr>\n",
       "  </thead>\n",
       "  <tbody>\n",
       "    <tr>\n",
       "      <th>428381</th>\n",
       "      <td>CODECOMP</td>\n",
       "      <td>Austin Code - Request Code Officer</td>\n",
       "      <td>Austin Code Department</td>\n",
       "      <td>Phone</td>\n",
       "      <td>NaN</td>\n",
       "      <td>Austin</td>\n",
       "      <td>78758.0</td>\n",
       "      <td>Travis</td>\n",
       "      <td>30.384168</td>\n",
       "      <td>-97.707233</td>\n",
       "    </tr>\n",
       "    <tr>\n",
       "      <th>429425</th>\n",
       "      <td>LOUDMUS1</td>\n",
       "      <td>Loud Commercial Music</td>\n",
       "      <td>Economic Development Department</td>\n",
       "      <td>Spot311 Interface</td>\n",
       "      <td>NaN</td>\n",
       "      <td>Austin</td>\n",
       "      <td>78701.0</td>\n",
       "      <td>Travis</td>\n",
       "      <td>30.269579</td>\n",
       "      <td>-97.749178</td>\n",
       "    </tr>\n",
       "    <tr>\n",
       "      <th>345783</th>\n",
       "      <td>HHSGRAFF</td>\n",
       "      <td>Graffiti Abatement</td>\n",
       "      <td>Health &amp; Human Services</td>\n",
       "      <td>Mass Entry</td>\n",
       "      <td>11/30/2015 12:00:00 AM</td>\n",
       "      <td>Austin</td>\n",
       "      <td>78702.0</td>\n",
       "      <td>Travis</td>\n",
       "      <td>30.255428</td>\n",
       "      <td>-97.707451</td>\n",
       "    </tr>\n",
       "    <tr>\n",
       "      <th>120188</th>\n",
       "      <td>HHSGRAFF</td>\n",
       "      <td>Graffiti Abatement</td>\n",
       "      <td>Health &amp; Human Services</td>\n",
       "      <td>Mass Entry</td>\n",
       "      <td>04/01/2014 12:00:00 AM</td>\n",
       "      <td>Austin</td>\n",
       "      <td>78704.0</td>\n",
       "      <td>Travis</td>\n",
       "      <td>30.250651</td>\n",
       "      <td>-97.754705</td>\n",
       "    </tr>\n",
       "    <tr>\n",
       "      <th>360240</th>\n",
       "      <td>HHSGRAFF</td>\n",
       "      <td>Graffiti Abatement</td>\n",
       "      <td>Health &amp; Human Services</td>\n",
       "      <td>Mass Entry</td>\n",
       "      <td>01/25/2016 12:00:00 AM</td>\n",
       "      <td>Austin</td>\n",
       "      <td>78704.0</td>\n",
       "      <td>Travis</td>\n",
       "      <td>30.228352</td>\n",
       "      <td>-97.761687</td>\n",
       "    </tr>\n",
       "    <tr>\n",
       "      <th>161133</th>\n",
       "      <td>HHSGRAFF</td>\n",
       "      <td>Graffiti Abatement</td>\n",
       "      <td>Health &amp; Human Services</td>\n",
       "      <td>Mass Entry</td>\n",
       "      <td>08/19/2014 12:00:00 AM</td>\n",
       "      <td>Austin</td>\n",
       "      <td>78701.0</td>\n",
       "      <td>Travis</td>\n",
       "      <td>30.263823</td>\n",
       "      <td>-97.745874</td>\n",
       "    </tr>\n",
       "    <tr>\n",
       "      <th>426787</th>\n",
       "      <td>LOUDMUS1</td>\n",
       "      <td>Loud Commercial Music</td>\n",
       "      <td>Economic Development Department</td>\n",
       "      <td>Phone</td>\n",
       "      <td>NaN</td>\n",
       "      <td>Austin</td>\n",
       "      <td>78701.0</td>\n",
       "      <td>Travis</td>\n",
       "      <td>30.267085</td>\n",
       "      <td>-97.740104</td>\n",
       "    </tr>\n",
       "    <tr>\n",
       "      <th>674242</th>\n",
       "      <td>CODECOMP</td>\n",
       "      <td>Austin Code - Request Code Officer</td>\n",
       "      <td>Austin Code Department</td>\n",
       "      <td>Phone</td>\n",
       "      <td>10/01/2018 04:41:00 PM</td>\n",
       "      <td>Austin</td>\n",
       "      <td>78701.0</td>\n",
       "      <td>Travis</td>\n",
       "      <td>30.264185</td>\n",
       "      <td>-97.743515</td>\n",
       "    </tr>\n",
       "    <tr>\n",
       "      <th>671459</th>\n",
       "      <td>TRASIGMA</td>\n",
       "      <td>Traffic Signal - Maintenance</td>\n",
       "      <td>Transportation</td>\n",
       "      <td>Phone</td>\n",
       "      <td>09/25/2018 05:12:00 PM</td>\n",
       "      <td>Austin</td>\n",
       "      <td>78741.0</td>\n",
       "      <td>Travis</td>\n",
       "      <td>30.233678</td>\n",
       "      <td>-97.723496</td>\n",
       "    </tr>\n",
       "    <tr>\n",
       "      <th>174351</th>\n",
       "      <td>HHSGRAFF</td>\n",
       "      <td>Graffiti Abatement</td>\n",
       "      <td>Health &amp; Human Services</td>\n",
       "      <td>Mass Entry</td>\n",
       "      <td>09/17/2014 12:00:00 AM</td>\n",
       "      <td>Austin</td>\n",
       "      <td>78757.0</td>\n",
       "      <td>Travis</td>\n",
       "      <td>30.339646</td>\n",
       "      <td>-97.730880</td>\n",
       "    </tr>\n",
       "  </tbody>\n",
       "</table>\n",
       "</div>"
      ],
      "text/plain": [
       "       SR Type Code                      SR Description                Owning Department    Method Received            Created Date    City  Zip Code  County  Latitude Coordinate  Longitude Coordinate\n",
       "428381     CODECOMP  Austin Code - Request Code Officer           Austin Code Department              Phone                     NaN  Austin   78758.0  Travis            30.384168            -97.707233\n",
       "429425     LOUDMUS1               Loud Commercial Music  Economic Development Department  Spot311 Interface                     NaN  Austin   78701.0  Travis            30.269579            -97.749178\n",
       "345783     HHSGRAFF                  Graffiti Abatement          Health & Human Services         Mass Entry  11/30/2015 12:00:00 AM  Austin   78702.0  Travis            30.255428            -97.707451\n",
       "120188     HHSGRAFF                  Graffiti Abatement          Health & Human Services         Mass Entry  04/01/2014 12:00:00 AM  Austin   78704.0  Travis            30.250651            -97.754705\n",
       "360240     HHSGRAFF                  Graffiti Abatement          Health & Human Services         Mass Entry  01/25/2016 12:00:00 AM  Austin   78704.0  Travis            30.228352            -97.761687\n",
       "161133     HHSGRAFF                  Graffiti Abatement          Health & Human Services         Mass Entry  08/19/2014 12:00:00 AM  Austin   78701.0  Travis            30.263823            -97.745874\n",
       "426787     LOUDMUS1               Loud Commercial Music  Economic Development Department              Phone                     NaN  Austin   78701.0  Travis            30.267085            -97.740104\n",
       "674242     CODECOMP  Austin Code - Request Code Officer           Austin Code Department              Phone  10/01/2018 04:41:00 PM  Austin   78701.0  Travis            30.264185            -97.743515\n",
       "671459     TRASIGMA        Traffic Signal - Maintenance                   Transportation              Phone  09/25/2018 05:12:00 PM  Austin   78741.0  Travis            30.233678            -97.723496\n",
       "174351     HHSGRAFF                  Graffiti Abatement          Health & Human Services         Mass Entry  09/17/2014 12:00:00 AM  Austin   78757.0  Travis            30.339646            -97.730880"
      ]
     },
     "execution_count": 26,
     "metadata": {},
     "output_type": "execute_result"
    }
   ],
   "source": [
    "df[df.duplicated()].sample(10)"
   ]
  },
  {
   "cell_type": "markdown",
   "metadata": {},
   "source": [
    "Indeed, there are duplicate rows, let's drop them."
   ]
  },
  {
   "cell_type": "code",
   "execution_count": 27,
   "metadata": {
    "ExecuteTime": {
     "end_time": "2019-07-30T09:12:05.275598Z",
     "start_time": "2019-07-30T09:12:02.166042Z"
    }
   },
   "outputs": [
    {
     "name": "stdout",
     "output_type": "stream",
     "text": [
      "Before dimensions:  (721244, 10)\n",
      "After dimensions:  (719528, 10)\n"
     ]
    },
    {
     "data": {
      "text/html": [
       "<div>\n",
       "<style scoped>\n",
       "    .dataframe tbody tr th:only-of-type {\n",
       "        vertical-align: middle;\n",
       "    }\n",
       "\n",
       "    .dataframe tbody tr th {\n",
       "        vertical-align: top;\n",
       "    }\n",
       "\n",
       "    .dataframe thead th {\n",
       "        text-align: right;\n",
       "    }\n",
       "</style>\n",
       "<table border=\"1\" class=\"dataframe\">\n",
       "  <thead>\n",
       "    <tr style=\"text-align: right;\">\n",
       "      <th></th>\n",
       "      <th>SR Type Code</th>\n",
       "      <th>SR Description</th>\n",
       "      <th>Owning Department</th>\n",
       "      <th>Method Received</th>\n",
       "      <th>Created Date</th>\n",
       "      <th>City</th>\n",
       "      <th>Zip Code</th>\n",
       "      <th>County</th>\n",
       "      <th>Latitude Coordinate</th>\n",
       "      <th>Longitude Coordinate</th>\n",
       "    </tr>\n",
       "  </thead>\n",
       "  <tbody>\n",
       "  </tbody>\n",
       "</table>\n",
       "</div>"
      ],
      "text/plain": [
       "Empty DataFrame\n",
       "Columns: [SR Type Code, SR Description, Owning Department, Method Received, Created Date, City, Zip Code, County, Latitude Coordinate, Longitude Coordinate]\n",
       "Index: []"
      ]
     },
     "execution_count": 27,
     "metadata": {},
     "output_type": "execute_result"
    }
   ],
   "source": [
    "print('Before dimensions: ', df.shape)\n",
    "df = df.drop_duplicates()\n",
    "print('After dimensions: ', df.shape)\n",
    "df[df.duplicated()].head() # Check again to see if duplicate rows are dropped"
   ]
  },
  {
   "cell_type": "markdown",
   "metadata": {},
   "source": [
    "Let's now drop the `City` and `County` columns, since we are going to use only `Zip Code` and `Latitude Longitude` columns to map our plots."
   ]
  },
  {
   "cell_type": "markdown",
   "metadata": {},
   "source": [
    "#### Drop `City`, and `County` columns"
   ]
  },
  {
   "cell_type": "code",
   "execution_count": 28,
   "metadata": {
    "ExecuteTime": {
     "end_time": "2019-07-30T09:12:05.539495Z",
     "start_time": "2019-07-30T09:12:05.279251Z"
    }
   },
   "outputs": [
    {
     "data": {
      "text/html": [
       "<div>\n",
       "<style scoped>\n",
       "    .dataframe tbody tr th:only-of-type {\n",
       "        vertical-align: middle;\n",
       "    }\n",
       "\n",
       "    .dataframe tbody tr th {\n",
       "        vertical-align: top;\n",
       "    }\n",
       "\n",
       "    .dataframe thead th {\n",
       "        text-align: right;\n",
       "    }\n",
       "</style>\n",
       "<table border=\"1\" class=\"dataframe\">\n",
       "  <thead>\n",
       "    <tr style=\"text-align: right;\">\n",
       "      <th></th>\n",
       "      <th>SR Type Code</th>\n",
       "      <th>SR Description</th>\n",
       "      <th>Owning Department</th>\n",
       "      <th>Method Received</th>\n",
       "      <th>Created Date</th>\n",
       "      <th>Zip Code</th>\n",
       "      <th>Latitude Coordinate</th>\n",
       "      <th>Longitude Coordinate</th>\n",
       "    </tr>\n",
       "  </thead>\n",
       "  <tbody>\n",
       "    <tr>\n",
       "      <th>0</th>\n",
       "      <td>TRASIGMA</td>\n",
       "      <td>Traffic Signal - Maintenance</td>\n",
       "      <td>Transportation</td>\n",
       "      <td>Phone</td>\n",
       "      <td>05/06/2016 12:01:46 PM</td>\n",
       "      <td>78703.0</td>\n",
       "      <td>30.296699</td>\n",
       "      <td>-97.768264</td>\n",
       "    </tr>\n",
       "    <tr>\n",
       "      <th>1</th>\n",
       "      <td>TRASIGMA</td>\n",
       "      <td>Traffic Signal - Maintenance</td>\n",
       "      <td>Transportation</td>\n",
       "      <td>Phone</td>\n",
       "      <td>05/06/2016 07:51:27 PM</td>\n",
       "      <td>78745.0</td>\n",
       "      <td>30.212695</td>\n",
       "      <td>-97.801521</td>\n",
       "    </tr>\n",
       "    <tr>\n",
       "      <th>2</th>\n",
       "      <td>TRASIGMA</td>\n",
       "      <td>Traffic Signal - Maintenance</td>\n",
       "      <td>Transportation</td>\n",
       "      <td>Phone</td>\n",
       "      <td>05/06/2016 08:22:56 PM</td>\n",
       "      <td>78745.0</td>\n",
       "      <td>30.212695</td>\n",
       "      <td>-97.801521</td>\n",
       "    </tr>\n",
       "    <tr>\n",
       "      <th>3</th>\n",
       "      <td>SWSDEADA</td>\n",
       "      <td>ARR Dead Animal Collection</td>\n",
       "      <td>Austin Resource Recovery</td>\n",
       "      <td>Phone</td>\n",
       "      <td>12/15/2016 06:41:40 AM</td>\n",
       "      <td>78741.0</td>\n",
       "      <td>30.230164</td>\n",
       "      <td>-97.731776</td>\n",
       "    </tr>\n",
       "    <tr>\n",
       "      <th>4</th>\n",
       "      <td>TRASIGMA</td>\n",
       "      <td>Traffic Signal - Maintenance</td>\n",
       "      <td>Transportation</td>\n",
       "      <td>Phone</td>\n",
       "      <td>05/06/2016 05:03:45 PM</td>\n",
       "      <td>78759.0</td>\n",
       "      <td>30.384989</td>\n",
       "      <td>-97.766471</td>\n",
       "    </tr>\n",
       "  </tbody>\n",
       "</table>\n",
       "</div>"
      ],
      "text/plain": [
       "  SR Type Code                SR Description         Owning Department Method Received            Created Date  Zip Code  Latitude Coordinate  Longitude Coordinate\n",
       "0     TRASIGMA  Traffic Signal - Maintenance            Transportation           Phone  05/06/2016 12:01:46 PM   78703.0            30.296699            -97.768264\n",
       "1     TRASIGMA  Traffic Signal - Maintenance            Transportation           Phone  05/06/2016 07:51:27 PM   78745.0            30.212695            -97.801521\n",
       "2     TRASIGMA  Traffic Signal - Maintenance            Transportation           Phone  05/06/2016 08:22:56 PM   78745.0            30.212695            -97.801521\n",
       "3     SWSDEADA    ARR Dead Animal Collection  Austin Resource Recovery           Phone  12/15/2016 06:41:40 AM   78741.0            30.230164            -97.731776\n",
       "4     TRASIGMA  Traffic Signal - Maintenance            Transportation           Phone  05/06/2016 05:03:45 PM   78759.0            30.384989            -97.766471"
      ]
     },
     "execution_count": 28,
     "metadata": {},
     "output_type": "execute_result"
    }
   ],
   "source": [
    "df = df.drop(['City', 'County'], axis=1)\n",
    "df = df.reset_index(drop=True)\n",
    "df.head()"
   ]
  },
  {
   "cell_type": "markdown",
   "metadata": {},
   "source": [
    "#### Drop rows that have no `Created Date`"
   ]
  },
  {
   "cell_type": "markdown",
   "metadata": {},
   "source": [
    "For our analysis to figure when the `Complaint` was noted, we need `Created Date` to be non-null containing column, so let's drop those rows."
   ]
  },
  {
   "cell_type": "code",
   "execution_count": 29,
   "metadata": {
    "ExecuteTime": {
     "end_time": "2019-07-30T09:12:05.637207Z",
     "start_time": "2019-07-30T09:12:05.543262Z"
    }
   },
   "outputs": [
    {
     "data": {
      "text/html": [
       "<div>\n",
       "<style scoped>\n",
       "    .dataframe tbody tr th:only-of-type {\n",
       "        vertical-align: middle;\n",
       "    }\n",
       "\n",
       "    .dataframe tbody tr th {\n",
       "        vertical-align: top;\n",
       "    }\n",
       "\n",
       "    .dataframe thead th {\n",
       "        text-align: right;\n",
       "    }\n",
       "</style>\n",
       "<table border=\"1\" class=\"dataframe\">\n",
       "  <thead>\n",
       "    <tr style=\"text-align: right;\">\n",
       "      <th></th>\n",
       "      <th>SR Type Code</th>\n",
       "      <th>SR Description</th>\n",
       "      <th>Owning Department</th>\n",
       "      <th>Method Received</th>\n",
       "      <th>Created Date</th>\n",
       "      <th>Zip Code</th>\n",
       "      <th>Latitude Coordinate</th>\n",
       "      <th>Longitude Coordinate</th>\n",
       "    </tr>\n",
       "  </thead>\n",
       "  <tbody>\n",
       "    <tr>\n",
       "      <th>404440</th>\n",
       "      <td>DRCHANEL</td>\n",
       "      <td>Channels/Creeks/Drainage Easement</td>\n",
       "      <td>Watershed Protection</td>\n",
       "      <td>Phone</td>\n",
       "      <td>NaN</td>\n",
       "      <td>78748.0</td>\n",
       "      <td>30.145042</td>\n",
       "      <td>-97.807026</td>\n",
       "    </tr>\n",
       "    <tr>\n",
       "      <th>404441</th>\n",
       "      <td>LEAD1</td>\n",
       "      <td>Neighborhood Home Programs</td>\n",
       "      <td>Neighborhood Housing &amp; Community Development</td>\n",
       "      <td>Phone</td>\n",
       "      <td>NaN</td>\n",
       "      <td>78728.0</td>\n",
       "      <td>30.439929</td>\n",
       "      <td>-97.671150</td>\n",
       "    </tr>\n",
       "    <tr>\n",
       "      <th>404442</th>\n",
       "      <td>LEAD1</td>\n",
       "      <td>Neighborhood Home Programs</td>\n",
       "      <td>Neighborhood Housing &amp; Community Development</td>\n",
       "      <td>Phone</td>\n",
       "      <td>NaN</td>\n",
       "      <td>78741.0</td>\n",
       "      <td>30.230990</td>\n",
       "      <td>-97.705644</td>\n",
       "    </tr>\n",
       "    <tr>\n",
       "      <th>404664</th>\n",
       "      <td>SBSIDERE</td>\n",
       "      <td>Sidewalk Repair</td>\n",
       "      <td>Public Works</td>\n",
       "      <td>Spot311 Interface</td>\n",
       "      <td>NaN</td>\n",
       "      <td>78701.0</td>\n",
       "      <td>30.266369</td>\n",
       "      <td>-97.740305</td>\n",
       "    </tr>\n",
       "    <tr>\n",
       "      <th>404671</th>\n",
       "      <td>HHSGRAFF</td>\n",
       "      <td>Public Health - Graffiti Abatement</td>\n",
       "      <td>Public Health</td>\n",
       "      <td>Phone</td>\n",
       "      <td>NaN</td>\n",
       "      <td>78752.0</td>\n",
       "      <td>30.321899</td>\n",
       "      <td>-97.695546</td>\n",
       "    </tr>\n",
       "  </tbody>\n",
       "</table>\n",
       "</div>"
      ],
      "text/plain": [
       "       SR Type Code                      SR Description                             Owning Department    Method Received Created Date  Zip Code  Latitude Coordinate  Longitude Coordinate\n",
       "404440     DRCHANEL   Channels/Creeks/Drainage Easement                          Watershed Protection              Phone          NaN   78748.0            30.145042            -97.807026\n",
       "404441        LEAD1          Neighborhood Home Programs  Neighborhood Housing & Community Development              Phone          NaN   78728.0            30.439929            -97.671150\n",
       "404442        LEAD1          Neighborhood Home Programs  Neighborhood Housing & Community Development              Phone          NaN   78741.0            30.230990            -97.705644\n",
       "404664     SBSIDERE                     Sidewalk Repair                                  Public Works  Spot311 Interface          NaN   78701.0            30.266369            -97.740305\n",
       "404671     HHSGRAFF  Public Health - Graffiti Abatement                                 Public Health              Phone          NaN   78752.0            30.321899            -97.695546"
      ]
     },
     "execution_count": 29,
     "metadata": {},
     "output_type": "execute_result"
    }
   ],
   "source": [
    "df[df['Created Date'].isnull().values].head()"
   ]
  },
  {
   "cell_type": "code",
   "execution_count": 30,
   "metadata": {
    "ExecuteTime": {
     "end_time": "2019-07-30T09:12:06.273891Z",
     "start_time": "2019-07-30T09:12:05.641121Z"
    }
   },
   "outputs": [
    {
     "data": {
      "text/plain": [
       "SR Type Code            0\n",
       "SR Description          0\n",
       "Owning Department       0\n",
       "Method Received         0\n",
       "Created Date            0\n",
       "Zip Code                0\n",
       "Latitude Coordinate     0\n",
       "Longitude Coordinate    0\n",
       "dtype: int64"
      ]
     },
     "execution_count": 30,
     "metadata": {},
     "output_type": "execute_result"
    }
   ],
   "source": [
    "df = df.loc[df['Created Date'].notnull().values]\n",
    "df.isnull().sum()"
   ]
  },
  {
   "cell_type": "markdown",
   "metadata": {},
   "source": [
    "##### Reset the index"
   ]
  },
  {
   "cell_type": "code",
   "execution_count": 31,
   "metadata": {
    "ExecuteTime": {
     "end_time": "2019-07-30T09:12:06.847011Z",
     "start_time": "2019-07-30T09:12:06.278014Z"
    },
    "scrolled": true
   },
   "outputs": [
    {
     "name": "stdout",
     "output_type": "stream",
     "text": [
      "<class 'pandas.core.frame.DataFrame'>\n",
      "RangeIndex: 714494 entries, 0 to 714493\n",
      "Data columns (total 8 columns):\n",
      "SR Type Code            714494 non-null object\n",
      "SR Description          714494 non-null object\n",
      "Owning Department       714494 non-null object\n",
      "Method Received         714494 non-null object\n",
      "Created Date            714494 non-null object\n",
      "Zip Code                714494 non-null float64\n",
      "Latitude Coordinate     714494 non-null float64\n",
      "Longitude Coordinate    714494 non-null float64\n",
      "dtypes: float64(3), object(5)\n",
      "memory usage: 43.6+ MB\n"
     ]
    }
   ],
   "source": [
    "df = df.reset_index(drop=True)\n",
    "df.info()"
   ]
  },
  {
   "cell_type": "markdown",
   "metadata": {},
   "source": [
    "### Some Feature Engineering"
   ]
  },
  {
   "cell_type": "code",
   "execution_count": 32,
   "metadata": {
    "ExecuteTime": {
     "end_time": "2019-07-30T09:12:15.089946Z",
     "start_time": "2019-07-30T09:12:06.851045Z"
    }
   },
   "outputs": [
    {
     "data": {
      "text/html": [
       "<div>\n",
       "<style scoped>\n",
       "    .dataframe tbody tr th:only-of-type {\n",
       "        vertical-align: middle;\n",
       "    }\n",
       "\n",
       "    .dataframe tbody tr th {\n",
       "        vertical-align: top;\n",
       "    }\n",
       "\n",
       "    .dataframe thead th {\n",
       "        text-align: right;\n",
       "    }\n",
       "</style>\n",
       "<table border=\"1\" class=\"dataframe\">\n",
       "  <thead>\n",
       "    <tr style=\"text-align: right;\">\n",
       "      <th></th>\n",
       "      <th>SR Type Code</th>\n",
       "      <th>SR Description</th>\n",
       "      <th>Owning Department</th>\n",
       "      <th>Method Received</th>\n",
       "      <th>Created Date</th>\n",
       "      <th>Zip Code</th>\n",
       "      <th>Latitude Coordinate</th>\n",
       "      <th>Longitude Coordinate</th>\n",
       "      <th>Incident Year</th>\n",
       "      <th>Incident Month</th>\n",
       "      <th>Incident Hour</th>\n",
       "      <th>Incident Weekday</th>\n",
       "    </tr>\n",
       "  </thead>\n",
       "  <tbody>\n",
       "    <tr>\n",
       "      <th>0</th>\n",
       "      <td>TRASIGMA</td>\n",
       "      <td>Traffic Signal - Maintenance</td>\n",
       "      <td>Transportation</td>\n",
       "      <td>Phone</td>\n",
       "      <td>2016-05-06 12:01:46</td>\n",
       "      <td>78703</td>\n",
       "      <td>30.296699</td>\n",
       "      <td>-97.768264</td>\n",
       "      <td>2016</td>\n",
       "      <td>5</td>\n",
       "      <td>12</td>\n",
       "      <td>Friday</td>\n",
       "    </tr>\n",
       "    <tr>\n",
       "      <th>1</th>\n",
       "      <td>TRASIGMA</td>\n",
       "      <td>Traffic Signal - Maintenance</td>\n",
       "      <td>Transportation</td>\n",
       "      <td>Phone</td>\n",
       "      <td>2016-05-06 19:51:27</td>\n",
       "      <td>78745</td>\n",
       "      <td>30.212695</td>\n",
       "      <td>-97.801521</td>\n",
       "      <td>2016</td>\n",
       "      <td>5</td>\n",
       "      <td>19</td>\n",
       "      <td>Friday</td>\n",
       "    </tr>\n",
       "    <tr>\n",
       "      <th>2</th>\n",
       "      <td>TRASIGMA</td>\n",
       "      <td>Traffic Signal - Maintenance</td>\n",
       "      <td>Transportation</td>\n",
       "      <td>Phone</td>\n",
       "      <td>2016-05-06 20:22:56</td>\n",
       "      <td>78745</td>\n",
       "      <td>30.212695</td>\n",
       "      <td>-97.801521</td>\n",
       "      <td>2016</td>\n",
       "      <td>5</td>\n",
       "      <td>20</td>\n",
       "      <td>Friday</td>\n",
       "    </tr>\n",
       "    <tr>\n",
       "      <th>3</th>\n",
       "      <td>SWSDEADA</td>\n",
       "      <td>ARR Dead Animal Collection</td>\n",
       "      <td>Austin Resource Recovery</td>\n",
       "      <td>Phone</td>\n",
       "      <td>2016-12-15 06:41:40</td>\n",
       "      <td>78741</td>\n",
       "      <td>30.230164</td>\n",
       "      <td>-97.731776</td>\n",
       "      <td>2016</td>\n",
       "      <td>12</td>\n",
       "      <td>6</td>\n",
       "      <td>Thursday</td>\n",
       "    </tr>\n",
       "    <tr>\n",
       "      <th>4</th>\n",
       "      <td>TRASIGMA</td>\n",
       "      <td>Traffic Signal - Maintenance</td>\n",
       "      <td>Transportation</td>\n",
       "      <td>Phone</td>\n",
       "      <td>2016-05-06 17:03:45</td>\n",
       "      <td>78759</td>\n",
       "      <td>30.384989</td>\n",
       "      <td>-97.766471</td>\n",
       "      <td>2016</td>\n",
       "      <td>5</td>\n",
       "      <td>17</td>\n",
       "      <td>Friday</td>\n",
       "    </tr>\n",
       "  </tbody>\n",
       "</table>\n",
       "</div>"
      ],
      "text/plain": [
       "  SR Type Code                SR Description         Owning Department Method Received        Created Date  Zip Code  Latitude Coordinate  Longitude Coordinate  Incident Year  Incident Month  Incident Hour Incident Weekday\n",
       "0     TRASIGMA  Traffic Signal - Maintenance            Transportation           Phone 2016-05-06 12:01:46     78703            30.296699            -97.768264           2016               5             12           Friday\n",
       "1     TRASIGMA  Traffic Signal - Maintenance            Transportation           Phone 2016-05-06 19:51:27     78745            30.212695            -97.801521           2016               5             19           Friday\n",
       "2     TRASIGMA  Traffic Signal - Maintenance            Transportation           Phone 2016-05-06 20:22:56     78745            30.212695            -97.801521           2016               5             20           Friday\n",
       "3     SWSDEADA    ARR Dead Animal Collection  Austin Resource Recovery           Phone 2016-12-15 06:41:40     78741            30.230164            -97.731776           2016              12              6         Thursday\n",
       "4     TRASIGMA  Traffic Signal - Maintenance            Transportation           Phone 2016-05-06 17:03:45     78759            30.384989            -97.766471           2016               5             17           Friday"
      ]
     },
     "execution_count": 32,
     "metadata": {},
     "output_type": "execute_result"
    }
   ],
   "source": [
    "# Change Zip Code from float to integer data type\n",
    "df['Zip Code'] = df['Zip Code'].astype(int)\n",
    "\n",
    "# Change Created Date to datetime object, so we can extract date, month, year, and hour\n",
    "df['Created Date'] = pd.to_datetime(df['Created Date'], format='%m/%d/%Y %I:%M:%S %p')\n",
    "\n",
    "# Add month, year columns\n",
    "df['Incident Year'] = df['Created Date'].dt.year\n",
    "df['Incident Month'] = df['Created Date'].dt.month\n",
    "df['Incident Hour'] = df['Created Date'].dt.hour\n",
    "df['Incident Weekday'] = df['Created Date'].dt.weekday_name\n",
    "df.head()"
   ]
  },
  {
   "cell_type": "markdown",
   "metadata": {},
   "source": [
    "### Rename Columns"
   ]
  },
  {
   "cell_type": "code",
   "execution_count": 33,
   "metadata": {
    "ExecuteTime": {
     "end_time": "2019-07-30T09:12:15.519891Z",
     "start_time": "2019-07-30T09:12:15.098195Z"
    }
   },
   "outputs": [
    {
     "data": {
      "text/html": [
       "<div>\n",
       "<style scoped>\n",
       "    .dataframe tbody tr th:only-of-type {\n",
       "        vertical-align: middle;\n",
       "    }\n",
       "\n",
       "    .dataframe tbody tr th {\n",
       "        vertical-align: top;\n",
       "    }\n",
       "\n",
       "    .dataframe thead th {\n",
       "        text-align: right;\n",
       "    }\n",
       "</style>\n",
       "<table border=\"1\" class=\"dataframe\">\n",
       "  <thead>\n",
       "    <tr style=\"text-align: right;\">\n",
       "      <th></th>\n",
       "      <th>Incident Type Code</th>\n",
       "      <th>Incident Description</th>\n",
       "      <th>Owning Department</th>\n",
       "      <th>Method Received</th>\n",
       "      <th>Incident Date</th>\n",
       "      <th>Zip Code</th>\n",
       "      <th>Latitude Coordinate</th>\n",
       "      <th>Longitude Coordinate</th>\n",
       "      <th>Incident Year</th>\n",
       "      <th>Incident Month</th>\n",
       "      <th>Incident Hour</th>\n",
       "      <th>Incident Weekday</th>\n",
       "    </tr>\n",
       "  </thead>\n",
       "  <tbody>\n",
       "    <tr>\n",
       "      <th>0</th>\n",
       "      <td>TRASIGMA</td>\n",
       "      <td>Traffic Signal - Maintenance</td>\n",
       "      <td>Transportation</td>\n",
       "      <td>Phone</td>\n",
       "      <td>2016-05-06 12:01:46</td>\n",
       "      <td>78703</td>\n",
       "      <td>30.296699</td>\n",
       "      <td>-97.768264</td>\n",
       "      <td>2016</td>\n",
       "      <td>5</td>\n",
       "      <td>12</td>\n",
       "      <td>Friday</td>\n",
       "    </tr>\n",
       "    <tr>\n",
       "      <th>1</th>\n",
       "      <td>TRASIGMA</td>\n",
       "      <td>Traffic Signal - Maintenance</td>\n",
       "      <td>Transportation</td>\n",
       "      <td>Phone</td>\n",
       "      <td>2016-05-06 19:51:27</td>\n",
       "      <td>78745</td>\n",
       "      <td>30.212695</td>\n",
       "      <td>-97.801521</td>\n",
       "      <td>2016</td>\n",
       "      <td>5</td>\n",
       "      <td>19</td>\n",
       "      <td>Friday</td>\n",
       "    </tr>\n",
       "    <tr>\n",
       "      <th>2</th>\n",
       "      <td>TRASIGMA</td>\n",
       "      <td>Traffic Signal - Maintenance</td>\n",
       "      <td>Transportation</td>\n",
       "      <td>Phone</td>\n",
       "      <td>2016-05-06 20:22:56</td>\n",
       "      <td>78745</td>\n",
       "      <td>30.212695</td>\n",
       "      <td>-97.801521</td>\n",
       "      <td>2016</td>\n",
       "      <td>5</td>\n",
       "      <td>20</td>\n",
       "      <td>Friday</td>\n",
       "    </tr>\n",
       "    <tr>\n",
       "      <th>3</th>\n",
       "      <td>SWSDEADA</td>\n",
       "      <td>ARR Dead Animal Collection</td>\n",
       "      <td>Austin Resource Recovery</td>\n",
       "      <td>Phone</td>\n",
       "      <td>2016-12-15 06:41:40</td>\n",
       "      <td>78741</td>\n",
       "      <td>30.230164</td>\n",
       "      <td>-97.731776</td>\n",
       "      <td>2016</td>\n",
       "      <td>12</td>\n",
       "      <td>6</td>\n",
       "      <td>Thursday</td>\n",
       "    </tr>\n",
       "    <tr>\n",
       "      <th>4</th>\n",
       "      <td>TRASIGMA</td>\n",
       "      <td>Traffic Signal - Maintenance</td>\n",
       "      <td>Transportation</td>\n",
       "      <td>Phone</td>\n",
       "      <td>2016-05-06 17:03:45</td>\n",
       "      <td>78759</td>\n",
       "      <td>30.384989</td>\n",
       "      <td>-97.766471</td>\n",
       "      <td>2016</td>\n",
       "      <td>5</td>\n",
       "      <td>17</td>\n",
       "      <td>Friday</td>\n",
       "    </tr>\n",
       "  </tbody>\n",
       "</table>\n",
       "</div>"
      ],
      "text/plain": [
       "  Incident Type Code          Incident Description         Owning Department Method Received       Incident Date  Zip Code  Latitude Coordinate  Longitude Coordinate  Incident Year  Incident Month  Incident Hour Incident Weekday\n",
       "0           TRASIGMA  Traffic Signal - Maintenance            Transportation           Phone 2016-05-06 12:01:46     78703            30.296699            -97.768264           2016               5             12           Friday\n",
       "1           TRASIGMA  Traffic Signal - Maintenance            Transportation           Phone 2016-05-06 19:51:27     78745            30.212695            -97.801521           2016               5             19           Friday\n",
       "2           TRASIGMA  Traffic Signal - Maintenance            Transportation           Phone 2016-05-06 20:22:56     78745            30.212695            -97.801521           2016               5             20           Friday\n",
       "3           SWSDEADA    ARR Dead Animal Collection  Austin Resource Recovery           Phone 2016-12-15 06:41:40     78741            30.230164            -97.731776           2016              12              6         Thursday\n",
       "4           TRASIGMA  Traffic Signal - Maintenance            Transportation           Phone 2016-05-06 17:03:45     78759            30.384989            -97.766471           2016               5             17           Friday"
      ]
     },
     "execution_count": 33,
     "metadata": {},
     "output_type": "execute_result"
    }
   ],
   "source": [
    "df = df.rename(columns={\n",
    "    'SR Type Code':'Incident Type Code',\n",
    "    'SR Description':'Incident Description',\n",
    "    'Created Date':'Incident Date'\n",
    "})\n",
    "df.head()"
   ]
  },
  {
   "cell_type": "code",
   "execution_count": 34,
   "metadata": {
    "ExecuteTime": {
     "end_time": "2019-07-30T09:12:15.547437Z",
     "start_time": "2019-07-30T09:12:15.523710Z"
    }
   },
   "outputs": [
    {
     "data": {
      "text/plain": [
       "2018    134194\n",
       "2015    132828\n",
       "2016    124054\n",
       "2014    123457\n",
       "2017    100312\n",
       "2019     99629\n",
       "2013        20\n",
       "Name: Incident Year, dtype: int64"
      ]
     },
     "execution_count": 34,
     "metadata": {},
     "output_type": "execute_result"
    }
   ],
   "source": [
    "# Verify we have all incidents from all years\n",
    "df['Incident Year'].value_counts()"
   ]
  },
  {
   "cell_type": "markdown",
   "metadata": {},
   "source": [
    "### Save the clean data frame"
   ]
  },
  {
   "cell_type": "code",
   "execution_count": 35,
   "metadata": {
    "ExecuteTime": {
     "end_time": "2019-07-30T09:12:36.613230Z",
     "start_time": "2019-07-30T09:12:15.556750Z"
    }
   },
   "outputs": [],
   "source": [
    "!rm -rf 'clean_data/clean_austin_311.csv'\n",
    "df.to_csv('clean_data/clean_austin_311.csv', index=False)"
   ]
  }
 ],
 "metadata": {
  "kernelspec": {
   "display_name": "Python 3.7 (Austin 311 EDA)",
   "language": "python",
   "name": "austin_eda"
  },
  "language_info": {
   "codemirror_mode": {
    "name": "ipython",
    "version": 3
   },
   "file_extension": ".py",
   "mimetype": "text/x-python",
   "name": "python",
   "nbconvert_exporter": "python",
   "pygments_lexer": "ipython3",
   "version": "3.7.3"
  }
 },
 "nbformat": 4,
 "nbformat_minor": 4
}
