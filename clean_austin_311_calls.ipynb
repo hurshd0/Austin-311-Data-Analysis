{
 "cells": [
  {
   "cell_type": "markdown",
   "metadata": {},
   "source": [
    "# Clean Austin-3-1-1 Data \n",
    "\n",
    "<img src=\"imgs/cleaning.jpg\" width = \"500\" align=\"center\"/>"
   ]
  },
  {
   "cell_type": "code",
   "execution_count": 1,
   "metadata": {
    "ExecuteTime": {
     "end_time": "2019-07-30T09:10:57.037866Z",
     "start_time": "2019-07-30T09:10:56.415653Z"
    }
   },
   "outputs": [],
   "source": [
    "import numpy as np # Linear algebra lib\n",
    "import pandas as pd # Data analysis lib\n",
    "\n",
    "# Removes rows and columns truncation of '...'\n",
    "pd.set_option('display.max_rows', 500)\n",
    "pd.set_option('display.max_columns', 500)\n",
    "pd.set_option('display.width', 1000)"
   ]
  },
  {
   "cell_type": "markdown",
   "metadata": {},
   "source": [
    "## Load data"
   ]
  },
  {
   "cell_type": "code",
   "execution_count": 2,
   "metadata": {
    "ExecuteTime": {
     "end_time": "2019-07-30T09:11:30.168836Z",
     "start_time": "2019-07-30T09:10:57.042649Z"
    }
   },
   "outputs": [
    {
     "name": "stdout",
     "output_type": "stream",
     "text": [
      "--2019-07-30 13:12:54--  https://austin-311-data.s3.us-east-2.amazonaws.com/311_Unified_Data.csv\n",
      "Resolving austin-311-data.s3.us-east-2.amazonaws.com (austin-311-data.s3.us-east-2.amazonaws.com)... 52.219.88.0\n",
      "Connecting to austin-311-data.s3.us-east-2.amazonaws.com (austin-311-data.s3.us-east-2.amazonaws.com)|52.219.88.0|:443... connected.\n",
      "HTTP request sent, awaiting response... 200 OK\n",
      "Length: 257255577 (245M) [text/csv]\n",
      "Saving to: ‘raw_data/311_Unified_Data.csv’\n",
      "\n",
      "311_Unified_Data.cs 100%[===================>] 245.34M  8.04MB/s    in 33s     \n",
      "\n",
      "2019-07-30 13:13:27 (7.54 MB/s) - ‘raw_data/311_Unified_Data.csv’ saved [257255577/257255577]\n",
      "\n",
      "total 246M\n",
      "-rw-r--r-- 1 turtle turtle 246M Jul 28 19:00 311_Unified_Data.csv\n",
      "Service Request (SR) Number,SR Type Code,SR Description,Owning Department,Method Received,SR Status,Status Change Date,Created Date,Last Update Date,Close Date,SR Location,Street Number,Street Name,City,Zip Code,County,State Plane X Coordinate,State Plane Y Coordinate,Latitude Coordinate,Longitude Coordinate,(Latitude.Longitude),Council District,Map Page,Map Tile\n",
      "16-00107769,TRASIGMA,Traffic Signal - Maintenance,Transportation,Phone,Duplicate (closed),05/06/2016 12:11:57 PM,05/06/2016 12:01:46 PM,05/06/2016 12:11:57 PM,05/06/2016 12:11:57 PM,\"WINDSOR RD & EXPOSITION BLVD, AUSTIN, TX 78703\",,WINDSOR RD & EXPOSITION BLVD,AUSTIN,78703,TRAVIS,3106038.49745799,10080978.0030157,30.29669887,-97.76826374,\"(30.29669887, -97.76826374)\",10,584C,MH24\n",
      "16-00108244,TRASIGMA,Traffic Signal - Maintenance,Transportation,Phone,Duplicate (closed),05/06/2016 07:51:27 PM,05/06/2016 07:51:27 PM,05/06/2016 07:51:27 PM,05/06/2016 07:51:27 PM,\"6001 MANCHACA RD, AUSTIN, TX 78745\",6001,MANCHACA,AUSTIN,78745,TRAVIS,3096240.5,10050194,30.2126949,-97.8015215,\"(30.2126949, -97.8015215)\",5,643M,MF17\n",
      "16-00108269,TRASIGMA,Traffic Signal - Maintenance,Transportation,Phone,Duplicate (closed),05/06/2016 08:22:56 PM,05/06/2016 08:22:56 PM,05/06/2016 08:22:56 PM,05/06/2016 08:22:56 PM,\"6001 MANCHACA RD, AUSTIN, TX 78745\",6001,MANCHACA,AUSTIN,78745,TRAVIS,3096240.5,10050194,30.2126949,-97.8015215,\"(30.2126949, -97.8015215)\",5,643M,MF17\n",
      "16-00324071,SWSDEADA,ARR Dead Animal Collection,Austin Resource Recovery,Phone,Closed,12/15/2016 09:05:43 AM,12/15/2016 06:41:40 AM,12/15/2016 09:05:43 AM,12/15/2016 09:05:43 AM,\"2200 E OLTORF ST, AUSTIN, TX 78741\",2200,OLTORF,AUSTIN,78741,TRAVIS,3118116.50749136,10057053.9397969,30.23016411,-97.73177647,\"(30.23016411, -97.73177647)\",3,615X,MJ19\n",
      "16-00108062,TRASIGMA,Traffic Signal - Maintenance,Transportation,Phone,Duplicate (closed),05/10/2016 04:56:52 PM,05/06/2016 05:03:45 PM,05/10/2016 04:56:52 PM,05/10/2016 04:56:52 PM,\"8401 N CAPITAL OF TEXAS HWY NB, AUSTIN, TX 78759\",8401,CAPITAL OF TEXAS,AUSTIN,78759,TRAVIS,3105863.35797435,10113092.5341337,30.38498865,-97.76647071,\"(30.38498865, -97.76647071)\",10,494L,MH32\n",
      "16-00107654,STREETL2,Street Light Issue- Address,Austin Energy Department,Phone,Closed,05/10/2016 06:58:01 AM,05/06/2016 10:28:16 AM,05/10/2016 06:58:01 AM,05/10/2016 06:58:01 AM,\"300 WEST AVE, AUSTIN, TX 78703\",300,WEST,AUSTIN,78703,TRAVIS,3111493.73999999,10070696.54,30.26808964,-97.75173887,\"(30.26808964, -97.75173887)\",9,584V,MH22\n",
      "16-00107641,STREETL2,Street Light Issue- Address,Austin Energy Department,Phone,Closed,05/11/2016 04:41:32 PM,05/06/2016 10:19:24 AM,05/11/2016 04:41:33 PM,05/11/2016 04:41:32 PM,\"1212 BEGONIA TER, AUSTIN, TX 78741\",1212,BEGONIA,AUSTIN,78741,TRAVIS,3127314.74792452,10058154.0013629,30.23259324,-97.70257675,\"(30.23259324, -97.70257675)\",3,616W,ML19\n",
      "16-00107655,STREETL2,Street Light Issue- Address,Austin Energy Department,Phone,Closed,05/11/2016 04:42:25 PM,05/06/2016 10:29:40 AM,05/11/2016 04:42:26 PM,05/11/2016 04:42:25 PM,\"7432 ELK PASS DR, AUSTIN, TX 78744\",7432,ELK PASS,AUSTIN,78744,TRAVIS,3130322.58738476,10046378.9104246,30.20002989,-97.6939397,\"(30.20002989, -97.6939397)\",2,646T,ML16\n",
      "16-00107684,STREETL2,Street Light Issue- Address,Austin Energy Department,Spot311 Interface,Closed,05/11/2016 04:43:10 PM,05/06/2016 10:50:02 AM,05/11/2016 04:43:11 PM,05/11/2016 04:43:10 PM,\"1820 TREADWELL ST, AUSTIN, TX 78704\",1820,TREADWELL,AUSTIN,78704,TRAVIS,3106296.99838993,10067557.0008973,30.25979001,-97.76842531,\"(30.25979001, -97.76842531)\",5,614C,MH21\n",
      "19-00200306,SWSDEADA,ARR Dead Animal Collection,Austin Resource Recovery,Phone,Duplicate (closed),06/01/2019 11:02:34 AM,05/30/2019 08:48:01 PM,06/01/2019 11:02:34 AM,06/01/2019 11:02:34 AM,\"9701 DALLUM DR, AUSTIN, TX 78753\",9701,DALLUM,AUSTIN,78753,TRAVIS,3132581.59238482,10104385.33044030,30.35933109,-97.68241579,\"(30.35933109, -97.68241579)\",4,526G,MM30\n",
      "19-00200312,SWSDEADA,ARR Dead Animal Collection,Austin Resource Recovery,Phone,Closed,06/01/2019 07:23:02 AM,05/30/2019 08:54:13 PM,06/01/2019 07:23:02 AM,06/01/2019 07:23:02 AM,\"MANOR RD & CHESTNUT AVE, AUSTIN, TX\",,MANOR RD & CHESTNUT AVE,AUSTIN,78722,TRAVIS,3121944.49828856,10076893.00093610,30.28445159,-97.71818213,\"(30.28445159, -97.71818213)\",9,585M,MK23\n",
      "19-00200313,CODECOMP,Austin Code - Request Code Officer,Austin Code Department,Phone,Closed,05/30/2019 09:07:16 PM,05/30/2019 08:58:18 PM,06/04/2019 09:19:11 AM,05/30/2019 09:07:16 PM,\"5904 HAROLD CT, AUSTIN, TX 78721\",5904,HAROLD,AUSTIN,78721,TRAVIS,3135635.49844157,10071746.00261830,30.26941125,-97.67520829,\"(30.26941125, -97.67520829)\",1,586V,MM22\n",
      "19-00200318,SBPOTREP,Pothole Repair,Public Works,Phone,Resolved,05/30/2019 10:40:21 PM,05/30/2019 09:05:44 PM,05/30/2019 10:40:21 PM,05/30/2019 10:40:21 PM,\"CHICON ST & E 11TH ST, AUSTIN, TX\",,CHICON ST & E 11TH ST,Austin,78702,TRAVIS,3121362.74932632,10070190.00034860,30.26606375,-97.72052347,\"(30.26606375, -97.72052347)\",1,585Y,MK22\n",
      "19-00200324,SHTERECS,Austin Code - Short Term Rental Complaint SR,Austin Code Department,Spot311 Interface,Closed,05/30/2019 09:25:16 PM,05/30/2019 09:16:14 PM,06/27/2019 08:41:07 AM,05/30/2019 09:25:16 PM,\"2401 MANOR RD, AUSTIN, TX 78722\",2401,MANOR,AUSTIN,78722,TRAVIS,3122276.67529258,10076937.09540020,30.28455133,-97.71712674,\"(30.28455133, -97.71712674)\",1,585M,MK23\n",
      "19-00200322,LOUDMUS1,Loud Commercial Music,Economic Development Department,Phone,Closed,05/31/2019 06:15:09 PM,05/30/2019 09:11:16 PM,05/31/2019 06:15:09 PM,05/31/2019 06:15:09 PM,\"708 E 6TH ST, AUSTIN, TX 78701\",708,6TH,AUSTIN,78701,TRAVIS,3116607.74807702,10070123.00076520,30.26618575,-97.73558625,\"(30.26618575, -97.73558625)\",9,585X,MJ22\n",
      "19-00200333,STREETL2,Street Light Issue- Address,Austin Energy Department,Phone,Closed,05/31/2019 01:28:28 PM,05/30/2019 09:25:47 PM,05/31/2019 01:28:28 PM,05/31/2019 01:28:28 PM,\"2612 S 3RD ST, AUSTIN, TX 78704\",2612,3RD,AUSTIN,78704,TRAVIS,3108052.48541742,10060203.25758820,30.23946425,-97.76340454,\"(30.23946425, -97.76340454)\",3,614Q,MH20\n",
      "19-00200337,STREETL2,Street Light Issue- Address,Austin Energy Department,Phone,Closed,06/03/2019 09:51:10 AM,05/30/2019 09:31:25 PM,06/03/2019 09:51:10 AM,06/03/2019 09:51:10 AM,\"1125 W RUNDBERG LN, AUSTIN, TX 78758\",1125,RUNDBERG,AUSTIN,78758,TRAVIS,3125800.35006203,10106716.43185010,30.36618139,-97.7037361,\"(30.36618139, -97.7037361)\",4,526A,ML30\n",
      "19-00200325,SHTERECS,Austin Code - Short Term Rental Complaint SR,Austin Code Department,Phone,Closed,05/30/2019 09:28:15 PM,05/30/2019 09:18:58 PM,06/04/2019 08:04:00 AM,05/30/2019 09:28:15 PM,\"2401 MANOR RD 136, AUSTIN, TX 78722\",2401,MANOR,AUSTIN,78722,TRAVIS,3122433.74888667,10076876.00063570,30.28437323,-97.71663379,\"(30.28437323, -97.71663379)\",1,585M,MK23\n",
      "19-00200330,CODECOMP,Austin Code - Request Code Officer,Austin Code Department,Phone,Closed,05/30/2019 09:34:21 PM,05/30/2019 09:23:41 PM,06/04/2019 09:19:13 AM,05/30/2019 09:34:21 PM,\"5904 HAROLD CT, AUSTIN, TX 78721\",5904,HAROLD,AUSTIN,78721,TRAVIS,3135635.49844157,10071746.00261830,30.26941125,-97.67520829,\"(30.26941125, -97.67520829)\",1,586V,MM22\n",
      "747987 raw_data/311_Unified_Data.csv\n"
     ]
    }
   ],
   "source": [
    "# Toggle Comments to run\n",
    "!rm -f raw_data/'311_Unified_Data.csv'\n",
    "!wget 'https://austin-311-data.s3.us-east-2.amazonaws.com/311_Unified_Data.csv' -P raw_data\n",
    "!ls -lh raw_data\n",
    "!head raw_data/'311_Unified_Data.csv'\n",
    "!tail raw_data/'311_Unified_Data.csv'\n",
    "!wc -l raw_data/'311_Unified_Data.csv'"
   ]
  },
  {
   "cell_type": "markdown",
   "metadata": {},
   "source": [
    "## Clean Data"
   ]
  },
  {
   "cell_type": "markdown",
   "metadata": {},
   "source": [
    "Start by loading the dataset"
   ]
  },
  {
   "cell_type": "code",
   "execution_count": 3,
   "metadata": {
    "ExecuteTime": {
     "end_time": "2019-07-30T09:11:43.757542Z",
     "start_time": "2019-07-30T09:11:30.180176Z"
    }
   },
   "outputs": [
    {
     "data": {
      "text/html": [
       "<div>\n",
       "<style scoped>\n",
       "    .dataframe tbody tr th:only-of-type {\n",
       "        vertical-align: middle;\n",
       "    }\n",
       "\n",
       "    .dataframe tbody tr th {\n",
       "        vertical-align: top;\n",
       "    }\n",
       "\n",
       "    .dataframe thead th {\n",
       "        text-align: right;\n",
       "    }\n",
       "</style>\n",
       "<table border=\"1\" class=\"dataframe\">\n",
       "  <thead>\n",
       "    <tr style=\"text-align: right;\">\n",
       "      <th></th>\n",
       "      <th>Service Request (SR) Number</th>\n",
       "      <th>SR Type Code</th>\n",
       "      <th>SR Description</th>\n",
       "      <th>Owning Department</th>\n",
       "      <th>Method Received</th>\n",
       "      <th>SR Status</th>\n",
       "      <th>Status Change Date</th>\n",
       "      <th>Created Date</th>\n",
       "      <th>Last Update Date</th>\n",
       "      <th>Close Date</th>\n",
       "      <th>SR Location</th>\n",
       "      <th>Street Number</th>\n",
       "      <th>Street Name</th>\n",
       "      <th>City</th>\n",
       "      <th>Zip Code</th>\n",
       "      <th>County</th>\n",
       "      <th>State Plane X Coordinate</th>\n",
       "      <th>State Plane Y Coordinate</th>\n",
       "      <th>Latitude Coordinate</th>\n",
       "      <th>Longitude Coordinate</th>\n",
       "      <th>(Latitude.Longitude)</th>\n",
       "      <th>Council District</th>\n",
       "      <th>Map Page</th>\n",
       "      <th>Map Tile</th>\n",
       "    </tr>\n",
       "  </thead>\n",
       "  <tbody>\n",
       "    <tr>\n",
       "      <th>0</th>\n",
       "      <td>16-00107769</td>\n",
       "      <td>TRASIGMA</td>\n",
       "      <td>Traffic Signal - Maintenance</td>\n",
       "      <td>Transportation</td>\n",
       "      <td>Phone</td>\n",
       "      <td>Duplicate (closed)</td>\n",
       "      <td>05/06/2016 12:11:57 PM</td>\n",
       "      <td>05/06/2016 12:01:46 PM</td>\n",
       "      <td>05/06/2016 12:11:57 PM</td>\n",
       "      <td>05/06/2016 12:11:57 PM</td>\n",
       "      <td>WINDSOR RD &amp; EXPOSITION BLVD, AUSTIN, TX 78703</td>\n",
       "      <td>NaN</td>\n",
       "      <td>WINDSOR RD &amp; EXPOSITION BLVD</td>\n",
       "      <td>AUSTIN</td>\n",
       "      <td>78703.0</td>\n",
       "      <td>TRAVIS</td>\n",
       "      <td>3106038.49745799</td>\n",
       "      <td>1.008098e+07</td>\n",
       "      <td>30.296699</td>\n",
       "      <td>-97.768264</td>\n",
       "      <td>(30.29669887, -97.76826374)</td>\n",
       "      <td>10.0</td>\n",
       "      <td>584C</td>\n",
       "      <td>MH24</td>\n",
       "    </tr>\n",
       "    <tr>\n",
       "      <th>1</th>\n",
       "      <td>16-00108244</td>\n",
       "      <td>TRASIGMA</td>\n",
       "      <td>Traffic Signal - Maintenance</td>\n",
       "      <td>Transportation</td>\n",
       "      <td>Phone</td>\n",
       "      <td>Duplicate (closed)</td>\n",
       "      <td>05/06/2016 07:51:27 PM</td>\n",
       "      <td>05/06/2016 07:51:27 PM</td>\n",
       "      <td>05/06/2016 07:51:27 PM</td>\n",
       "      <td>05/06/2016 07:51:27 PM</td>\n",
       "      <td>6001 MANCHACA RD, AUSTIN, TX 78745</td>\n",
       "      <td>6001</td>\n",
       "      <td>MANCHACA</td>\n",
       "      <td>AUSTIN</td>\n",
       "      <td>78745.0</td>\n",
       "      <td>TRAVIS</td>\n",
       "      <td>3096240.5</td>\n",
       "      <td>1.005019e+07</td>\n",
       "      <td>30.212695</td>\n",
       "      <td>-97.801521</td>\n",
       "      <td>(30.2126949, -97.8015215)</td>\n",
       "      <td>5.0</td>\n",
       "      <td>643M</td>\n",
       "      <td>MF17</td>\n",
       "    </tr>\n",
       "    <tr>\n",
       "      <th>2</th>\n",
       "      <td>16-00108269</td>\n",
       "      <td>TRASIGMA</td>\n",
       "      <td>Traffic Signal - Maintenance</td>\n",
       "      <td>Transportation</td>\n",
       "      <td>Phone</td>\n",
       "      <td>Duplicate (closed)</td>\n",
       "      <td>05/06/2016 08:22:56 PM</td>\n",
       "      <td>05/06/2016 08:22:56 PM</td>\n",
       "      <td>05/06/2016 08:22:56 PM</td>\n",
       "      <td>05/06/2016 08:22:56 PM</td>\n",
       "      <td>6001 MANCHACA RD, AUSTIN, TX 78745</td>\n",
       "      <td>6001</td>\n",
       "      <td>MANCHACA</td>\n",
       "      <td>AUSTIN</td>\n",
       "      <td>78745.0</td>\n",
       "      <td>TRAVIS</td>\n",
       "      <td>3096240.5</td>\n",
       "      <td>1.005019e+07</td>\n",
       "      <td>30.212695</td>\n",
       "      <td>-97.801521</td>\n",
       "      <td>(30.2126949, -97.8015215)</td>\n",
       "      <td>5.0</td>\n",
       "      <td>643M</td>\n",
       "      <td>MF17</td>\n",
       "    </tr>\n",
       "    <tr>\n",
       "      <th>3</th>\n",
       "      <td>16-00324071</td>\n",
       "      <td>SWSDEADA</td>\n",
       "      <td>ARR Dead Animal Collection</td>\n",
       "      <td>Austin Resource Recovery</td>\n",
       "      <td>Phone</td>\n",
       "      <td>Closed</td>\n",
       "      <td>12/15/2016 09:05:43 AM</td>\n",
       "      <td>12/15/2016 06:41:40 AM</td>\n",
       "      <td>12/15/2016 09:05:43 AM</td>\n",
       "      <td>12/15/2016 09:05:43 AM</td>\n",
       "      <td>2200 E OLTORF ST, AUSTIN, TX 78741</td>\n",
       "      <td>2200</td>\n",
       "      <td>OLTORF</td>\n",
       "      <td>AUSTIN</td>\n",
       "      <td>78741.0</td>\n",
       "      <td>TRAVIS</td>\n",
       "      <td>3118116.50749136</td>\n",
       "      <td>1.005705e+07</td>\n",
       "      <td>30.230164</td>\n",
       "      <td>-97.731776</td>\n",
       "      <td>(30.23016411, -97.73177647)</td>\n",
       "      <td>3.0</td>\n",
       "      <td>615X</td>\n",
       "      <td>MJ19</td>\n",
       "    </tr>\n",
       "    <tr>\n",
       "      <th>4</th>\n",
       "      <td>16-00108062</td>\n",
       "      <td>TRASIGMA</td>\n",
       "      <td>Traffic Signal - Maintenance</td>\n",
       "      <td>Transportation</td>\n",
       "      <td>Phone</td>\n",
       "      <td>Duplicate (closed)</td>\n",
       "      <td>05/10/2016 04:56:52 PM</td>\n",
       "      <td>05/06/2016 05:03:45 PM</td>\n",
       "      <td>05/10/2016 04:56:52 PM</td>\n",
       "      <td>05/10/2016 04:56:52 PM</td>\n",
       "      <td>8401 N CAPITAL OF TEXAS HWY NB, AUSTIN, TX 78759</td>\n",
       "      <td>8401</td>\n",
       "      <td>CAPITAL OF TEXAS</td>\n",
       "      <td>AUSTIN</td>\n",
       "      <td>78759.0</td>\n",
       "      <td>TRAVIS</td>\n",
       "      <td>3105863.35797435</td>\n",
       "      <td>1.011309e+07</td>\n",
       "      <td>30.384989</td>\n",
       "      <td>-97.766471</td>\n",
       "      <td>(30.38498865, -97.76647071)</td>\n",
       "      <td>10.0</td>\n",
       "      <td>494L</td>\n",
       "      <td>MH32</td>\n",
       "    </tr>\n",
       "  </tbody>\n",
       "</table>\n",
       "</div>"
      ],
      "text/plain": [
       "  Service Request (SR) Number SR Type Code                SR Description         Owning Department Method Received           SR Status      Status Change Date            Created Date        Last Update Date              Close Date                                       SR Location Street Number                   Street Name    City  Zip Code  County State Plane X Coordinate  State Plane Y Coordinate  Latitude Coordinate  Longitude Coordinate         (Latitude.Longitude)  Council District Map Page Map Tile\n",
       "0                 16-00107769     TRASIGMA  Traffic Signal - Maintenance            Transportation           Phone  Duplicate (closed)  05/06/2016 12:11:57 PM  05/06/2016 12:01:46 PM  05/06/2016 12:11:57 PM  05/06/2016 12:11:57 PM    WINDSOR RD & EXPOSITION BLVD, AUSTIN, TX 78703           NaN  WINDSOR RD & EXPOSITION BLVD  AUSTIN   78703.0  TRAVIS         3106038.49745799              1.008098e+07            30.296699            -97.768264  (30.29669887, -97.76826374)              10.0     584C     MH24\n",
       "1                 16-00108244     TRASIGMA  Traffic Signal - Maintenance            Transportation           Phone  Duplicate (closed)  05/06/2016 07:51:27 PM  05/06/2016 07:51:27 PM  05/06/2016 07:51:27 PM  05/06/2016 07:51:27 PM                6001 MANCHACA RD, AUSTIN, TX 78745          6001                      MANCHACA  AUSTIN   78745.0  TRAVIS                3096240.5              1.005019e+07            30.212695            -97.801521    (30.2126949, -97.8015215)               5.0     643M     MF17\n",
       "2                 16-00108269     TRASIGMA  Traffic Signal - Maintenance            Transportation           Phone  Duplicate (closed)  05/06/2016 08:22:56 PM  05/06/2016 08:22:56 PM  05/06/2016 08:22:56 PM  05/06/2016 08:22:56 PM                6001 MANCHACA RD, AUSTIN, TX 78745          6001                      MANCHACA  AUSTIN   78745.0  TRAVIS                3096240.5              1.005019e+07            30.212695            -97.801521    (30.2126949, -97.8015215)               5.0     643M     MF17\n",
       "3                 16-00324071     SWSDEADA    ARR Dead Animal Collection  Austin Resource Recovery           Phone              Closed  12/15/2016 09:05:43 AM  12/15/2016 06:41:40 AM  12/15/2016 09:05:43 AM  12/15/2016 09:05:43 AM                2200 E OLTORF ST, AUSTIN, TX 78741          2200                        OLTORF  AUSTIN   78741.0  TRAVIS         3118116.50749136              1.005705e+07            30.230164            -97.731776  (30.23016411, -97.73177647)               3.0     615X     MJ19\n",
       "4                 16-00108062     TRASIGMA  Traffic Signal - Maintenance            Transportation           Phone  Duplicate (closed)  05/10/2016 04:56:52 PM  05/06/2016 05:03:45 PM  05/10/2016 04:56:52 PM  05/10/2016 04:56:52 PM  8401 N CAPITAL OF TEXAS HWY NB, AUSTIN, TX 78759          8401              CAPITAL OF TEXAS  AUSTIN   78759.0  TRAVIS         3105863.35797435              1.011309e+07            30.384989            -97.766471  (30.38498865, -97.76647071)              10.0     494L     MH32"
      ]
     },
     "execution_count": 3,
     "metadata": {},
     "output_type": "execute_result"
    }
   ],
   "source": [
    "df = pd.read_csv('raw_data/311_Unified_Data.csv', low_memory=False)\n",
    "df.head()"
   ]
  },
  {
   "cell_type": "code",
   "execution_count": 4,
   "metadata": {
    "ExecuteTime": {
     "end_time": "2019-07-30T09:11:43.771222Z",
     "start_time": "2019-07-30T09:11:43.763174Z"
    }
   },
   "outputs": [
    {
     "name": "stdout",
     "output_type": "stream",
     "text": [
      "This dataset has number of rows 747986, number of cols 24\n"
     ]
    }
   ],
   "source": [
    "print('This dataset has number of rows {}, number of cols {}'.format(df.shape[0], df.shape[1]))"
   ]
  },
  {
   "cell_type": "code",
   "execution_count": 5,
   "metadata": {
    "ExecuteTime": {
     "end_time": "2019-07-30T09:11:45.801331Z",
     "start_time": "2019-07-30T09:11:43.775010Z"
    }
   },
   "outputs": [
    {
     "name": "stdout",
     "output_type": "stream",
     "text": [
      "<class 'pandas.core.frame.DataFrame'>\n",
      "RangeIndex: 747986 entries, 0 to 747985\n",
      "Data columns (total 24 columns):\n",
      "Service Request (SR) Number    743752 non-null object\n",
      "SR Type Code                   743751 non-null object\n",
      "SR Description                 743751 non-null object\n",
      "Owning Department              743751 non-null object\n",
      "Method Received                743751 non-null object\n",
      "SR Status                      743751 non-null object\n",
      "Status Change Date             737819 non-null object\n",
      "Created Date                   737819 non-null object\n",
      "Last Update Date               737819 non-null object\n",
      "Close Date                     695220 non-null object\n",
      "SR Location                    738374 non-null object\n",
      "Street Number                  592926 non-null object\n",
      "Street Name                    738287 non-null object\n",
      "City                           737345 non-null object\n",
      "Zip Code                       735561 non-null float64\n",
      "County                         731471 non-null object\n",
      "State Plane X Coordinate       738313 non-null object\n",
      "State Plane Y Coordinate       738271 non-null float64\n",
      "Latitude Coordinate            738300 non-null float64\n",
      "Longitude Coordinate           738300 non-null float64\n",
      "(Latitude.Longitude)           738300 non-null object\n",
      "Council District               702005 non-null float64\n",
      "Map Page                       736655 non-null object\n",
      "Map Tile                       735166 non-null object\n",
      "dtypes: float64(5), object(19)\n",
      "memory usage: 137.0+ MB\n"
     ]
    }
   ],
   "source": [
    "df.info()"
   ]
  },
  {
   "cell_type": "markdown",
   "metadata": {},
   "source": [
    "For our analysis we don't need following columns:\n",
    " \n",
    "  - `Service Request (SR) Number`\n",
    "  - `Status Change Date`\n",
    "  - `SR Status`\n",
    "  - `Last Update Date`\n",
    "  - `Close Date`\n",
    "  - `Map Page`\n",
    "  - `Map Tile`\n",
    "  - `State Plane X Coordinate`\n",
    "  - `State Plane Y Coordinate`\n",
    "  - `Street Number`\n",
    "  - `Street Name`\n",
    "  - `SR Location`\n",
    "  - `Latitude Coordinate`\n",
    "  - `Longitude Coordinate`\n",
    "  - `Council District`"
   ]
  },
  {
   "cell_type": "markdown",
   "metadata": {},
   "source": [
    "### Drop unecessary columns and empty rows"
   ]
  },
  {
   "cell_type": "code",
   "execution_count": 6,
   "metadata": {
    "ExecuteTime": {
     "end_time": "2019-07-30T09:11:45.932323Z",
     "start_time": "2019-07-30T09:11:45.804959Z"
    }
   },
   "outputs": [
    {
     "data": {
      "text/html": [
       "<div>\n",
       "<style scoped>\n",
       "    .dataframe tbody tr th:only-of-type {\n",
       "        vertical-align: middle;\n",
       "    }\n",
       "\n",
       "    .dataframe tbody tr th {\n",
       "        vertical-align: top;\n",
       "    }\n",
       "\n",
       "    .dataframe thead th {\n",
       "        text-align: right;\n",
       "    }\n",
       "</style>\n",
       "<table border=\"1\" class=\"dataframe\">\n",
       "  <thead>\n",
       "    <tr style=\"text-align: right;\">\n",
       "      <th></th>\n",
       "      <th>SR Type Code</th>\n",
       "      <th>SR Description</th>\n",
       "      <th>Owning Department</th>\n",
       "      <th>Method Received</th>\n",
       "      <th>Created Date</th>\n",
       "      <th>City</th>\n",
       "      <th>Zip Code</th>\n",
       "      <th>County</th>\n",
       "      <th>(Latitude.Longitude)</th>\n",
       "    </tr>\n",
       "  </thead>\n",
       "  <tbody>\n",
       "    <tr>\n",
       "      <th>0</th>\n",
       "      <td>TRASIGMA</td>\n",
       "      <td>Traffic Signal - Maintenance</td>\n",
       "      <td>Transportation</td>\n",
       "      <td>Phone</td>\n",
       "      <td>05/06/2016 12:01:46 PM</td>\n",
       "      <td>AUSTIN</td>\n",
       "      <td>78703.0</td>\n",
       "      <td>TRAVIS</td>\n",
       "      <td>(30.29669887, -97.76826374)</td>\n",
       "    </tr>\n",
       "    <tr>\n",
       "      <th>1</th>\n",
       "      <td>TRASIGMA</td>\n",
       "      <td>Traffic Signal - Maintenance</td>\n",
       "      <td>Transportation</td>\n",
       "      <td>Phone</td>\n",
       "      <td>05/06/2016 07:51:27 PM</td>\n",
       "      <td>AUSTIN</td>\n",
       "      <td>78745.0</td>\n",
       "      <td>TRAVIS</td>\n",
       "      <td>(30.2126949, -97.8015215)</td>\n",
       "    </tr>\n",
       "    <tr>\n",
       "      <th>2</th>\n",
       "      <td>TRASIGMA</td>\n",
       "      <td>Traffic Signal - Maintenance</td>\n",
       "      <td>Transportation</td>\n",
       "      <td>Phone</td>\n",
       "      <td>05/06/2016 08:22:56 PM</td>\n",
       "      <td>AUSTIN</td>\n",
       "      <td>78745.0</td>\n",
       "      <td>TRAVIS</td>\n",
       "      <td>(30.2126949, -97.8015215)</td>\n",
       "    </tr>\n",
       "    <tr>\n",
       "      <th>3</th>\n",
       "      <td>SWSDEADA</td>\n",
       "      <td>ARR Dead Animal Collection</td>\n",
       "      <td>Austin Resource Recovery</td>\n",
       "      <td>Phone</td>\n",
       "      <td>12/15/2016 06:41:40 AM</td>\n",
       "      <td>AUSTIN</td>\n",
       "      <td>78741.0</td>\n",
       "      <td>TRAVIS</td>\n",
       "      <td>(30.23016411, -97.73177647)</td>\n",
       "    </tr>\n",
       "    <tr>\n",
       "      <th>4</th>\n",
       "      <td>TRASIGMA</td>\n",
       "      <td>Traffic Signal - Maintenance</td>\n",
       "      <td>Transportation</td>\n",
       "      <td>Phone</td>\n",
       "      <td>05/06/2016 05:03:45 PM</td>\n",
       "      <td>AUSTIN</td>\n",
       "      <td>78759.0</td>\n",
       "      <td>TRAVIS</td>\n",
       "      <td>(30.38498865, -97.76647071)</td>\n",
       "    </tr>\n",
       "  </tbody>\n",
       "</table>\n",
       "</div>"
      ],
      "text/plain": [
       "  SR Type Code                SR Description         Owning Department Method Received            Created Date    City  Zip Code  County         (Latitude.Longitude)\n",
       "0     TRASIGMA  Traffic Signal - Maintenance            Transportation           Phone  05/06/2016 12:01:46 PM  AUSTIN   78703.0  TRAVIS  (30.29669887, -97.76826374)\n",
       "1     TRASIGMA  Traffic Signal - Maintenance            Transportation           Phone  05/06/2016 07:51:27 PM  AUSTIN   78745.0  TRAVIS    (30.2126949, -97.8015215)\n",
       "2     TRASIGMA  Traffic Signal - Maintenance            Transportation           Phone  05/06/2016 08:22:56 PM  AUSTIN   78745.0  TRAVIS    (30.2126949, -97.8015215)\n",
       "3     SWSDEADA    ARR Dead Animal Collection  Austin Resource Recovery           Phone  12/15/2016 06:41:40 AM  AUSTIN   78741.0  TRAVIS  (30.23016411, -97.73177647)\n",
       "4     TRASIGMA  Traffic Signal - Maintenance            Transportation           Phone  05/06/2016 05:03:45 PM  AUSTIN   78759.0  TRAVIS  (30.38498865, -97.76647071)"
      ]
     },
     "execution_count": 6,
     "metadata": {},
     "output_type": "execute_result"
    }
   ],
   "source": [
    "columns = ['Council District', 'Map Page', 'Map Tile', 'Service Request (SR) Number', 'Status Change Date', 'Last Update Date', 'Close Date', 'SR Status', 'SR Location', 'Street Number', 'Street Name', 'State Plane X Coordinate', 'State Plane Y Coordinate', 'Latitude Coordinate', 'Longitude Coordinate']\n",
    "df = df.drop(columns, axis=1)\n",
    "df.head()"
   ]
  },
  {
   "cell_type": "markdown",
   "metadata": {},
   "source": [
    "### Check for missing values and drop rows that are missing important info."
   ]
  },
  {
   "cell_type": "code",
   "execution_count": 7,
   "metadata": {
    "ExecuteTime": {
     "end_time": "2019-07-30T09:11:47.529282Z",
     "start_time": "2019-07-30T09:11:45.936157Z"
    }
   },
   "outputs": [
    {
     "data": {
      "text/plain": [
       "SR Type Code             4235\n",
       "SR Description           4235\n",
       "Owning Department        4235\n",
       "Method Received          4235\n",
       "Created Date            10167\n",
       "City                    10641\n",
       "Zip Code                12425\n",
       "County                  16515\n",
       "(Latitude.Longitude)     9686\n",
       "dtype: int64"
      ]
     },
     "execution_count": 7,
     "metadata": {},
     "output_type": "execute_result"
    }
   ],
   "source": [
    "df.isnull().sum()"
   ]
  },
  {
   "cell_type": "markdown",
   "metadata": {},
   "source": [
    "So, there are lot missing values, mostly due to empty rows, let's drop those rows now."
   ]
  },
  {
   "cell_type": "code",
   "execution_count": 8,
   "metadata": {
    "ExecuteTime": {
     "end_time": "2019-07-30T09:11:48.947065Z",
     "start_time": "2019-07-30T09:11:47.532953Z"
    }
   },
   "outputs": [
    {
     "data": {
      "text/plain": [
       "SR Type Code                0\n",
       "SR Description              0\n",
       "Owning Department           0\n",
       "Method Received             0\n",
       "Created Date             5932\n",
       "City                     6406\n",
       "Zip Code                 8190\n",
       "County                  12280\n",
       "(Latitude.Longitude)     5451\n",
       "dtype: int64"
      ]
     },
     "execution_count": 8,
     "metadata": {},
     "output_type": "execute_result"
    }
   ],
   "source": [
    "df = df.dropna(how='all') # how='all' drops rows that have all NaN values, whereas, 'any' will drop any row that has NaN present\n",
    "df.isnull().sum()"
   ]
  },
  {
   "cell_type": "markdown",
   "metadata": {},
   "source": [
    "After dropping rows that had all `NaN` values, now we can drop those that having missing valuable information needed to stratify complaints by their location info. \n",
    "\n"
   ]
  },
  {
   "cell_type": "markdown",
   "metadata": {},
   "source": [
    "#### Missing all location data (i.e. Zip Code and County and City)\n",
    "\n",
    "Let's drop rows that contain all of the missing location info."
   ]
  },
  {
   "cell_type": "code",
   "execution_count": 9,
   "metadata": {
    "ExecuteTime": {
     "end_time": "2019-07-30T09:11:49.313186Z",
     "start_time": "2019-07-30T09:11:48.950828Z"
    }
   },
   "outputs": [
    {
     "name": "stdout",
     "output_type": "stream",
     "text": [
      "Before dimensions:  (743751, 9)\n",
      "After dimensions:  (738061, 9)\n"
     ]
    },
    {
     "data": {
      "text/html": [
       "<div>\n",
       "<style scoped>\n",
       "    .dataframe tbody tr th:only-of-type {\n",
       "        vertical-align: middle;\n",
       "    }\n",
       "\n",
       "    .dataframe tbody tr th {\n",
       "        vertical-align: top;\n",
       "    }\n",
       "\n",
       "    .dataframe thead th {\n",
       "        text-align: right;\n",
       "    }\n",
       "</style>\n",
       "<table border=\"1\" class=\"dataframe\">\n",
       "  <thead>\n",
       "    <tr style=\"text-align: right;\">\n",
       "      <th></th>\n",
       "      <th>SR Type Code</th>\n",
       "      <th>SR Description</th>\n",
       "      <th>Owning Department</th>\n",
       "      <th>Method Received</th>\n",
       "      <th>Created Date</th>\n",
       "      <th>City</th>\n",
       "      <th>Zip Code</th>\n",
       "      <th>County</th>\n",
       "      <th>(Latitude.Longitude)</th>\n",
       "    </tr>\n",
       "  </thead>\n",
       "  <tbody>\n",
       "    <tr>\n",
       "      <th>0</th>\n",
       "      <td>TRASIGMA</td>\n",
       "      <td>Traffic Signal - Maintenance</td>\n",
       "      <td>Transportation</td>\n",
       "      <td>Phone</td>\n",
       "      <td>05/06/2016 12:01:46 PM</td>\n",
       "      <td>AUSTIN</td>\n",
       "      <td>78703.0</td>\n",
       "      <td>TRAVIS</td>\n",
       "      <td>(30.29669887, -97.76826374)</td>\n",
       "    </tr>\n",
       "    <tr>\n",
       "      <th>1</th>\n",
       "      <td>TRASIGMA</td>\n",
       "      <td>Traffic Signal - Maintenance</td>\n",
       "      <td>Transportation</td>\n",
       "      <td>Phone</td>\n",
       "      <td>05/06/2016 07:51:27 PM</td>\n",
       "      <td>AUSTIN</td>\n",
       "      <td>78745.0</td>\n",
       "      <td>TRAVIS</td>\n",
       "      <td>(30.2126949, -97.8015215)</td>\n",
       "    </tr>\n",
       "    <tr>\n",
       "      <th>2</th>\n",
       "      <td>TRASIGMA</td>\n",
       "      <td>Traffic Signal - Maintenance</td>\n",
       "      <td>Transportation</td>\n",
       "      <td>Phone</td>\n",
       "      <td>05/06/2016 08:22:56 PM</td>\n",
       "      <td>AUSTIN</td>\n",
       "      <td>78745.0</td>\n",
       "      <td>TRAVIS</td>\n",
       "      <td>(30.2126949, -97.8015215)</td>\n",
       "    </tr>\n",
       "    <tr>\n",
       "      <th>3</th>\n",
       "      <td>SWSDEADA</td>\n",
       "      <td>ARR Dead Animal Collection</td>\n",
       "      <td>Austin Resource Recovery</td>\n",
       "      <td>Phone</td>\n",
       "      <td>12/15/2016 06:41:40 AM</td>\n",
       "      <td>AUSTIN</td>\n",
       "      <td>78741.0</td>\n",
       "      <td>TRAVIS</td>\n",
       "      <td>(30.23016411, -97.73177647)</td>\n",
       "    </tr>\n",
       "    <tr>\n",
       "      <th>4</th>\n",
       "      <td>TRASIGMA</td>\n",
       "      <td>Traffic Signal - Maintenance</td>\n",
       "      <td>Transportation</td>\n",
       "      <td>Phone</td>\n",
       "      <td>05/06/2016 05:03:45 PM</td>\n",
       "      <td>AUSTIN</td>\n",
       "      <td>78759.0</td>\n",
       "      <td>TRAVIS</td>\n",
       "      <td>(30.38498865, -97.76647071)</td>\n",
       "    </tr>\n",
       "  </tbody>\n",
       "</table>\n",
       "</div>"
      ],
      "text/plain": [
       "  SR Type Code                SR Description         Owning Department Method Received            Created Date    City  Zip Code  County         (Latitude.Longitude)\n",
       "0     TRASIGMA  Traffic Signal - Maintenance            Transportation           Phone  05/06/2016 12:01:46 PM  AUSTIN   78703.0  TRAVIS  (30.29669887, -97.76826374)\n",
       "1     TRASIGMA  Traffic Signal - Maintenance            Transportation           Phone  05/06/2016 07:51:27 PM  AUSTIN   78745.0  TRAVIS    (30.2126949, -97.8015215)\n",
       "2     TRASIGMA  Traffic Signal - Maintenance            Transportation           Phone  05/06/2016 08:22:56 PM  AUSTIN   78745.0  TRAVIS    (30.2126949, -97.8015215)\n",
       "3     SWSDEADA    ARR Dead Animal Collection  Austin Resource Recovery           Phone  12/15/2016 06:41:40 AM  AUSTIN   78741.0  TRAVIS  (30.23016411, -97.73177647)\n",
       "4     TRASIGMA  Traffic Signal - Maintenance            Transportation           Phone  05/06/2016 05:03:45 PM  AUSTIN   78759.0  TRAVIS  (30.38498865, -97.76647071)"
      ]
     },
     "execution_count": 9,
     "metadata": {},
     "output_type": "execute_result"
    }
   ],
   "source": [
    "print('Before dimensions: ', df.shape)\n",
    "df = df.loc[df[['City', 'Zip Code', 'County']].notnull().values.any(axis=1)]\n",
    "print('After dimensions: ', df.shape)\n",
    "df.head()"
   ]
  },
  {
   "cell_type": "code",
   "execution_count": 10,
   "metadata": {
    "ExecuteTime": {
     "end_time": "2019-07-30T09:11:49.937363Z",
     "start_time": "2019-07-30T09:11:49.316983Z"
    }
   },
   "outputs": [
    {
     "data": {
      "text/plain": [
       "SR Type Code               0\n",
       "SR Description             0\n",
       "Owning Department          0\n",
       "Method Received            0\n",
       "Created Date            5889\n",
       "City                     716\n",
       "Zip Code                2500\n",
       "County                  6590\n",
       "(Latitude.Longitude)      70\n",
       "dtype: int64"
      ]
     },
     "execution_count": 10,
     "metadata": {},
     "output_type": "execute_result"
    }
   ],
   "source": [
    "df.isnull().sum()"
   ]
  },
  {
   "cell_type": "markdown",
   "metadata": {},
   "source": [
    "After eliminating rows with no location information, we can now dive into missing `Latitude Longitude` coordinate values, as they are important to our analysis.\n",
    "\n",
    "#### Drop Missing Lat., Long. Coordinates"
   ]
  },
  {
   "cell_type": "code",
   "execution_count": 11,
   "metadata": {
    "ExecuteTime": {
     "end_time": "2019-07-30T09:11:49.990581Z",
     "start_time": "2019-07-30T09:11:49.945842Z"
    }
   },
   "outputs": [
    {
     "ename": "KeyError",
     "evalue": "\"['Latitude Coordinate'] not in index\"",
     "output_type": "error",
     "traceback": [
      "\u001b[0;31m---------------------------------------------------------------------------\u001b[0m",
      "\u001b[0;31mKeyError\u001b[0m                                  Traceback (most recent call last)",
      "\u001b[0;32m<ipython-input-11-ba5e93644bf1>\u001b[0m in \u001b[0;36m<module>\u001b[0;34m\u001b[0m\n\u001b[0;32m----> 1\u001b[0;31m \u001b[0mdf\u001b[0m\u001b[0;34m[\u001b[0m\u001b[0mdf\u001b[0m\u001b[0;34m[\u001b[0m\u001b[0;34m[\u001b[0m\u001b[0;34m'Latitude Coordinate'\u001b[0m\u001b[0;34m]\u001b[0m\u001b[0;34m]\u001b[0m\u001b[0;34m.\u001b[0m\u001b[0misnull\u001b[0m\u001b[0;34m(\u001b[0m\u001b[0;34m)\u001b[0m\u001b[0;34m.\u001b[0m\u001b[0mvalues\u001b[0m\u001b[0;34m]\u001b[0m\u001b[0;34m.\u001b[0m\u001b[0msample\u001b[0m\u001b[0;34m(\u001b[0m\u001b[0;36m10\u001b[0m\u001b[0;34m)\u001b[0m\u001b[0;34m\u001b[0m\u001b[0;34m\u001b[0m\u001b[0m\n\u001b[0m",
      "\u001b[0;32m~/anaconda3/envs/austin_eda/lib/python3.7/site-packages/pandas/core/frame.py\u001b[0m in \u001b[0;36m__getitem__\u001b[0;34m(self, key)\u001b[0m\n\u001b[1;32m   2680\u001b[0m         \u001b[0;32mif\u001b[0m \u001b[0misinstance\u001b[0m\u001b[0;34m(\u001b[0m\u001b[0mkey\u001b[0m\u001b[0;34m,\u001b[0m \u001b[0;34m(\u001b[0m\u001b[0mSeries\u001b[0m\u001b[0;34m,\u001b[0m \u001b[0mnp\u001b[0m\u001b[0;34m.\u001b[0m\u001b[0mndarray\u001b[0m\u001b[0;34m,\u001b[0m \u001b[0mIndex\u001b[0m\u001b[0;34m,\u001b[0m \u001b[0mlist\u001b[0m\u001b[0;34m)\u001b[0m\u001b[0;34m)\u001b[0m\u001b[0;34m:\u001b[0m\u001b[0;34m\u001b[0m\u001b[0;34m\u001b[0m\u001b[0m\n\u001b[1;32m   2681\u001b[0m             \u001b[0;31m# either boolean or fancy integer index\u001b[0m\u001b[0;34m\u001b[0m\u001b[0;34m\u001b[0m\u001b[0;34m\u001b[0m\u001b[0m\n\u001b[0;32m-> 2682\u001b[0;31m             \u001b[0;32mreturn\u001b[0m \u001b[0mself\u001b[0m\u001b[0;34m.\u001b[0m\u001b[0m_getitem_array\u001b[0m\u001b[0;34m(\u001b[0m\u001b[0mkey\u001b[0m\u001b[0;34m)\u001b[0m\u001b[0;34m\u001b[0m\u001b[0;34m\u001b[0m\u001b[0m\n\u001b[0m\u001b[1;32m   2683\u001b[0m         \u001b[0;32melif\u001b[0m \u001b[0misinstance\u001b[0m\u001b[0;34m(\u001b[0m\u001b[0mkey\u001b[0m\u001b[0;34m,\u001b[0m \u001b[0mDataFrame\u001b[0m\u001b[0;34m)\u001b[0m\u001b[0;34m:\u001b[0m\u001b[0;34m\u001b[0m\u001b[0;34m\u001b[0m\u001b[0m\n\u001b[1;32m   2684\u001b[0m             \u001b[0;32mreturn\u001b[0m \u001b[0mself\u001b[0m\u001b[0;34m.\u001b[0m\u001b[0m_getitem_frame\u001b[0m\u001b[0;34m(\u001b[0m\u001b[0mkey\u001b[0m\u001b[0;34m)\u001b[0m\u001b[0;34m\u001b[0m\u001b[0;34m\u001b[0m\u001b[0m\n",
      "\u001b[0;32m~/anaconda3/envs/austin_eda/lib/python3.7/site-packages/pandas/core/frame.py\u001b[0m in \u001b[0;36m_getitem_array\u001b[0;34m(self, key)\u001b[0m\n\u001b[1;32m   2724\u001b[0m             \u001b[0;32mreturn\u001b[0m \u001b[0mself\u001b[0m\u001b[0;34m.\u001b[0m\u001b[0m_take\u001b[0m\u001b[0;34m(\u001b[0m\u001b[0mindexer\u001b[0m\u001b[0;34m,\u001b[0m \u001b[0maxis\u001b[0m\u001b[0;34m=\u001b[0m\u001b[0;36m0\u001b[0m\u001b[0;34m)\u001b[0m\u001b[0;34m\u001b[0m\u001b[0;34m\u001b[0m\u001b[0m\n\u001b[1;32m   2725\u001b[0m         \u001b[0;32melse\u001b[0m\u001b[0;34m:\u001b[0m\u001b[0;34m\u001b[0m\u001b[0;34m\u001b[0m\u001b[0m\n\u001b[0;32m-> 2726\u001b[0;31m             \u001b[0mindexer\u001b[0m \u001b[0;34m=\u001b[0m \u001b[0mself\u001b[0m\u001b[0;34m.\u001b[0m\u001b[0mloc\u001b[0m\u001b[0;34m.\u001b[0m\u001b[0m_convert_to_indexer\u001b[0m\u001b[0;34m(\u001b[0m\u001b[0mkey\u001b[0m\u001b[0;34m,\u001b[0m \u001b[0maxis\u001b[0m\u001b[0;34m=\u001b[0m\u001b[0;36m1\u001b[0m\u001b[0;34m)\u001b[0m\u001b[0;34m\u001b[0m\u001b[0;34m\u001b[0m\u001b[0m\n\u001b[0m\u001b[1;32m   2727\u001b[0m             \u001b[0;32mreturn\u001b[0m \u001b[0mself\u001b[0m\u001b[0;34m.\u001b[0m\u001b[0m_take\u001b[0m\u001b[0;34m(\u001b[0m\u001b[0mindexer\u001b[0m\u001b[0;34m,\u001b[0m \u001b[0maxis\u001b[0m\u001b[0;34m=\u001b[0m\u001b[0;36m1\u001b[0m\u001b[0;34m)\u001b[0m\u001b[0;34m\u001b[0m\u001b[0;34m\u001b[0m\u001b[0m\n\u001b[1;32m   2728\u001b[0m \u001b[0;34m\u001b[0m\u001b[0m\n",
      "\u001b[0;32m~/anaconda3/envs/austin_eda/lib/python3.7/site-packages/pandas/core/indexing.py\u001b[0m in \u001b[0;36m_convert_to_indexer\u001b[0;34m(self, obj, axis, is_setter)\u001b[0m\n\u001b[1;32m   1325\u001b[0m                 \u001b[0;32mif\u001b[0m \u001b[0mmask\u001b[0m\u001b[0;34m.\u001b[0m\u001b[0many\u001b[0m\u001b[0;34m(\u001b[0m\u001b[0;34m)\u001b[0m\u001b[0;34m:\u001b[0m\u001b[0;34m\u001b[0m\u001b[0;34m\u001b[0m\u001b[0m\n\u001b[1;32m   1326\u001b[0m                     raise KeyError('{mask} not in index'\n\u001b[0;32m-> 1327\u001b[0;31m                                    .format(mask=objarr[mask]))\n\u001b[0m\u001b[1;32m   1328\u001b[0m \u001b[0;34m\u001b[0m\u001b[0m\n\u001b[1;32m   1329\u001b[0m                 \u001b[0;32mreturn\u001b[0m \u001b[0mcom\u001b[0m\u001b[0;34m.\u001b[0m\u001b[0m_values_from_object\u001b[0m\u001b[0;34m(\u001b[0m\u001b[0mindexer\u001b[0m\u001b[0;34m)\u001b[0m\u001b[0;34m\u001b[0m\u001b[0;34m\u001b[0m\u001b[0m\n",
      "\u001b[0;31mKeyError\u001b[0m: \"['Latitude Coordinate'] not in index\""
     ]
    }
   ],
   "source": [
    "df[df[['Latitude Coordinate']].isnull().values].sample(10)"
   ]
  },
  {
   "cell_type": "code",
   "execution_count": null,
   "metadata": {
    "ExecuteTime": {
     "end_time": "2019-07-30T09:11:50.193774Z",
     "start_time": "2019-07-30T09:11:49.996217Z"
    }
   },
   "outputs": [],
   "source": [
    "print('Before dimensions: ', df.shape)\n",
    "df = df.loc[df[['Latitude Coordinate', 'Longitude Coordinate']].notnull().values.any(axis=1)]\n",
    "print('After dimensions: ', df.shape)\n",
    "df.head()"
   ]
  },
  {
   "cell_type": "markdown",
   "metadata": {},
   "source": [
    "#### Drop Missing Zipcodes"
   ]
  },
  {
   "cell_type": "markdown",
   "metadata": {},
   "source": [
    "> NOTE: We can actually reverse geocode location info like, Street Address, City, County, Zip Code, and State using something like [Google Maps Reverse Geocode API](https://developers.google.com/maps/documentation/geocoding/start#reverse), and have that fill in the missing information. \n"
   ]
  },
  {
   "cell_type": "code",
   "execution_count": null,
   "metadata": {
    "ExecuteTime": {
     "end_time": "2019-07-30T09:11:50.374191Z",
     "start_time": "2019-07-30T09:11:50.198122Z"
    }
   },
   "outputs": [],
   "source": [
    "print('Before dimensions: ', df.shape)\n",
    "df = df.loc[df['Zip Code'].notnull().values]\n",
    "print('After dimensions: ', df.shape)\n",
    "df.head()"
   ]
  },
  {
   "cell_type": "markdown",
   "metadata": {},
   "source": [
    "### Filter out rows that match Zipcodes from Austin and Travis County"
   ]
  },
  {
   "cell_type": "markdown",
   "metadata": {},
   "source": [
    "Let's use official City of Austin's to figure out Zip Codes under city territory.\n",
    "\n",
    "![](https://i.imgur.com/kdG5bxm.png)\n"
   ]
  },
  {
   "cell_type": "markdown",
   "metadata": {},
   "source": [
    "All of the polygons with zipcodes intersecting under blue-shaded region are under `City of Austin's` jurisdiction, but it's hazy at best, so we will keep all those complaints, under those zipcodes. "
   ]
  },
  {
   "cell_type": "code",
   "execution_count": null,
   "metadata": {
    "ExecuteTime": {
     "end_time": "2019-07-30T09:11:50.579044Z",
     "start_time": "2019-07-30T09:11:50.378011Z"
    }
   },
   "outputs": [],
   "source": [
    "austin_zipcodes = \"\"\"\n",
    "78701,78702,78703,78704,78705,\n",
    "78721,78722,78723,78724,78725,\n",
    "78726,78727,78728,78729,78730,\n",
    "78731,78732,78733,78734,78735,\n",
    "78736,78737,78738,78739,78741,\n",
    "78742,78744,78745,78746,78747,\n",
    "78748,78749,78750,78751,78752,\n",
    "78753,78754,78756,78757,78758,\n",
    "78759,78610,78617,78653,78660\n",
    "\"\"\".split(',')\n",
    "austin_zipcodes = [x.strip() for x in austin_zipcodes]\n",
    "print('Before dimensions: ', df.shape)\n",
    "df = df.loc[df['Zip Code'].isin(np.array(austin_zipcodes))]\n",
    "print('After dimensions: ', df.shape)\n",
    "df.head()"
   ]
  },
  {
   "cell_type": "code",
   "execution_count": null,
   "metadata": {
    "ExecuteTime": {
     "end_time": "2019-07-30T09:11:50.753688Z",
     "start_time": "2019-07-30T09:11:50.583295Z"
    }
   },
   "outputs": [],
   "source": [
    "df['County'].value_counts(dropna=False)"
   ]
  },
  {
   "cell_type": "markdown",
   "metadata": {
    "ExecuteTime": {
     "end_time": "2019-07-30T01:54:15.840935Z",
     "start_time": "2019-07-30T01:54:15.359601Z"
    }
   },
   "source": [
    "### Clean `city` column"
   ]
  },
  {
   "cell_type": "markdown",
   "metadata": {},
   "source": [
    "#### Strip leading and trailing whitespaces first from entire dataframe\n",
    "\n",
    "##### Before Stripping whitespaces"
   ]
  },
  {
   "cell_type": "code",
   "execution_count": null,
   "metadata": {
    "ExecuteTime": {
     "end_time": "2019-07-30T09:11:51.585272Z",
     "start_time": "2019-07-30T09:11:50.758374Z"
    }
   },
   "outputs": [],
   "source": [
    "df.isnull().sum()"
   ]
  },
  {
   "cell_type": "code",
   "execution_count": null,
   "metadata": {
    "ExecuteTime": {
     "end_time": "2019-07-30T09:11:55.783450Z",
     "start_time": "2019-07-30T09:11:51.589155Z"
    }
   },
   "outputs": [],
   "source": [
    "df = df.apply(lambda x: x.str.strip() if x.dtype == \"object\" else x)\n",
    "df.replace('', np.NaN, inplace=True)"
   ]
  },
  {
   "cell_type": "markdown",
   "metadata": {},
   "source": [
    "##### After stripping whitespaces"
   ]
  },
  {
   "cell_type": "code",
   "execution_count": null,
   "metadata": {
    "ExecuteTime": {
     "end_time": "2019-07-30T09:11:56.390703Z",
     "start_time": "2019-07-30T09:11:55.787461Z"
    }
   },
   "outputs": [],
   "source": [
    "df.isnull().sum()"
   ]
  },
  {
   "cell_type": "markdown",
   "metadata": {},
   "source": [
    "#### Let's start by fixing casing of `City` and `County` columns to `Title Case`, and fix any misspellings."
   ]
  },
  {
   "cell_type": "code",
   "execution_count": null,
   "metadata": {
    "ExecuteTime": {
     "end_time": "2019-07-30T09:11:57.142429Z",
     "start_time": "2019-07-30T09:11:56.395144Z"
    }
   },
   "outputs": [],
   "source": [
    "df['County'] = df['County'].str.title()\n",
    "df['County'].value_counts(dropna=False).sort_values(ascending=False)"
   ]
  },
  {
   "cell_type": "code",
   "execution_count": null,
   "metadata": {
    "ExecuteTime": {
     "end_time": "2019-07-30T09:11:57.888869Z",
     "start_time": "2019-07-30T09:11:57.146385Z"
    }
   },
   "outputs": [],
   "source": [
    "df['City'] = df['City'].str.title()\n",
    "df['City'].value_counts(dropna=False).sort_values(ascending=False)"
   ]
  },
  {
   "cell_type": "markdown",
   "metadata": {},
   "source": [
    "Not so surprisingly we have so many typos, and misspellings, which we can fix, but surprisingly there are calls from cities that are miles apart like `Houston`, `Dallas`, etc.., so let's keep those that are only from `City of Austin` in Travis County which is our main focus."
   ]
  },
  {
   "cell_type": "markdown",
   "metadata": {},
   "source": [
    "##### Austin and it's Extraterritorial Jurisdiction"
   ]
  },
  {
   "cell_type": "markdown",
   "metadata": {},
   "source": [
    "Another thing to note is `Austin's 5 ETJ's` (Extraterritorial Jurisdiction) refers to cities, is the legal capability of a municipality to exercise authority beyond the boundaries of its incorporated area. In the US, Texas is one of the states that by law allow cities to claim ETJ to contiguous land beyond their city limits.  Austin’s ETJ currently extends into 4 counties including Williamson, Travis, Hays, and Bastrop."
   ]
  },
  {
   "cell_type": "code",
   "execution_count": null,
   "metadata": {
    "ExecuteTime": {
     "end_time": "2019-07-30T09:11:58.566967Z",
     "start_time": "2019-07-30T09:11:57.893045Z"
    }
   },
   "outputs": [],
   "source": [
    "df.loc[df['City'].str.contains('Austin 5 Etj', na=False), 'County'].value_counts(dropna=False)"
   ]
  },
  {
   "cell_type": "code",
   "execution_count": null,
   "metadata": {
    "ExecuteTime": {
     "end_time": "2019-07-30T09:11:59.256892Z",
     "start_time": "2019-07-30T09:11:58.570719Z"
    }
   },
   "outputs": [],
   "source": [
    "df.loc[df['City'].str.contains('Austin 5 Etj', na=False), 'Zip Code'].value_counts(dropna=False).sort_index()"
   ]
  },
  {
   "cell_type": "markdown",
   "metadata": {},
   "source": [
    "#### Fix `Austin` related typos and misspellings"
   ]
  },
  {
   "cell_type": "code",
   "execution_count": null,
   "metadata": {
    "ExecuteTime": {
     "end_time": "2019-07-30T09:12:00.133749Z",
     "start_time": "2019-07-30T09:11:59.260639Z"
    }
   },
   "outputs": [],
   "source": [
    "df.loc[(df['City'] != 'Austin 5 Etj') & df['City'].str.startswith('Aus', na=False).values, 'City'] = 'Austin'\n",
    "df['City'].value_counts(dropna=False).sort_values(ascending=False)"
   ]
  },
  {
   "cell_type": "markdown",
   "metadata": {},
   "source": [
    "Looks like there is considerable complaints from surrounding territories that are under City of Austin's jurisdiction."
   ]
  },
  {
   "cell_type": "code",
   "execution_count": null,
   "metadata": {
    "ExecuteTime": {
     "end_time": "2019-07-30T09:12:00.320569Z",
     "start_time": "2019-07-30T09:12:00.137859Z"
    }
   },
   "outputs": [],
   "source": [
    "df['County'].value_counts(dropna=False).sort_index()"
   ]
  },
  {
   "cell_type": "code",
   "execution_count": null,
   "metadata": {
    "ExecuteTime": {
     "end_time": "2019-07-30T09:12:00.640723Z",
     "start_time": "2019-07-30T09:12:00.324293Z"
    }
   },
   "outputs": [],
   "source": [
    "df[['County', 'City']].groupby(['County', 'City']).size()"
   ]
  },
  {
   "cell_type": "markdown",
   "metadata": {},
   "source": [
    "Looks like there are discrepancies in the data as `Austin` is in `Williamson`, `Bastrop`, and `Hays`, while the zipcodes we filtered only pertained to `City of Austin` territories in `Travis` county.\n",
    "\n",
    "As we noted earlier, using Google Maps API to reverse geocode to actual data would need to be done to assert the validity of `Zip Code`, `City` and `County`. "
   ]
  },
  {
   "cell_type": "markdown",
   "metadata": {},
   "source": [
    "#### Drop duplicate rows"
   ]
  },
  {
   "cell_type": "markdown",
   "metadata": {},
   "source": [
    "Let's check first to see if we have duplicate rows or not,"
   ]
  },
  {
   "cell_type": "code",
   "execution_count": null,
   "metadata": {
    "ExecuteTime": {
     "end_time": "2019-07-30T09:12:02.162257Z",
     "start_time": "2019-07-30T09:12:00.644870Z"
    }
   },
   "outputs": [],
   "source": [
    "df[df.duplicated()].sample(10)"
   ]
  },
  {
   "cell_type": "markdown",
   "metadata": {},
   "source": [
    "Indeed, there are duplicate rows, let's drop them."
   ]
  },
  {
   "cell_type": "code",
   "execution_count": null,
   "metadata": {
    "ExecuteTime": {
     "end_time": "2019-07-30T09:12:05.275598Z",
     "start_time": "2019-07-30T09:12:02.166042Z"
    }
   },
   "outputs": [],
   "source": [
    "print('Before dimensions: ', df.shape)\n",
    "df = df.drop_duplicates()\n",
    "print('After dimensions: ', df.shape)\n",
    "df[df.duplicated()].head() # Check again to see if duplicate rows are dropped"
   ]
  },
  {
   "cell_type": "markdown",
   "metadata": {},
   "source": [
    "Let's now drop the `City` and `County` columns, since we are going to use only `Zip Code` and `Latitude Longitude` columns to map our plots."
   ]
  },
  {
   "cell_type": "markdown",
   "metadata": {},
   "source": [
    "#### Drop `City`, and `County` columns"
   ]
  },
  {
   "cell_type": "code",
   "execution_count": null,
   "metadata": {
    "ExecuteTime": {
     "end_time": "2019-07-30T09:12:05.539495Z",
     "start_time": "2019-07-30T09:12:05.279251Z"
    }
   },
   "outputs": [],
   "source": [
    "df = df.drop(['City', 'County'], axis=1)\n",
    "df = df.reset_index(drop=True)\n",
    "df.head()"
   ]
  },
  {
   "cell_type": "markdown",
   "metadata": {},
   "source": [
    "#### Drop rows that have no `Created Date`"
   ]
  },
  {
   "cell_type": "markdown",
   "metadata": {},
   "source": [
    "For our analysis to figure when the `Complaint` was noted, we need `Created Date` to be non-null containing column, so let's drop those rows."
   ]
  },
  {
   "cell_type": "code",
   "execution_count": null,
   "metadata": {
    "ExecuteTime": {
     "end_time": "2019-07-30T09:12:05.637207Z",
     "start_time": "2019-07-30T09:12:05.543262Z"
    }
   },
   "outputs": [],
   "source": [
    "df[df['Created Date'].isnull().values].head()"
   ]
  },
  {
   "cell_type": "code",
   "execution_count": null,
   "metadata": {
    "ExecuteTime": {
     "end_time": "2019-07-30T09:12:06.273891Z",
     "start_time": "2019-07-30T09:12:05.641121Z"
    }
   },
   "outputs": [],
   "source": [
    "df = df.loc[df['Created Date'].notnull().values]\n",
    "df.isnull().sum()"
   ]
  },
  {
   "cell_type": "markdown",
   "metadata": {},
   "source": [
    "##### Reset the index"
   ]
  },
  {
   "cell_type": "code",
   "execution_count": null,
   "metadata": {
    "ExecuteTime": {
     "end_time": "2019-07-30T09:12:06.847011Z",
     "start_time": "2019-07-30T09:12:06.278014Z"
    },
    "scrolled": true
   },
   "outputs": [],
   "source": [
    "df = df.reset_index(drop=True)\n",
    "df.info()"
   ]
  },
  {
   "cell_type": "markdown",
   "metadata": {},
   "source": [
    "### Some Feature Engineering"
   ]
  },
  {
   "cell_type": "code",
   "execution_count": null,
   "metadata": {
    "ExecuteTime": {
     "end_time": "2019-07-30T09:12:15.089946Z",
     "start_time": "2019-07-30T09:12:06.851045Z"
    }
   },
   "outputs": [],
   "source": [
    "# Change Zip Code from float to integer data type\n",
    "df['Zip Code'] = df['Zip Code'].astype(int)\n",
    "\n",
    "# Change Created Date to datetime object, so we can extract date, month, year, and hour\n",
    "df['Created Date'] = pd.to_datetime(df['Created Date'], format='%m/%d/%Y %I:%M:%S %p')\n",
    "\n",
    "# Add month, year columns\n",
    "df['Incident Year'] = df['Created Date'].dt.year\n",
    "df['Incident Month'] = df['Created Date'].dt.month\n",
    "df['Incident Hour'] = df['Created Date'].dt.hour\n",
    "df['Incident Weekday'] = df['Created Date'].dt.weekday_name\n",
    "df.head()"
   ]
  },
  {
   "cell_type": "markdown",
   "metadata": {},
   "source": [
    "### Rename Columns"
   ]
  },
  {
   "cell_type": "code",
   "execution_count": null,
   "metadata": {
    "ExecuteTime": {
     "end_time": "2019-07-30T09:12:15.519891Z",
     "start_time": "2019-07-30T09:12:15.098195Z"
    }
   },
   "outputs": [],
   "source": [
    "df = df.rename(columns={\n",
    "    'SR Type Code':'Incident Type Code',\n",
    "    'SR Description':'Incident Description',\n",
    "    'Created Date':'Incident Date'\n",
    "})\n",
    "df.head()"
   ]
  },
  {
   "cell_type": "code",
   "execution_count": null,
   "metadata": {
    "ExecuteTime": {
     "end_time": "2019-07-30T09:12:15.547437Z",
     "start_time": "2019-07-30T09:12:15.523710Z"
    }
   },
   "outputs": [],
   "source": [
    "# Verify we have all incidents from all years\n",
    "df['Incident Year'].value_counts()"
   ]
  },
  {
   "cell_type": "markdown",
   "metadata": {},
   "source": [
    "### Save the clean data frame"
   ]
  },
  {
   "cell_type": "code",
   "execution_count": null,
   "metadata": {
    "ExecuteTime": {
     "end_time": "2019-07-30T09:12:36.613230Z",
     "start_time": "2019-07-30T09:12:15.556750Z"
    }
   },
   "outputs": [],
   "source": [
    "!rm -rf 'clean_data/clean_austin_311.csv'\n",
    "df.to_csv('clean_data/clean_austin_311.csv', index=False)"
   ]
  }
 ],
 "metadata": {
  "kernelspec": {
   "display_name": "Python 3.7 (Austin 311 EDA)",
   "language": "python",
   "name": "austin_eda"
  },
  "language_info": {
   "codemirror_mode": {
    "name": "ipython",
    "version": 3
   },
   "file_extension": ".py",
   "mimetype": "text/x-python",
   "name": "python",
   "nbconvert_exporter": "python",
   "pygments_lexer": "ipython3",
   "version": "3.7.3"
  }
 },
 "nbformat": 4,
 "nbformat_minor": 4
}
