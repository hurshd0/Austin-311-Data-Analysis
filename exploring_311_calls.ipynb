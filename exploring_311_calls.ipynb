{
 "cells": [
  {
   "cell_type": "markdown",
   "metadata": {},
   "source": [
    "# Exploratory Analysis of Austin 3-1-1 Calls"
   ]
  },
  {
   "cell_type": "code",
   "execution_count": 1,
   "metadata": {},
   "outputs": [],
   "source": [
    "%matplotlib inline \n",
    "import numpy as np # linear algebra lib\n",
    "import pandas as pd # data processing, CSV file I/O (e.g. pd.read_csv)\n",
    "import scipy.stats as stats # Stats API \n",
    "import matplotlib.pyplot as plt # Plotting API\n",
    "import seaborn as sns # Wrapper for Matplotlib \n",
    "import plotly.graph_objs as go # for interactive plotting\n",
    "import plotly_express as px # Wrapper for plotly https://plot.ly/python/plotly-express/#visualize-distributions\n",
    "\n",
    "plt.style.use(style='fivethirtyeight')\n",
    "sns.set(context='notebook', style='darkgrid', palette='colorblind')\n",
    "\n",
    "import warnings # Necessary to ignore warnings\n",
    "warnings.filterwarnings('ignore')"
   ]
  },
  {
   "cell_type": "code",
   "execution_count": null,
   "metadata": {},
   "outputs": [],
   "source": [
    "austin_311 = pd.read_csv('https://austin-311-data.s3.us-east-2.amazonaws.com/complete_austin_311.csv')\n",
    "austin_311.head()"
   ]
  },
  {
   "cell_type": "code",
   "execution_count": null,
   "metadata": {},
   "outputs": [],
   "source": []
  }
 ],
 "metadata": {
  "kernelspec": {
   "display_name": "Python 3.7 (Austin 311 EDA)",
   "language": "python",
   "name": "austin_eda"
  },
  "language_info": {
   "codemirror_mode": {
    "name": "ipython",
    "version": 3
   },
   "file_extension": ".py",
   "mimetype": "text/x-python",
   "name": "python",
   "nbconvert_exporter": "python",
   "pygments_lexer": "ipython3",
   "version": "3.7.3"
  }
 },
 "nbformat": 4,
 "nbformat_minor": 4
}
