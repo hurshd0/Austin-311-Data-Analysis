{
 "cells": [
  {
   "cell_type": "markdown",
   "metadata": {},
   "source": [
    "# Austin-3-1-1 EDA\n",
    "\n",
    "![](imgs/austintexas-gov.png)"
   ]
  },
  {
   "cell_type": "code",
   "execution_count": 34,
   "metadata": {
    "ExecuteTime": {
     "end_time": "2019-07-30T04:04:03.940293Z",
     "start_time": "2019-07-30T04:04:03.912379Z"
    }
   },
   "outputs": [],
   "source": [
    "%matplotlib inline\n",
    "\n",
    "import numpy as np # Linear algebra lib\n",
    "import pandas as pd # Data analysis lib\n",
    "import matplotlib.pyplot as plt # plotting lib\n",
    "import seaborn as sns # matplotlib wrapper plotting lib\n",
    "import plotly.graph_objects as go # to customize plotly\n",
    "import plotly_express as px\n",
    "\n",
    "# Removes rows and columns truncation of '...'\n",
    "pd.set_option('display.max_rows', 500)\n",
    "pd.set_option('display.max_columns', 500)\n",
    "pd.set_option('display.width', 1000)\n",
    "\n",
    "# Matplotlib and Seaborn params\n",
    "from matplotlib import rcParams\n",
    "rcParams['figure.figsize'] = 10, 6\n",
    "sns.set_palette('colorblind') # Makes it colorblind safe plots\n",
    "sns.set_context('notebook')\n",
    "\n",
    "# Ignore the warnings\n",
    "import warnings"
   ]
  },
  {
   "cell_type": "markdown",
   "metadata": {},
   "source": [
    "## Load data"
   ]
  },
  {
   "cell_type": "code",
   "execution_count": 35,
   "metadata": {
    "ExecuteTime": {
     "end_time": "2019-07-30T04:04:04.004746Z",
     "start_time": "2019-07-30T04:04:03.944654Z"
    }
   },
   "outputs": [],
   "source": [
    "# Toggle Comments to run\n",
    "# ! rm -f raw_data/'311_Unified_Data.csv'\n",
    "# !wget 'https://austin-311-data.s3.us-east-2.amazonaws.com/311_Unified_Data.csv' -P raw_data\n",
    "# !ls -lh raw_data\n",
    "# !head raw_data/'311_Unified_Data.csv'\n",
    "# !tail raw_data/'311_Unified_Data.csv'\n",
    "# !wc -l raw_data/'311_Unified_Data.csv'"
   ]
  },
  {
   "cell_type": "markdown",
   "metadata": {},
   "source": [
    "## Clean Data"
   ]
  },
  {
   "cell_type": "markdown",
   "metadata": {},
   "source": [
    "Start by loading the dataset"
   ]
  },
  {
   "cell_type": "code",
   "execution_count": 36,
   "metadata": {
    "ExecuteTime": {
     "end_time": "2019-07-30T04:04:17.552491Z",
     "start_time": "2019-07-30T04:04:04.014695Z"
    }
   },
   "outputs": [
    {
     "data": {
      "text/html": [
       "<div>\n",
       "<style scoped>\n",
       "    .dataframe tbody tr th:only-of-type {\n",
       "        vertical-align: middle;\n",
       "    }\n",
       "\n",
       "    .dataframe tbody tr th {\n",
       "        vertical-align: top;\n",
       "    }\n",
       "\n",
       "    .dataframe thead th {\n",
       "        text-align: right;\n",
       "    }\n",
       "</style>\n",
       "<table border=\"1\" class=\"dataframe\">\n",
       "  <thead>\n",
       "    <tr style=\"text-align: right;\">\n",
       "      <th></th>\n",
       "      <th>Service Request (SR) Number</th>\n",
       "      <th>SR Type Code</th>\n",
       "      <th>SR Description</th>\n",
       "      <th>Owning Department</th>\n",
       "      <th>Method Received</th>\n",
       "      <th>SR Status</th>\n",
       "      <th>Status Change Date</th>\n",
       "      <th>Created Date</th>\n",
       "      <th>Last Update Date</th>\n",
       "      <th>Close Date</th>\n",
       "      <th>SR Location</th>\n",
       "      <th>Street Number</th>\n",
       "      <th>Street Name</th>\n",
       "      <th>City</th>\n",
       "      <th>Zip Code</th>\n",
       "      <th>County</th>\n",
       "      <th>State Plane X Coordinate</th>\n",
       "      <th>State Plane Y Coordinate</th>\n",
       "      <th>Latitude Coordinate</th>\n",
       "      <th>Longitude Coordinate</th>\n",
       "      <th>(Latitude.Longitude)</th>\n",
       "      <th>Council District</th>\n",
       "      <th>Map Page</th>\n",
       "      <th>Map Tile</th>\n",
       "    </tr>\n",
       "  </thead>\n",
       "  <tbody>\n",
       "    <tr>\n",
       "      <th>0</th>\n",
       "      <td>16-00107769</td>\n",
       "      <td>TRASIGMA</td>\n",
       "      <td>Traffic Signal - Maintenance</td>\n",
       "      <td>Transportation</td>\n",
       "      <td>Phone</td>\n",
       "      <td>Duplicate (closed)</td>\n",
       "      <td>05/06/2016 12:11:57 PM</td>\n",
       "      <td>05/06/2016 12:01:46 PM</td>\n",
       "      <td>05/06/2016 12:11:57 PM</td>\n",
       "      <td>05/06/2016 12:11:57 PM</td>\n",
       "      <td>WINDSOR RD &amp; EXPOSITION BLVD, AUSTIN, TX 78703</td>\n",
       "      <td>NaN</td>\n",
       "      <td>WINDSOR RD &amp; EXPOSITION BLVD</td>\n",
       "      <td>AUSTIN</td>\n",
       "      <td>78703.0</td>\n",
       "      <td>TRAVIS</td>\n",
       "      <td>3106038.49745799</td>\n",
       "      <td>1.008098e+07</td>\n",
       "      <td>30.296699</td>\n",
       "      <td>-97.768264</td>\n",
       "      <td>(30.29669887, -97.76826374)</td>\n",
       "      <td>10.0</td>\n",
       "      <td>584C</td>\n",
       "      <td>MH24</td>\n",
       "    </tr>\n",
       "    <tr>\n",
       "      <th>1</th>\n",
       "      <td>16-00108244</td>\n",
       "      <td>TRASIGMA</td>\n",
       "      <td>Traffic Signal - Maintenance</td>\n",
       "      <td>Transportation</td>\n",
       "      <td>Phone</td>\n",
       "      <td>Duplicate (closed)</td>\n",
       "      <td>05/06/2016 07:51:27 PM</td>\n",
       "      <td>05/06/2016 07:51:27 PM</td>\n",
       "      <td>05/06/2016 07:51:27 PM</td>\n",
       "      <td>05/06/2016 07:51:27 PM</td>\n",
       "      <td>6001 MANCHACA RD, AUSTIN, TX 78745</td>\n",
       "      <td>6001</td>\n",
       "      <td>MANCHACA</td>\n",
       "      <td>AUSTIN</td>\n",
       "      <td>78745.0</td>\n",
       "      <td>TRAVIS</td>\n",
       "      <td>3096240.5</td>\n",
       "      <td>1.005019e+07</td>\n",
       "      <td>30.212695</td>\n",
       "      <td>-97.801521</td>\n",
       "      <td>(30.2126949, -97.8015215)</td>\n",
       "      <td>5.0</td>\n",
       "      <td>643M</td>\n",
       "      <td>MF17</td>\n",
       "    </tr>\n",
       "    <tr>\n",
       "      <th>2</th>\n",
       "      <td>16-00108269</td>\n",
       "      <td>TRASIGMA</td>\n",
       "      <td>Traffic Signal - Maintenance</td>\n",
       "      <td>Transportation</td>\n",
       "      <td>Phone</td>\n",
       "      <td>Duplicate (closed)</td>\n",
       "      <td>05/06/2016 08:22:56 PM</td>\n",
       "      <td>05/06/2016 08:22:56 PM</td>\n",
       "      <td>05/06/2016 08:22:56 PM</td>\n",
       "      <td>05/06/2016 08:22:56 PM</td>\n",
       "      <td>6001 MANCHACA RD, AUSTIN, TX 78745</td>\n",
       "      <td>6001</td>\n",
       "      <td>MANCHACA</td>\n",
       "      <td>AUSTIN</td>\n",
       "      <td>78745.0</td>\n",
       "      <td>TRAVIS</td>\n",
       "      <td>3096240.5</td>\n",
       "      <td>1.005019e+07</td>\n",
       "      <td>30.212695</td>\n",
       "      <td>-97.801521</td>\n",
       "      <td>(30.2126949, -97.8015215)</td>\n",
       "      <td>5.0</td>\n",
       "      <td>643M</td>\n",
       "      <td>MF17</td>\n",
       "    </tr>\n",
       "    <tr>\n",
       "      <th>3</th>\n",
       "      <td>16-00324071</td>\n",
       "      <td>SWSDEADA</td>\n",
       "      <td>ARR Dead Animal Collection</td>\n",
       "      <td>Austin Resource Recovery</td>\n",
       "      <td>Phone</td>\n",
       "      <td>Closed</td>\n",
       "      <td>12/15/2016 09:05:43 AM</td>\n",
       "      <td>12/15/2016 06:41:40 AM</td>\n",
       "      <td>12/15/2016 09:05:43 AM</td>\n",
       "      <td>12/15/2016 09:05:43 AM</td>\n",
       "      <td>2200 E OLTORF ST, AUSTIN, TX 78741</td>\n",
       "      <td>2200</td>\n",
       "      <td>OLTORF</td>\n",
       "      <td>AUSTIN</td>\n",
       "      <td>78741.0</td>\n",
       "      <td>TRAVIS</td>\n",
       "      <td>3118116.50749136</td>\n",
       "      <td>1.005705e+07</td>\n",
       "      <td>30.230164</td>\n",
       "      <td>-97.731776</td>\n",
       "      <td>(30.23016411, -97.73177647)</td>\n",
       "      <td>3.0</td>\n",
       "      <td>615X</td>\n",
       "      <td>MJ19</td>\n",
       "    </tr>\n",
       "    <tr>\n",
       "      <th>4</th>\n",
       "      <td>16-00108062</td>\n",
       "      <td>TRASIGMA</td>\n",
       "      <td>Traffic Signal - Maintenance</td>\n",
       "      <td>Transportation</td>\n",
       "      <td>Phone</td>\n",
       "      <td>Duplicate (closed)</td>\n",
       "      <td>05/10/2016 04:56:52 PM</td>\n",
       "      <td>05/06/2016 05:03:45 PM</td>\n",
       "      <td>05/10/2016 04:56:52 PM</td>\n",
       "      <td>05/10/2016 04:56:52 PM</td>\n",
       "      <td>8401 N CAPITAL OF TEXAS HWY NB, AUSTIN, TX 78759</td>\n",
       "      <td>8401</td>\n",
       "      <td>CAPITAL OF TEXAS</td>\n",
       "      <td>AUSTIN</td>\n",
       "      <td>78759.0</td>\n",
       "      <td>TRAVIS</td>\n",
       "      <td>3105863.35797435</td>\n",
       "      <td>1.011309e+07</td>\n",
       "      <td>30.384989</td>\n",
       "      <td>-97.766471</td>\n",
       "      <td>(30.38498865, -97.76647071)</td>\n",
       "      <td>10.0</td>\n",
       "      <td>494L</td>\n",
       "      <td>MH32</td>\n",
       "    </tr>\n",
       "  </tbody>\n",
       "</table>\n",
       "</div>"
      ],
      "text/plain": [
       "  Service Request (SR) Number SR Type Code                SR Description         Owning Department Method Received           SR Status      Status Change Date            Created Date        Last Update Date              Close Date                                       SR Location Street Number                   Street Name    City  Zip Code  County State Plane X Coordinate  State Plane Y Coordinate  Latitude Coordinate  Longitude Coordinate         (Latitude.Longitude)  Council District Map Page Map Tile\n",
       "0                 16-00107769     TRASIGMA  Traffic Signal - Maintenance            Transportation           Phone  Duplicate (closed)  05/06/2016 12:11:57 PM  05/06/2016 12:01:46 PM  05/06/2016 12:11:57 PM  05/06/2016 12:11:57 PM    WINDSOR RD & EXPOSITION BLVD, AUSTIN, TX 78703           NaN  WINDSOR RD & EXPOSITION BLVD  AUSTIN   78703.0  TRAVIS         3106038.49745799              1.008098e+07            30.296699            -97.768264  (30.29669887, -97.76826374)              10.0     584C     MH24\n",
       "1                 16-00108244     TRASIGMA  Traffic Signal - Maintenance            Transportation           Phone  Duplicate (closed)  05/06/2016 07:51:27 PM  05/06/2016 07:51:27 PM  05/06/2016 07:51:27 PM  05/06/2016 07:51:27 PM                6001 MANCHACA RD, AUSTIN, TX 78745          6001                      MANCHACA  AUSTIN   78745.0  TRAVIS                3096240.5              1.005019e+07            30.212695            -97.801521    (30.2126949, -97.8015215)               5.0     643M     MF17\n",
       "2                 16-00108269     TRASIGMA  Traffic Signal - Maintenance            Transportation           Phone  Duplicate (closed)  05/06/2016 08:22:56 PM  05/06/2016 08:22:56 PM  05/06/2016 08:22:56 PM  05/06/2016 08:22:56 PM                6001 MANCHACA RD, AUSTIN, TX 78745          6001                      MANCHACA  AUSTIN   78745.0  TRAVIS                3096240.5              1.005019e+07            30.212695            -97.801521    (30.2126949, -97.8015215)               5.0     643M     MF17\n",
       "3                 16-00324071     SWSDEADA    ARR Dead Animal Collection  Austin Resource Recovery           Phone              Closed  12/15/2016 09:05:43 AM  12/15/2016 06:41:40 AM  12/15/2016 09:05:43 AM  12/15/2016 09:05:43 AM                2200 E OLTORF ST, AUSTIN, TX 78741          2200                        OLTORF  AUSTIN   78741.0  TRAVIS         3118116.50749136              1.005705e+07            30.230164            -97.731776  (30.23016411, -97.73177647)               3.0     615X     MJ19\n",
       "4                 16-00108062     TRASIGMA  Traffic Signal - Maintenance            Transportation           Phone  Duplicate (closed)  05/10/2016 04:56:52 PM  05/06/2016 05:03:45 PM  05/10/2016 04:56:52 PM  05/10/2016 04:56:52 PM  8401 N CAPITAL OF TEXAS HWY NB, AUSTIN, TX 78759          8401              CAPITAL OF TEXAS  AUSTIN   78759.0  TRAVIS         3105863.35797435              1.011309e+07            30.384989            -97.766471  (30.38498865, -97.76647071)              10.0     494L     MH32"
      ]
     },
     "execution_count": 36,
     "metadata": {},
     "output_type": "execute_result"
    }
   ],
   "source": [
    "df = pd.read_csv('raw_data/311_Unified_Data.csv', low_memory=False)\n",
    "df.head()"
   ]
  },
  {
   "cell_type": "code",
   "execution_count": 37,
   "metadata": {
    "ExecuteTime": {
     "end_time": "2019-07-30T04:04:17.562577Z",
     "start_time": "2019-07-30T04:04:17.556194Z"
    }
   },
   "outputs": [
    {
     "name": "stdout",
     "output_type": "stream",
     "text": [
      "This dataset has number of rows 747986, number of cols 24\n"
     ]
    }
   ],
   "source": [
    "print('This dataset has number of rows {}, number of cols {}'.format(df.shape[0], df.shape[1]))"
   ]
  },
  {
   "cell_type": "code",
   "execution_count": 38,
   "metadata": {
    "ExecuteTime": {
     "end_time": "2019-07-30T04:04:19.553876Z",
     "start_time": "2019-07-30T04:04:17.565992Z"
    }
   },
   "outputs": [
    {
     "name": "stdout",
     "output_type": "stream",
     "text": [
      "<class 'pandas.core.frame.DataFrame'>\n",
      "RangeIndex: 747986 entries, 0 to 747985\n",
      "Data columns (total 24 columns):\n",
      "Service Request (SR) Number    743752 non-null object\n",
      "SR Type Code                   743751 non-null object\n",
      "SR Description                 743751 non-null object\n",
      "Owning Department              743751 non-null object\n",
      "Method Received                743751 non-null object\n",
      "SR Status                      743751 non-null object\n",
      "Status Change Date             737819 non-null object\n",
      "Created Date                   737819 non-null object\n",
      "Last Update Date               737819 non-null object\n",
      "Close Date                     695220 non-null object\n",
      "SR Location                    738374 non-null object\n",
      "Street Number                  592926 non-null object\n",
      "Street Name                    738287 non-null object\n",
      "City                           737345 non-null object\n",
      "Zip Code                       735561 non-null float64\n",
      "County                         731471 non-null object\n",
      "State Plane X Coordinate       738313 non-null object\n",
      "State Plane Y Coordinate       738271 non-null float64\n",
      "Latitude Coordinate            738300 non-null float64\n",
      "Longitude Coordinate           738300 non-null float64\n",
      "(Latitude.Longitude)           738300 non-null object\n",
      "Council District               702005 non-null float64\n",
      "Map Page                       736655 non-null object\n",
      "Map Tile                       735166 non-null object\n",
      "dtypes: float64(5), object(19)\n",
      "memory usage: 137.0+ MB\n"
     ]
    }
   ],
   "source": [
    "df.info()"
   ]
  },
  {
   "cell_type": "markdown",
   "metadata": {},
   "source": [
    "For our analysis we don't need following columns:\n",
    " \n",
    "  - `Service Request (SR) Number`\n",
    "  - `Status Change Date`\n",
    "  - `Last Update Date`\n",
    "  - `Close Date`\n",
    "  - `Map Page`\n",
    "  - `Map Tile`\n",
    "  - `State Plane X Coordinate`\n",
    "  - `State Plane Y Coordinate`\n",
    "  - `Street Number`\n",
    "  - `Street Name`\n",
    "  - `SR Location`\n",
    "  - `(Latitude.Longitude)`\n",
    "  - `Council District`"
   ]
  },
  {
   "cell_type": "markdown",
   "metadata": {},
   "source": [
    "### Drop unecessary columns and empty rows"
   ]
  },
  {
   "cell_type": "code",
   "execution_count": 39,
   "metadata": {
    "ExecuteTime": {
     "end_time": "2019-07-30T04:04:19.716921Z",
     "start_time": "2019-07-30T04:04:19.558357Z"
    }
   },
   "outputs": [
    {
     "data": {
      "text/html": [
       "<div>\n",
       "<style scoped>\n",
       "    .dataframe tbody tr th:only-of-type {\n",
       "        vertical-align: middle;\n",
       "    }\n",
       "\n",
       "    .dataframe tbody tr th {\n",
       "        vertical-align: top;\n",
       "    }\n",
       "\n",
       "    .dataframe thead th {\n",
       "        text-align: right;\n",
       "    }\n",
       "</style>\n",
       "<table border=\"1\" class=\"dataframe\">\n",
       "  <thead>\n",
       "    <tr style=\"text-align: right;\">\n",
       "      <th></th>\n",
       "      <th>SR Type Code</th>\n",
       "      <th>SR Description</th>\n",
       "      <th>Owning Department</th>\n",
       "      <th>Method Received</th>\n",
       "      <th>SR Status</th>\n",
       "      <th>Created Date</th>\n",
       "      <th>City</th>\n",
       "      <th>Zip Code</th>\n",
       "      <th>County</th>\n",
       "      <th>Latitude Coordinate</th>\n",
       "      <th>Longitude Coordinate</th>\n",
       "    </tr>\n",
       "  </thead>\n",
       "  <tbody>\n",
       "    <tr>\n",
       "      <th>0</th>\n",
       "      <td>TRASIGMA</td>\n",
       "      <td>Traffic Signal - Maintenance</td>\n",
       "      <td>Transportation</td>\n",
       "      <td>Phone</td>\n",
       "      <td>Duplicate (closed)</td>\n",
       "      <td>05/06/2016 12:01:46 PM</td>\n",
       "      <td>AUSTIN</td>\n",
       "      <td>78703.0</td>\n",
       "      <td>TRAVIS</td>\n",
       "      <td>30.296699</td>\n",
       "      <td>-97.768264</td>\n",
       "    </tr>\n",
       "    <tr>\n",
       "      <th>1</th>\n",
       "      <td>TRASIGMA</td>\n",
       "      <td>Traffic Signal - Maintenance</td>\n",
       "      <td>Transportation</td>\n",
       "      <td>Phone</td>\n",
       "      <td>Duplicate (closed)</td>\n",
       "      <td>05/06/2016 07:51:27 PM</td>\n",
       "      <td>AUSTIN</td>\n",
       "      <td>78745.0</td>\n",
       "      <td>TRAVIS</td>\n",
       "      <td>30.212695</td>\n",
       "      <td>-97.801521</td>\n",
       "    </tr>\n",
       "    <tr>\n",
       "      <th>2</th>\n",
       "      <td>TRASIGMA</td>\n",
       "      <td>Traffic Signal - Maintenance</td>\n",
       "      <td>Transportation</td>\n",
       "      <td>Phone</td>\n",
       "      <td>Duplicate (closed)</td>\n",
       "      <td>05/06/2016 08:22:56 PM</td>\n",
       "      <td>AUSTIN</td>\n",
       "      <td>78745.0</td>\n",
       "      <td>TRAVIS</td>\n",
       "      <td>30.212695</td>\n",
       "      <td>-97.801521</td>\n",
       "    </tr>\n",
       "    <tr>\n",
       "      <th>3</th>\n",
       "      <td>SWSDEADA</td>\n",
       "      <td>ARR Dead Animal Collection</td>\n",
       "      <td>Austin Resource Recovery</td>\n",
       "      <td>Phone</td>\n",
       "      <td>Closed</td>\n",
       "      <td>12/15/2016 06:41:40 AM</td>\n",
       "      <td>AUSTIN</td>\n",
       "      <td>78741.0</td>\n",
       "      <td>TRAVIS</td>\n",
       "      <td>30.230164</td>\n",
       "      <td>-97.731776</td>\n",
       "    </tr>\n",
       "    <tr>\n",
       "      <th>4</th>\n",
       "      <td>TRASIGMA</td>\n",
       "      <td>Traffic Signal - Maintenance</td>\n",
       "      <td>Transportation</td>\n",
       "      <td>Phone</td>\n",
       "      <td>Duplicate (closed)</td>\n",
       "      <td>05/06/2016 05:03:45 PM</td>\n",
       "      <td>AUSTIN</td>\n",
       "      <td>78759.0</td>\n",
       "      <td>TRAVIS</td>\n",
       "      <td>30.384989</td>\n",
       "      <td>-97.766471</td>\n",
       "    </tr>\n",
       "  </tbody>\n",
       "</table>\n",
       "</div>"
      ],
      "text/plain": [
       "  SR Type Code                SR Description         Owning Department Method Received           SR Status            Created Date    City  Zip Code  County  Latitude Coordinate  Longitude Coordinate\n",
       "0     TRASIGMA  Traffic Signal - Maintenance            Transportation           Phone  Duplicate (closed)  05/06/2016 12:01:46 PM  AUSTIN   78703.0  TRAVIS            30.296699            -97.768264\n",
       "1     TRASIGMA  Traffic Signal - Maintenance            Transportation           Phone  Duplicate (closed)  05/06/2016 07:51:27 PM  AUSTIN   78745.0  TRAVIS            30.212695            -97.801521\n",
       "2     TRASIGMA  Traffic Signal - Maintenance            Transportation           Phone  Duplicate (closed)  05/06/2016 08:22:56 PM  AUSTIN   78745.0  TRAVIS            30.212695            -97.801521\n",
       "3     SWSDEADA    ARR Dead Animal Collection  Austin Resource Recovery           Phone              Closed  12/15/2016 06:41:40 AM  AUSTIN   78741.0  TRAVIS            30.230164            -97.731776\n",
       "4     TRASIGMA  Traffic Signal - Maintenance            Transportation           Phone  Duplicate (closed)  05/06/2016 05:03:45 PM  AUSTIN   78759.0  TRAVIS            30.384989            -97.766471"
      ]
     },
     "execution_count": 39,
     "metadata": {},
     "output_type": "execute_result"
    }
   ],
   "source": [
    "columns = ['Council District', 'Map Page', 'Map Tile', 'Service Request (SR) Number', 'Status Change Date', 'Last Update Date', 'Close Date', 'SR Location', 'Street Number', 'Street Name', 'State Plane X Coordinate', 'State Plane Y Coordinate', '(Latitude.Longitude)']\n",
    "df = df.drop(columns, axis=1)\n",
    "df.head()"
   ]
  },
  {
   "cell_type": "markdown",
   "metadata": {},
   "source": [
    "### Check for missing values and drop rows that are missing important info."
   ]
  },
  {
   "cell_type": "code",
   "execution_count": 40,
   "metadata": {
    "ExecuteTime": {
     "end_time": "2019-07-30T04:04:20.453996Z",
     "start_time": "2019-07-30T04:04:19.720641Z"
    }
   },
   "outputs": [
    {
     "data": {
      "text/plain": [
       "SR Type Code             4235\n",
       "SR Description           4235\n",
       "Owning Department        4235\n",
       "Method Received          4235\n",
       "SR Status                4235\n",
       "Created Date            10167\n",
       "City                    10641\n",
       "Zip Code                12425\n",
       "County                  16515\n",
       "Latitude Coordinate      9686\n",
       "Longitude Coordinate     9686\n",
       "dtype: int64"
      ]
     },
     "execution_count": 40,
     "metadata": {},
     "output_type": "execute_result"
    }
   ],
   "source": [
    "df.isnull().sum()"
   ]
  },
  {
   "cell_type": "markdown",
   "metadata": {},
   "source": [
    "So, there are lot missing values, mostly due to empty rows, let's drop those rows now."
   ]
  },
  {
   "cell_type": "code",
   "execution_count": 41,
   "metadata": {
    "ExecuteTime": {
     "end_time": "2019-07-30T04:04:22.045016Z",
     "start_time": "2019-07-30T04:04:20.460025Z"
    }
   },
   "outputs": [
    {
     "data": {
      "text/plain": [
       "SR Type Code                0\n",
       "SR Description              0\n",
       "Owning Department           0\n",
       "Method Received             0\n",
       "SR Status                   0\n",
       "Created Date             5932\n",
       "City                     6406\n",
       "Zip Code                 8190\n",
       "County                  12280\n",
       "Latitude Coordinate      5451\n",
       "Longitude Coordinate     5451\n",
       "dtype: int64"
      ]
     },
     "execution_count": 41,
     "metadata": {},
     "output_type": "execute_result"
    }
   ],
   "source": [
    "df = df.dropna(how='all') # how='all' drops rows that have all NaN values, whereas, 'any' will drop any row that has NaN present\n",
    "df.isnull().sum()"
   ]
  },
  {
   "cell_type": "markdown",
   "metadata": {},
   "source": [
    "After dropping rows that had all `NaN` values, now we can drop those that having missing valuable information needed to stratify complaints by their location info. \n",
    "\n"
   ]
  },
  {
   "cell_type": "markdown",
   "metadata": {},
   "source": [
    "#### Missing all location data (i.e. Zip Code and County and City)\n",
    "\n",
    "Let's drop rows that contain all of the missing location info."
   ]
  },
  {
   "cell_type": "code",
   "execution_count": 42,
   "metadata": {
    "ExecuteTime": {
     "end_time": "2019-07-30T04:04:22.422801Z",
     "start_time": "2019-07-30T04:04:22.049619Z"
    }
   },
   "outputs": [
    {
     "name": "stdout",
     "output_type": "stream",
     "text": [
      "Before dimensions:  (743751, 11)\n",
      "After dimensions:  (738061, 11)\n"
     ]
    },
    {
     "data": {
      "text/html": [
       "<div>\n",
       "<style scoped>\n",
       "    .dataframe tbody tr th:only-of-type {\n",
       "        vertical-align: middle;\n",
       "    }\n",
       "\n",
       "    .dataframe tbody tr th {\n",
       "        vertical-align: top;\n",
       "    }\n",
       "\n",
       "    .dataframe thead th {\n",
       "        text-align: right;\n",
       "    }\n",
       "</style>\n",
       "<table border=\"1\" class=\"dataframe\">\n",
       "  <thead>\n",
       "    <tr style=\"text-align: right;\">\n",
       "      <th></th>\n",
       "      <th>SR Type Code</th>\n",
       "      <th>SR Description</th>\n",
       "      <th>Owning Department</th>\n",
       "      <th>Method Received</th>\n",
       "      <th>SR Status</th>\n",
       "      <th>Created Date</th>\n",
       "      <th>City</th>\n",
       "      <th>Zip Code</th>\n",
       "      <th>County</th>\n",
       "      <th>Latitude Coordinate</th>\n",
       "      <th>Longitude Coordinate</th>\n",
       "    </tr>\n",
       "  </thead>\n",
       "  <tbody>\n",
       "    <tr>\n",
       "      <th>0</th>\n",
       "      <td>TRASIGMA</td>\n",
       "      <td>Traffic Signal - Maintenance</td>\n",
       "      <td>Transportation</td>\n",
       "      <td>Phone</td>\n",
       "      <td>Duplicate (closed)</td>\n",
       "      <td>05/06/2016 12:01:46 PM</td>\n",
       "      <td>AUSTIN</td>\n",
       "      <td>78703.0</td>\n",
       "      <td>TRAVIS</td>\n",
       "      <td>30.296699</td>\n",
       "      <td>-97.768264</td>\n",
       "    </tr>\n",
       "    <tr>\n",
       "      <th>1</th>\n",
       "      <td>TRASIGMA</td>\n",
       "      <td>Traffic Signal - Maintenance</td>\n",
       "      <td>Transportation</td>\n",
       "      <td>Phone</td>\n",
       "      <td>Duplicate (closed)</td>\n",
       "      <td>05/06/2016 07:51:27 PM</td>\n",
       "      <td>AUSTIN</td>\n",
       "      <td>78745.0</td>\n",
       "      <td>TRAVIS</td>\n",
       "      <td>30.212695</td>\n",
       "      <td>-97.801521</td>\n",
       "    </tr>\n",
       "    <tr>\n",
       "      <th>2</th>\n",
       "      <td>TRASIGMA</td>\n",
       "      <td>Traffic Signal - Maintenance</td>\n",
       "      <td>Transportation</td>\n",
       "      <td>Phone</td>\n",
       "      <td>Duplicate (closed)</td>\n",
       "      <td>05/06/2016 08:22:56 PM</td>\n",
       "      <td>AUSTIN</td>\n",
       "      <td>78745.0</td>\n",
       "      <td>TRAVIS</td>\n",
       "      <td>30.212695</td>\n",
       "      <td>-97.801521</td>\n",
       "    </tr>\n",
       "    <tr>\n",
       "      <th>3</th>\n",
       "      <td>SWSDEADA</td>\n",
       "      <td>ARR Dead Animal Collection</td>\n",
       "      <td>Austin Resource Recovery</td>\n",
       "      <td>Phone</td>\n",
       "      <td>Closed</td>\n",
       "      <td>12/15/2016 06:41:40 AM</td>\n",
       "      <td>AUSTIN</td>\n",
       "      <td>78741.0</td>\n",
       "      <td>TRAVIS</td>\n",
       "      <td>30.230164</td>\n",
       "      <td>-97.731776</td>\n",
       "    </tr>\n",
       "    <tr>\n",
       "      <th>4</th>\n",
       "      <td>TRASIGMA</td>\n",
       "      <td>Traffic Signal - Maintenance</td>\n",
       "      <td>Transportation</td>\n",
       "      <td>Phone</td>\n",
       "      <td>Duplicate (closed)</td>\n",
       "      <td>05/06/2016 05:03:45 PM</td>\n",
       "      <td>AUSTIN</td>\n",
       "      <td>78759.0</td>\n",
       "      <td>TRAVIS</td>\n",
       "      <td>30.384989</td>\n",
       "      <td>-97.766471</td>\n",
       "    </tr>\n",
       "  </tbody>\n",
       "</table>\n",
       "</div>"
      ],
      "text/plain": [
       "  SR Type Code                SR Description         Owning Department Method Received           SR Status            Created Date    City  Zip Code  County  Latitude Coordinate  Longitude Coordinate\n",
       "0     TRASIGMA  Traffic Signal - Maintenance            Transportation           Phone  Duplicate (closed)  05/06/2016 12:01:46 PM  AUSTIN   78703.0  TRAVIS            30.296699            -97.768264\n",
       "1     TRASIGMA  Traffic Signal - Maintenance            Transportation           Phone  Duplicate (closed)  05/06/2016 07:51:27 PM  AUSTIN   78745.0  TRAVIS            30.212695            -97.801521\n",
       "2     TRASIGMA  Traffic Signal - Maintenance            Transportation           Phone  Duplicate (closed)  05/06/2016 08:22:56 PM  AUSTIN   78745.0  TRAVIS            30.212695            -97.801521\n",
       "3     SWSDEADA    ARR Dead Animal Collection  Austin Resource Recovery           Phone              Closed  12/15/2016 06:41:40 AM  AUSTIN   78741.0  TRAVIS            30.230164            -97.731776\n",
       "4     TRASIGMA  Traffic Signal - Maintenance            Transportation           Phone  Duplicate (closed)  05/06/2016 05:03:45 PM  AUSTIN   78759.0  TRAVIS            30.384989            -97.766471"
      ]
     },
     "execution_count": 42,
     "metadata": {},
     "output_type": "execute_result"
    }
   ],
   "source": [
    "print('Before dimensions: ', df.shape)\n",
    "df = df.loc[df[['City', 'Zip Code', 'County']].notnull().values.any(axis=1)]\n",
    "print('After dimensions: ', df.shape)\n",
    "df.head()"
   ]
  },
  {
   "cell_type": "code",
   "execution_count": 43,
   "metadata": {
    "ExecuteTime": {
     "end_time": "2019-07-30T04:04:23.102143Z",
     "start_time": "2019-07-30T04:04:22.426671Z"
    }
   },
   "outputs": [
    {
     "data": {
      "text/plain": [
       "SR Type Code               0\n",
       "SR Description             0\n",
       "Owning Department          0\n",
       "Method Received            0\n",
       "SR Status                  0\n",
       "Created Date            5889\n",
       "City                     716\n",
       "Zip Code                2500\n",
       "County                  6590\n",
       "Latitude Coordinate       70\n",
       "Longitude Coordinate      70\n",
       "dtype: int64"
      ]
     },
     "execution_count": 43,
     "metadata": {},
     "output_type": "execute_result"
    }
   ],
   "source": [
    "df.isnull().sum()"
   ]
  },
  {
   "cell_type": "markdown",
   "metadata": {},
   "source": [
    "After eliminating rows with no location information, we can now dive into missing `Zip Code` values, as they are important to our analysis.\n",
    "\n",
    "#### Only Missing Zipcodes"
   ]
  },
  {
   "cell_type": "code",
   "execution_count": 44,
   "metadata": {
    "ExecuteTime": {
     "end_time": "2019-07-30T04:04:23.155013Z",
     "start_time": "2019-07-30T04:04:23.105792Z"
    },
    "scrolled": true
   },
   "outputs": [
    {
     "data": {
      "text/html": [
       "<div>\n",
       "<style scoped>\n",
       "    .dataframe tbody tr th:only-of-type {\n",
       "        vertical-align: middle;\n",
       "    }\n",
       "\n",
       "    .dataframe tbody tr th {\n",
       "        vertical-align: top;\n",
       "    }\n",
       "\n",
       "    .dataframe thead th {\n",
       "        text-align: right;\n",
       "    }\n",
       "</style>\n",
       "<table border=\"1\" class=\"dataframe\">\n",
       "  <thead>\n",
       "    <tr style=\"text-align: right;\">\n",
       "      <th></th>\n",
       "      <th>SR Type Code</th>\n",
       "      <th>SR Description</th>\n",
       "      <th>Owning Department</th>\n",
       "      <th>Method Received</th>\n",
       "      <th>SR Status</th>\n",
       "      <th>Created Date</th>\n",
       "      <th>City</th>\n",
       "      <th>Zip Code</th>\n",
       "      <th>County</th>\n",
       "      <th>Latitude Coordinate</th>\n",
       "      <th>Longitude Coordinate</th>\n",
       "    </tr>\n",
       "  </thead>\n",
       "  <tbody>\n",
       "    <tr>\n",
       "      <th>733961</th>\n",
       "      <td>PWBICYCL</td>\n",
       "      <td>Bicycle Issues</td>\n",
       "      <td>Transportation</td>\n",
       "      <td>Phone</td>\n",
       "      <td>Open</td>\n",
       "      <td>07/20/2019 11:49:29 AM</td>\n",
       "      <td>AUSTIN</td>\n",
       "      <td>NaN</td>\n",
       "      <td>TRAVIS</td>\n",
       "      <td>30.279558</td>\n",
       "      <td>-97.720861</td>\n",
       "    </tr>\n",
       "    <tr>\n",
       "      <th>738416</th>\n",
       "      <td>TRASIGMA</td>\n",
       "      <td>Traffic Signal - Maintenance</td>\n",
       "      <td>Transportation</td>\n",
       "      <td>Phone</td>\n",
       "      <td>Work In Progress</td>\n",
       "      <td>07/20/2019 09:32:49 PM</td>\n",
       "      <td>AUSTIN</td>\n",
       "      <td>NaN</td>\n",
       "      <td>TRAVIS</td>\n",
       "      <td>30.233035</td>\n",
       "      <td>-97.800625</td>\n",
       "    </tr>\n",
       "    <tr>\n",
       "      <th>729930</th>\n",
       "      <td>CODECOMP</td>\n",
       "      <td>Austin Code - Request Code Officer</td>\n",
       "      <td>Austin Code Department</td>\n",
       "      <td>Spot311 Interface</td>\n",
       "      <td>Closed</td>\n",
       "      <td>07/19/2019 09:27:17 PM</td>\n",
       "      <td>AUSTIN</td>\n",
       "      <td>NaN</td>\n",
       "      <td>TRAVIS</td>\n",
       "      <td>30.254674</td>\n",
       "      <td>-97.722806</td>\n",
       "    </tr>\n",
       "    <tr>\n",
       "      <th>728100</th>\n",
       "      <td>CODECOMP</td>\n",
       "      <td>Austin Code - Request Code Officer</td>\n",
       "      <td>Austin Code Department</td>\n",
       "      <td>Phone</td>\n",
       "      <td>Closed</td>\n",
       "      <td>07/19/2019 11:47:56 AM</td>\n",
       "      <td>AUSTIN</td>\n",
       "      <td>NaN</td>\n",
       "      <td>TRAVIS</td>\n",
       "      <td>30.236635</td>\n",
       "      <td>-97.901380</td>\n",
       "    </tr>\n",
       "    <tr>\n",
       "      <th>733939</th>\n",
       "      <td>SIGNTRAF</td>\n",
       "      <td>Sign - Traffic Sign Emergency</td>\n",
       "      <td>Transportation</td>\n",
       "      <td>Phone</td>\n",
       "      <td>Closed</td>\n",
       "      <td>07/20/2019 05:46:16 AM</td>\n",
       "      <td>AUSTIN</td>\n",
       "      <td>NaN</td>\n",
       "      <td>TRAVIS</td>\n",
       "      <td>30.279638</td>\n",
       "      <td>-97.734515</td>\n",
       "    </tr>\n",
       "    <tr>\n",
       "      <th>738407</th>\n",
       "      <td>TRASIGMA</td>\n",
       "      <td>Traffic Signal - Maintenance</td>\n",
       "      <td>Transportation</td>\n",
       "      <td>Phone</td>\n",
       "      <td>Closed</td>\n",
       "      <td>07/20/2019 05:43:18 PM</td>\n",
       "      <td>AUSTIN</td>\n",
       "      <td>NaN</td>\n",
       "      <td>TRAVIS</td>\n",
       "      <td>30.285732</td>\n",
       "      <td>-97.665957</td>\n",
       "    </tr>\n",
       "    <tr>\n",
       "      <th>64485</th>\n",
       "      <td>TRASIGNE</td>\n",
       "      <td>Traffic Signal - New/Change</td>\n",
       "      <td>Transportation</td>\n",
       "      <td>Web</td>\n",
       "      <td>Open</td>\n",
       "      <td>11/15/2016 08:17:30 PM</td>\n",
       "      <td>Austin</td>\n",
       "      <td>NaN</td>\n",
       "      <td>NaN</td>\n",
       "      <td>3.442387</td>\n",
       "      <td>-105.983195</td>\n",
       "    </tr>\n",
       "    <tr>\n",
       "      <th>36884</th>\n",
       "      <td>WWREPORT</td>\n",
       "      <td>Water Waste Report</td>\n",
       "      <td>Austin Water Utility</td>\n",
       "      <td>Field Request</td>\n",
       "      <td>Closed</td>\n",
       "      <td>06/27/2016 04:53:39 PM</td>\n",
       "      <td>AUSTIN</td>\n",
       "      <td>NaN</td>\n",
       "      <td>NaN</td>\n",
       "      <td>3.442387</td>\n",
       "      <td>-105.983195</td>\n",
       "    </tr>\n",
       "    <tr>\n",
       "      <th>696650</th>\n",
       "      <td>SIGNTRAF</td>\n",
       "      <td>Sign - Traffic Sign Emergency</td>\n",
       "      <td>Transportation</td>\n",
       "      <td>Phone</td>\n",
       "      <td>Closed</td>\n",
       "      <td>11/29/2018 10:44:30 PM</td>\n",
       "      <td>AUSTIN</td>\n",
       "      <td>NaN</td>\n",
       "      <td>NaN</td>\n",
       "      <td>30.373967</td>\n",
       "      <td>-97.728910</td>\n",
       "    </tr>\n",
       "    <tr>\n",
       "      <th>499678</th>\n",
       "      <td>STREETL2</td>\n",
       "      <td>Street Light Issue- Address</td>\n",
       "      <td>Austin Energy Department</td>\n",
       "      <td>Phone</td>\n",
       "      <td>Closed</td>\n",
       "      <td>07/18/2019 09:42:53 PM</td>\n",
       "      <td>AUSTIN</td>\n",
       "      <td>NaN</td>\n",
       "      <td>TRAVIS</td>\n",
       "      <td>30.228265</td>\n",
       "      <td>-97.862981</td>\n",
       "    </tr>\n",
       "  </tbody>\n",
       "</table>\n",
       "</div>"
      ],
      "text/plain": [
       "       SR Type Code                      SR Description         Owning Department    Method Received         SR Status            Created Date       City  Zip Code  County  Latitude Coordinate  Longitude Coordinate\n",
       "733961     PWBICYCL                      Bicycle Issues            Transportation              Phone              Open  07/20/2019 11:49:29 AM     AUSTIN       NaN  TRAVIS            30.279558            -97.720861\n",
       "738416     TRASIGMA        Traffic Signal - Maintenance            Transportation              Phone  Work In Progress  07/20/2019 09:32:49 PM     AUSTIN       NaN  TRAVIS            30.233035            -97.800625\n",
       "729930     CODECOMP  Austin Code - Request Code Officer    Austin Code Department  Spot311 Interface            Closed  07/19/2019 09:27:17 PM     AUSTIN       NaN  TRAVIS            30.254674            -97.722806\n",
       "728100     CODECOMP  Austin Code - Request Code Officer    Austin Code Department              Phone            Closed  07/19/2019 11:47:56 AM     AUSTIN       NaN  TRAVIS            30.236635            -97.901380\n",
       "733939     SIGNTRAF       Sign - Traffic Sign Emergency            Transportation              Phone            Closed  07/20/2019 05:46:16 AM     AUSTIN       NaN  TRAVIS            30.279638            -97.734515\n",
       "738407     TRASIGMA        Traffic Signal - Maintenance            Transportation              Phone            Closed  07/20/2019 05:43:18 PM     AUSTIN       NaN  TRAVIS            30.285732            -97.665957\n",
       "64485      TRASIGNE         Traffic Signal - New/Change            Transportation                Web              Open  11/15/2016 08:17:30 PM     Austin       NaN     NaN             3.442387           -105.983195\n",
       "36884      WWREPORT                  Water Waste Report      Austin Water Utility      Field Request            Closed  06/27/2016 04:53:39 PM     AUSTIN       NaN     NaN             3.442387           -105.983195\n",
       "696650     SIGNTRAF       Sign - Traffic Sign Emergency            Transportation              Phone            Closed  11/29/2018 10:44:30 PM     AUSTIN       NaN     NaN            30.373967            -97.728910\n",
       "499678     STREETL2         Street Light Issue- Address  Austin Energy Department              Phone            Closed  07/18/2019 09:42:53 PM     AUSTIN       NaN  TRAVIS            30.228265            -97.862981"
      ]
     },
     "execution_count": 44,
     "metadata": {},
     "output_type": "execute_result"
    }
   ],
   "source": [
    "df[df[['Zip Code']].isnull().values].sample(10)"
   ]
  },
  {
   "cell_type": "markdown",
   "metadata": {},
   "source": [
    "Since `Austin` is in `Travis` County, we can fill in those columns that has `Austin` in them, while we can map missing city with `Zip codes` known to `Austin`, but we can't do vice-versa, maybe reverse geocoding API can help in getting `Zipcode` info from `Latitude & Longitude` coordinates. "
   ]
  },
  {
   "cell_type": "markdown",
   "metadata": {
    "ExecuteTime": {
     "end_time": "2019-07-30T01:54:15.840935Z",
     "start_time": "2019-07-30T01:54:15.359601Z"
    }
   },
   "source": [
    "### Clean `text` columns"
   ]
  },
  {
   "cell_type": "markdown",
   "metadata": {},
   "source": [
    "#### Strip leading and trailing whitespaces first from entire dataframe\n",
    "\n",
    "##### Before Stripping whitespaces"
   ]
  },
  {
   "cell_type": "code",
   "execution_count": 45,
   "metadata": {
    "ExecuteTime": {
     "end_time": "2019-07-30T04:04:23.865308Z",
     "start_time": "2019-07-30T04:04:23.158684Z"
    }
   },
   "outputs": [
    {
     "data": {
      "text/plain": [
       "SR Type Code               0\n",
       "SR Description             0\n",
       "Owning Department          0\n",
       "Method Received            0\n",
       "SR Status                  0\n",
       "Created Date            5889\n",
       "City                     716\n",
       "Zip Code                2500\n",
       "County                  6590\n",
       "Latitude Coordinate       70\n",
       "Longitude Coordinate      70\n",
       "dtype: int64"
      ]
     },
     "execution_count": 45,
     "metadata": {},
     "output_type": "execute_result"
    }
   ],
   "source": [
    "df.isnull().sum()"
   ]
  },
  {
   "cell_type": "code",
   "execution_count": 46,
   "metadata": {
    "ExecuteTime": {
     "end_time": "2019-07-30T04:04:28.698565Z",
     "start_time": "2019-07-30T04:04:23.869683Z"
    }
   },
   "outputs": [],
   "source": [
    "df = df.apply(lambda x: x.str.strip() if x.dtype == \"object\" else x)\n",
    "df.replace('', np.NaN, inplace=True)"
   ]
  },
  {
   "cell_type": "markdown",
   "metadata": {},
   "source": [
    "##### After stripping whitespaces"
   ]
  },
  {
   "cell_type": "code",
   "execution_count": 47,
   "metadata": {
    "ExecuteTime": {
     "end_time": "2019-07-30T04:04:29.379118Z",
     "start_time": "2019-07-30T04:04:28.702067Z"
    }
   },
   "outputs": [
    {
     "data": {
      "text/plain": [
       "SR Type Code               0\n",
       "SR Description             0\n",
       "Owning Department          0\n",
       "Method Received            0\n",
       "SR Status                  0\n",
       "Created Date            5889\n",
       "City                     717\n",
       "Zip Code                2500\n",
       "County                  6590\n",
       "Latitude Coordinate       70\n",
       "Longitude Coordinate      70\n",
       "dtype: int64"
      ]
     },
     "execution_count": 47,
     "metadata": {},
     "output_type": "execute_result"
    }
   ],
   "source": [
    "df.isnull().sum()"
   ]
  },
  {
   "cell_type": "markdown",
   "metadata": {},
   "source": [
    "#### Let's start by normalizing `City` columns to `Title Case`, and fix any misspellings."
   ]
  },
  {
   "cell_type": "code",
   "execution_count": 48,
   "metadata": {
    "ExecuteTime": {
     "end_time": "2019-07-30T04:04:30.186638Z",
     "start_time": "2019-07-30T04:04:29.382825Z"
    }
   },
   "outputs": [
    {
     "data": {
      "text/plain": [
       "Austin                      722829\n",
       "Pflugerville                  3137\n",
       "Del Valle                     2248\n",
       "Manor                         1756\n",
       "Austin 5 Etj                  1242\n",
       "Cedar Park                     807\n",
       "NaN                            717\n",
       "Bee Cave                       444\n",
       "Round Rock                     438\n",
       "Leander                        429\n",
       "Sunset Valley                  422\n",
       "Lakeway                        367\n",
       "Other                          363\n",
       "Elgin                          282\n",
       "Mustang Ridge                  270\n",
       "West Lake Hills                261\n",
       "Manchaca                       212\n",
       "West Lake Hill                 167\n",
       "Spicewood                      155\n",
       "Lago Vista                     155\n",
       "Buda                           144\n",
       "Rollingwood                    138\n",
       "Jonestown                      125\n",
       "Webberville                    117\n",
       "Creedmoor                      116\n",
       "Travis                         111\n",
       "Briarcliff                     100\n",
       "Dripping Springs                52\n",
       "Cedar Creek                     47\n",
       "The Hills                       43\n",
       "Coupland                        37\n",
       "Hutto                           36\n",
       "Dripping Sprin                  34\n",
       "Bastrop                         33\n",
       "Volente                         30\n",
       "San Leanna                      24\n",
       "Austn                           23\n",
       "Hays                            15\n",
       "Marble Falls                    15\n",
       "Point Venture                   15\n",
       "Georgetown                      14\n",
       "Village Of Mustang Ridge         9\n",
       "West Lake Hil                    8\n",
       "Pflugervill                      7\n",
       "Aus                              6\n",
       "Village Of Webberville           5\n",
       "Austi                            4\n",
       "Village Of Point Venture         4\n",
       "Ausitn                           3\n",
       "Kyle                             3\n",
       "Village Of Briarcliff            3\n",
       "Aust                             2\n",
       "Lockhart                         2\n",
       "Atx                              2\n",
       "Austin.                          2\n",
       "Village Of The Hills             2\n",
       "Bear Creek                       2\n",
       "Dale                             2\n",
       "San Marcos                       2\n",
       "Dallas                           1\n",
       "Oak Hill                         1\n",
       "Humble                           1\n",
       "Bee Caves                        1\n",
       "Terrbonne                        1\n",
       "Morrow                           1\n",
       "Ausin                            1\n",
       "Village Of San Leanna            1\n",
       "Worcester                        1\n",
       "Austun                           1\n",
       "Austibn                          1\n",
       "Aua                              1\n",
       "Paige                            1\n",
       "Au                               1\n",
       "Houston                          1\n",
       "Austtin                          1\n",
       "Village Of Volente               1\n",
       "Village Of Creedmoor             1\n",
       "Austin `                         1\n",
       "Sealy                            1\n",
       "Austib                           1\n",
       "Mountain City                    1\n",
       "Liberty Hill                     1\n",
       "Name: City, dtype: int64"
      ]
     },
     "execution_count": 48,
     "metadata": {},
     "output_type": "execute_result"
    }
   ],
   "source": [
    "df['City'] = df['City'].str.title()\n",
    "df['City'].value_counts(dropna=False).sort_values(ascending=False)"
   ]
  },
  {
   "cell_type": "markdown",
   "metadata": {},
   "source": [
    "Not so surprisingly we have so many typos, and misspellings, which we can fix, but surprisingly there are calls from cities that are miles apart like `Houston`, `Dallas`, etc.., so let's keep those that are only from `City of Austin` in Travis County which is our main focus."
   ]
  },
  {
   "cell_type": "markdown",
   "metadata": {},
   "source": [
    "##### Austin and it's Extraterritorial Jurisdiction"
   ]
  },
  {
   "cell_type": "markdown",
   "metadata": {},
   "source": [
    "Another thing to note is `Austin's 5 ETJ's` (Extraterritorial Jurisdiction) refers to cities, is the legal capability of a municipality to exercise authority beyond the boundaries of its incorporated area. In the US, Texas is one of the states that by law allow cities to claim ETJ to contiguous land beyond their city limits.  Austin’s ETJ currently extends into 4 counties including Williamson, Travis, Hays, and Bastrop."
   ]
  },
  {
   "cell_type": "code",
   "execution_count": 49,
   "metadata": {
    "ExecuteTime": {
     "end_time": "2019-07-30T04:05:13.962096Z",
     "start_time": "2019-07-30T04:05:13.244913Z"
    }
   },
   "outputs": [
    {
     "data": {
      "text/plain": [
       "TRAVIS     1217\n",
       "HAYS          9\n",
       "NaN           9\n",
       "BASTROP       7\n",
       "Name: County, dtype: int64"
      ]
     },
     "execution_count": 49,
     "metadata": {},
     "output_type": "execute_result"
    }
   ],
   "source": [
    "df.loc[df['City'].str.contains('Austin 5 Etj', na=False), 'County'].value_counts(dropna=False)"
   ]
  },
  {
   "cell_type": "code",
   "execution_count": 57,
   "metadata": {
    "ExecuteTime": {
     "end_time": "2019-07-30T04:54:22.312134Z",
     "start_time": "2019-07-30T04:54:21.614455Z"
    }
   },
   "outputs": [
    {
     "data": {
      "text/plain": [
       " 78610.0     26\n",
       " 78612.0     45\n",
       " 78617.0    171\n",
       " 78641.0     11\n",
       " 78645.0      1\n",
       " 78653.0    315\n",
       " 78660.0      2\n",
       " 78719.0     72\n",
       " 78724.0     16\n",
       " 78725.0    328\n",
       " 78733.0     10\n",
       " 78734.0    103\n",
       " 78735.0     31\n",
       " 78736.0     25\n",
       " 78737.0     43\n",
       " 78738.0      5\n",
       " 78747.0     35\n",
       " 78758.0      1\n",
       "NaN           2\n",
       "Name: Zip Code, dtype: int64"
      ]
     },
     "execution_count": 57,
     "metadata": {},
     "output_type": "execute_result"
    }
   ],
   "source": [
    "df.loc[df['City'].str.contains('Austin 5 Etj', na=False), 'Zip Code'].value_counts(dropna=False).sort_index()"
   ]
  },
  {
   "cell_type": "code",
   "execution_count": null,
   "metadata": {},
   "outputs": [],
   "source": [
    "df[df['Zip Code']"
   ]
  },
  {
   "cell_type": "code",
   "execution_count": 67,
   "metadata": {
    "ExecuteTime": {
     "end_time": "2019-07-30T05:03:17.850218Z",
     "start_time": "2019-07-30T05:03:17.590872Z"
    }
   },
   "outputs": [
    {
     "data": {
      "text/plain": [
       "78610.0      476\n",
       "78617.0     8588\n",
       "78653.0     3447\n",
       "78660.0     6025\n",
       "78701.0    33394\n",
       "78702.0    40693\n",
       "78703.0    26730\n",
       "78704.0    50037\n",
       "78705.0    21695\n",
       "78721.0    16356\n",
       "78722.0     8674\n",
       "78723.0    35058\n",
       "78724.0    16202\n",
       "78725.0     3393\n",
       "78726.0     4013\n",
       "78727.0    13563\n",
       "78728.0     2724\n",
       "78729.0     8474\n",
       "78730.0     2748\n",
       "78731.0    21898\n",
       "78732.0     1781\n",
       "78733.0      956\n",
       "78734.0     1827\n",
       "78735.0     8519\n",
       "78736.0     3501\n",
       "78737.0      749\n",
       "78738.0      876\n",
       "78739.0     7883\n",
       "78741.0    31891\n",
       "78742.0     1310\n",
       "78744.0    36287\n",
       "78745.0    50418\n",
       "78746.0    12651\n",
       "78747.0     7668\n",
       "78748.0    26595\n",
       "78749.0    21594\n",
       "78750.0    11929\n",
       "78751.0    18728\n",
       "78752.0    14720\n",
       "78753.0    32058\n",
       "78754.0    10915\n",
       "78756.0    10821\n",
       "78757.0    23524\n",
       "78758.0    35347\n",
       "78759.0    24559\n",
       "Name: Zip Code, dtype: int64"
      ]
     },
     "execution_count": 67,
     "metadata": {},
     "output_type": "execute_result"
    }
   ],
   "source": [
    "df[df['Zip Code'].isin(zips)]['Zip Code'].value_counts(dropna=False).sort_index()"
   ]
  },
  {
   "cell_type": "markdown",
   "metadata": {},
   "source": [
    "Looks like there is considerable complaints from surrounding territories that are under City of Austin's jurisdiction so we will keep them, but only those that are in TRAVIS county."
   ]
  },
  {
   "cell_type": "code",
   "execution_count": 56,
   "metadata": {
    "ExecuteTime": {
     "end_time": "2019-07-30T04:46:17.112029Z",
     "start_time": "2019-07-30T04:46:17.099641Z"
    }
   },
   "outputs": [
    {
     "data": {
      "text/plain": [
       "['78701',\n",
       " '78702',\n",
       " '78703',\n",
       " '78704',\n",
       " '78705',\n",
       " '78721',\n",
       " '78722',\n",
       " '78723',\n",
       " '78724',\n",
       " '78725',\n",
       " '78726',\n",
       " '78727',\n",
       " '78728',\n",
       " '78729',\n",
       " '78730',\n",
       " '78731',\n",
       " '78732',\n",
       " '78733',\n",
       " '78734',\n",
       " '78735',\n",
       " '78736',\n",
       " '78737',\n",
       " '78738',\n",
       " '78739',\n",
       " '78741',\n",
       " '78742',\n",
       " '78744',\n",
       " '78745',\n",
       " '78746',\n",
       " '78747',\n",
       " '78748',\n",
       " '78749',\n",
       " '78750',\n",
       " '78751',\n",
       " '78752',\n",
       " '78753',\n",
       " '78754',\n",
       " '78756',\n",
       " '78757',\n",
       " '78758',\n",
       " '78759',\n",
       " '78610',\n",
       " '78617',\n",
       " '78653',\n",
       " '78660']"
      ]
     },
     "execution_count": 56,
     "metadata": {},
     "output_type": "execute_result"
    }
   ],
   "source": [
    "zips = \"\"\"\n",
    "78701,78702,78703,78704,78705,\n",
    "78721,78722,78723,78724,78725,\n",
    "78726,78727,78728,78729,78730,\n",
    "78731,78732,78733,78734,78735,\n",
    "78736,78737,78738,78739,78741,\n",
    "78742,78744,78745,78746,78747,\n",
    "78748,78749,78750,78751,78752,\n",
    "78753,78754,78756,78757,78758,\n",
    "78759,78610,78617,78653,78660\n",
    "\"\"\".split(',')\n",
    "zips = [x.strip() for x in zips]\n",
    "zips"
   ]
  },
  {
   "cell_type": "code",
   "execution_count": 64,
   "metadata": {
    "ExecuteTime": {
     "end_time": "2019-07-30T04:59:48.617760Z",
     "start_time": "2019-07-30T04:59:48.213768Z"
    }
   },
   "outputs": [
    {
     "data": {
      "text/plain": [
       "Austin                      710178\n",
       "Pflugerville                  3014\n",
       "Del Valle                     2232\n",
       "Manor                         1724\n",
       "Austin 5 Etj                  1111\n",
       "Bee Cave                       442\n",
       "Sunset Valley                  421\n",
       "Lakeway                        315\n",
       "West Lake Hills                261\n",
       "Mustang Ridge                  170\n",
       "West Lake Hill                 167\n",
       "Buda                           142\n",
       "Rollingwood                    136\n",
       "Creedmoor                      116\n",
       "Travis                         111\n",
       "Webberville                     88\n",
       "Other                           46\n",
       "The Hills                       43\n",
       "Round Rock                      42\n",
       "Austn                           23\n",
       "Cedar Park                      23\n",
       "San Leanna                      18\n",
       "Dripping Sprin                  15\n",
       "Dripping Springs                15\n",
       "Hays                            11\n",
       "Manchaca                         9\n",
       "Lago Vista                       9\n",
       "West Lake Hil                    8\n",
       "Aus                              6\n",
       "Jonestown                        6\n",
       "Leander                          6\n",
       "Georgetown                       5\n",
       "Village Of Mustang Ridge         4\n",
       "Village Of Webberville           3\n",
       "Ausitn                           3\n",
       "Austi                            3\n",
       "Aust                             2\n",
       "Bear Creek                       2\n",
       "Atx                              2\n",
       "Austin.                          2\n",
       "Village Of The Hills             2\n",
       "Mountain City                    1\n",
       "Au                               1\n",
       "Cedar Creek                      1\n",
       "Village Of Creedmoor             1\n",
       "Austibn                          1\n",
       "Oak Hill                         1\n",
       "Dale                             1\n",
       "Austin `                         1\n",
       "Bastrop                          1\n",
       "Name: City, dtype: int64"
      ]
     },
     "execution_count": 64,
     "metadata": {},
     "output_type": "execute_result"
    }
   ],
   "source": [
    "df[df['Zip Code'].isin(zips)]['City'].value_counts()"
   ]
  },
  {
   "cell_type": "code",
   "execution_count": 65,
   "metadata": {
    "ExecuteTime": {
     "end_time": "2019-07-30T05:00:16.545038Z",
     "start_time": "2019-07-30T05:00:16.174859Z"
    }
   },
   "outputs": [
    {
     "data": {
      "text/plain": [
       "TRAVIS        702422\n",
       "WILLIAMSON     13758\n",
       "HAYS              76\n",
       "BASTROP           19\n",
       "Name: County, dtype: int64"
      ]
     },
     "execution_count": 65,
     "metadata": {},
     "output_type": "execute_result"
    }
   ],
   "source": [
    "df[df['Zip Code'].isin(zips)]['County'].value_counts()"
   ]
  },
  {
   "cell_type": "code",
   "execution_count": null,
   "metadata": {},
   "outputs": [],
   "source": []
  },
  {
   "cell_type": "code",
   "execution_count": 26,
   "metadata": {
    "ExecuteTime": {
     "end_time": "2019-07-30T04:03:57.982697Z",
     "start_time": "2019-07-30T04:03:56.996429Z"
    },
    "scrolled": false
   },
   "outputs": [
    {
     "name": "stdout",
     "output_type": "stream",
     "text": [
      "Before dimensions:  (736819, 11)\n",
      "After dimensions:  (736819, 11)\n"
     ]
    },
    {
     "data": {
      "text/plain": [
       "Austin                      722875\n",
       "Pflugerville                  3137\n",
       "Del Valle                     2248\n",
       "Manor                         1756\n",
       "Cedar Park                     807\n",
       "NaN                            717\n",
       "Bee Cave                       444\n",
       "Round Rock                     438\n",
       "Leander                        429\n",
       "Sunset Valley                  422\n",
       "Lakeway                        367\n",
       "Other                          363\n",
       "Elgin                          282\n",
       "Mustang Ridge                  270\n",
       "West Lake Hills                261\n",
       "Manchaca                       212\n",
       "West Lake Hill                 167\n",
       "Lago Vista                     155\n",
       "Spicewood                      155\n",
       "Buda                           144\n",
       "Rollingwood                    138\n",
       "Jonestown                      125\n",
       "Webberville                    117\n",
       "Creedmoor                      116\n",
       "Travis                         111\n",
       "Briarcliff                     100\n",
       "Dripping Springs                52\n",
       "Cedar Creek                     47\n",
       "The Hills                       43\n",
       "Coupland                        37\n",
       "Hutto                           36\n",
       "Dripping Sprin                  34\n",
       "Bastrop                         33\n",
       "Volente                         30\n",
       "San Leanna                      24\n",
       "Hays                            15\n",
       "Point Venture                   15\n",
       "Marble Falls                    15\n",
       "Georgetown                      14\n",
       "Village Of Mustang Ridge         9\n",
       "West Lake Hil                    8\n",
       "Pflugervill                      7\n",
       "Village Of Webberville           5\n",
       "Village Of Point Venture         4\n",
       "Village Of Briarcliff            3\n",
       "Kyle                             3\n",
       "Lockhart                         2\n",
       "Dale                             2\n",
       "San Marcos                       2\n",
       "Village Of The Hills             2\n",
       "Atx                              2\n",
       "Bear Creek                       2\n",
       "Humble                           1\n",
       "Au                               1\n",
       "Village Of Creedmoor             1\n",
       "Worcester                        1\n",
       "Village Of San Leanna            1\n",
       "Aua                              1\n",
       "Dallas                           1\n",
       "Liberty Hill                     1\n",
       "Mountain City                    1\n",
       "Bee Caves                        1\n",
       "Terrbonne                        1\n",
       "Houston                          1\n",
       "Oak Hill                         1\n",
       "Village Of Volente               1\n",
       "Sealy                            1\n",
       "Paige                            1\n",
       "Morrow                           1\n",
       "Name: City, dtype: int64"
      ]
     },
     "execution_count": 26,
     "metadata": {},
     "output_type": "execute_result"
    }
   ],
   "source": [
    "print('Before dimensions: ', df.shape)\n",
    "df.loc[df['City'].str.contains('Austin 5 Etj', na=False), :]\n",
    "print('After dimensions: ', df.shape)\n",
    "df['City'].value_counts(dropna=False).sort_values(ascending=False)"
   ]
  },
  {
   "cell_type": "markdown",
   "metadata": {},
   "source": [
    "#### Fix `Austin` related typos and misspellings"
   ]
  },
  {
   "cell_type": "code",
   "execution_count": 27,
   "metadata": {
    "ExecuteTime": {
     "end_time": "2019-07-30T04:03:58.729861Z",
     "start_time": "2019-07-30T04:03:57.987432Z"
    }
   },
   "outputs": [
    {
     "name": "stdout",
     "output_type": "stream",
     "text": [
      "Before dimensions:  (736819, 11)\n",
      "After dimensions:  (736819, 11)\n"
     ]
    },
    {
     "data": {
      "text/plain": [
       "Austin                      722875\n",
       "Pflugerville                  3137\n",
       "Del Valle                     2248\n",
       "Manor                         1756\n",
       "Cedar Park                     807\n",
       "NaN                            717\n",
       "Bee Cave                       444\n",
       "Round Rock                     438\n",
       "Leander                        429\n",
       "Sunset Valley                  422\n",
       "Lakeway                        367\n",
       "Other                          363\n",
       "Elgin                          282\n",
       "Mustang Ridge                  270\n",
       "West Lake Hills                261\n",
       "Manchaca                       212\n",
       "West Lake Hill                 167\n",
       "Lago Vista                     155\n",
       "Spicewood                      155\n",
       "Buda                           144\n",
       "Rollingwood                    138\n",
       "Jonestown                      125\n",
       "Webberville                    117\n",
       "Creedmoor                      116\n",
       "Travis                         111\n",
       "Briarcliff                     100\n",
       "Dripping Springs                52\n",
       "Cedar Creek                     47\n",
       "The Hills                       43\n",
       "Coupland                        37\n",
       "Hutto                           36\n",
       "Dripping Sprin                  34\n",
       "Bastrop                         33\n",
       "Volente                         30\n",
       "San Leanna                      24\n",
       "Hays                            15\n",
       "Point Venture                   15\n",
       "Marble Falls                    15\n",
       "Georgetown                      14\n",
       "Village Of Mustang Ridge         9\n",
       "West Lake Hil                    8\n",
       "Pflugervill                      7\n",
       "Village Of Webberville           5\n",
       "Village Of Point Venture         4\n",
       "Village Of Briarcliff            3\n",
       "Kyle                             3\n",
       "Lockhart                         2\n",
       "Dale                             2\n",
       "San Marcos                       2\n",
       "Village Of The Hills             2\n",
       "Atx                              2\n",
       "Bear Creek                       2\n",
       "Humble                           1\n",
       "Au                               1\n",
       "Village Of Creedmoor             1\n",
       "Worcester                        1\n",
       "Village Of San Leanna            1\n",
       "Aua                              1\n",
       "Dallas                           1\n",
       "Liberty Hill                     1\n",
       "Mountain City                    1\n",
       "Bee Caves                        1\n",
       "Terrbonne                        1\n",
       "Houston                          1\n",
       "Oak Hill                         1\n",
       "Village Of Volente               1\n",
       "Sealy                            1\n",
       "Paige                            1\n",
       "Morrow                           1\n",
       "Name: City, dtype: int64"
      ]
     },
     "execution_count": 27,
     "metadata": {},
     "output_type": "execute_result"
    }
   ],
   "source": [
    "print('Before dimensions: ', df.shape)\n",
    "df.loc[(df['City'] != 'Austin 5 Etj') & df['City'].str.startswith('Aus', na=False).values, 'City'] = 'Austin'\n",
    "print('After dimensions: ', df.shape)\n",
    "df['City'].value_counts(dropna=False).sort_values(ascending=False)"
   ]
  },
  {
   "cell_type": "markdown",
   "metadata": {},
   "source": [
    "#### Assert Zipcodes that are to Austin only, fill NaN values in City with Austin based on Zip Codes"
   ]
  },
  {
   "cell_type": "code",
   "execution_count": 28,
   "metadata": {
    "ExecuteTime": {
     "end_time": "2019-07-30T04:03:58.865084Z",
     "start_time": "2019-07-30T04:03:58.734550Z"
    }
   },
   "outputs": [
    {
     "data": {
      "text/plain": [
       " 78610.0       84\n",
       " 78612.0       45\n",
       " 78613.0      724\n",
       " 78617.0     6085\n",
       " 78620.0       17\n",
       " 78621.0       45\n",
       " 78641.0       79\n",
       " 78645.0        1\n",
       " 78652.0      588\n",
       " 78653.0     1235\n",
       " 78654.0        6\n",
       " 78660.0     3089\n",
       " 78669.0       40\n",
       " 78681.0       24\n",
       " 78701.0    33380\n",
       " 78702.0    40679\n",
       " 78703.0    26712\n",
       " 78704.0    50008\n",
       " 78705.0    21683\n",
       " 78712.0      749\n",
       " 78717.0     6809\n",
       " 78719.0     1101\n",
       " 78721.0    16352\n",
       " 78722.0     8670\n",
       " 78723.0    35046\n",
       " 78724.0    16179\n",
       " 78725.0     3064\n",
       " 78726.0     4009\n",
       " 78727.0    13442\n",
       " 78728.0     2706\n",
       " 78729.0     8467\n",
       " 78730.0     2747\n",
       " 78731.0    21893\n",
       " 78732.0     1779\n",
       " 78733.0      946\n",
       " 78734.0     1489\n",
       " 78735.0     8414\n",
       " 78736.0     3462\n",
       " 78737.0      681\n",
       " 78738.0      274\n",
       " 78739.0     7875\n",
       " 78741.0    31883\n",
       " 78742.0     1309\n",
       " 78744.0    36270\n",
       " 78745.0    50127\n",
       " 78746.0    12074\n",
       " 78747.0     7572\n",
       " 78748.0    26558\n",
       " 78749.0    21488\n",
       " 78750.0    11913\n",
       " 78751.0    18721\n",
       " 78752.0    14712\n",
       " 78753.0    32042\n",
       " 78754.0    10910\n",
       " 78756.0    10815\n",
       " 78757.0    23507\n",
       " 78758.0    35324\n",
       " 78759.0    24544\n",
       " 79739.0       13\n",
       "NaN          2415\n",
       "Name: Zip Code, dtype: int64"
      ]
     },
     "execution_count": 28,
     "metadata": {},
     "output_type": "execute_result"
    }
   ],
   "source": [
    "df.loc[df['City'] == 'Austin', 'Zip Code'].value_counts(dropna=False).sort_index()"
   ]
  },
  {
   "cell_type": "code",
   "execution_count": 29,
   "metadata": {
    "ExecuteTime": {
     "end_time": "2019-07-30T04:03:58.893737Z",
     "start_time": "2019-07-30T04:03:58.869679Z"
    }
   },
   "outputs": [
    {
     "name": "stdout",
     "output_type": "stream",
     "text": [
      "Dimensions of data frame:  (736819, 11)\n"
     ]
    }
   ],
   "source": [
    "print('Dimensions of data frame: ', df.shape)"
   ]
  },
  {
   "cell_type": "code",
   "execution_count": 30,
   "metadata": {
    "ExecuteTime": {
     "end_time": "2019-07-30T04:04:00.031960Z",
     "start_time": "2019-07-30T04:03:58.898471Z"
    }
   },
   "outputs": [
    {
     "name": "stdout",
     "output_type": "stream",
     "text": [
      "<class 'pandas.core.frame.DataFrame'>\n",
      "RangeIndex: 722875 entries, 0 to 722874\n",
      "Data columns (total 11 columns):\n",
      "SR Type Code            722875 non-null object\n",
      "SR Description          722875 non-null object\n",
      "Owning Department       722875 non-null object\n",
      "Method Received         722875 non-null object\n",
      "SR Status               722875 non-null object\n",
      "Created Date            717221 non-null object\n",
      "City                    722875 non-null object\n",
      "Zip Code                720460 non-null float64\n",
      "County                  716672 non-null object\n",
      "Latitude Coordinate     722843 non-null float64\n",
      "Longitude Coordinate    722843 non-null float64\n",
      "dtypes: float64(3), object(8)\n",
      "memory usage: 60.7+ MB\n"
     ]
    }
   ],
   "source": [
    "austin_df = df.loc[df['City'] == 'Austin', :]\n",
    "austin_df = austin_df.reset_index(drop=True)\n",
    "austin_df.info()"
   ]
  },
  {
   "cell_type": "code",
   "execution_count": 31,
   "metadata": {
    "ExecuteTime": {
     "end_time": "2019-07-30T04:04:00.043231Z",
     "start_time": "2019-07-30T04:04:00.035971Z"
    }
   },
   "outputs": [
    {
     "data": {
      "text/plain": [
       "(722875, 11)"
      ]
     },
     "execution_count": 31,
     "metadata": {},
     "output_type": "execute_result"
    }
   ],
   "source": [
    "austin_df.shape"
   ]
  },
  {
   "cell_type": "code",
   "execution_count": 32,
   "metadata": {
    "ExecuteTime": {
     "end_time": "2019-07-30T04:04:00.218142Z",
     "start_time": "2019-07-30T04:04:00.047257Z"
    }
   },
   "outputs": [
    {
     "data": {
      "text/plain": [
       "(13944, 11)"
      ]
     },
     "execution_count": 32,
     "metadata": {},
     "output_type": "execute_result"
    }
   ],
   "source": [
    "df.loc[~(df['City'] == 'Austin'), :].shape"
   ]
  },
  {
   "cell_type": "code",
   "execution_count": 33,
   "metadata": {
    "ExecuteTime": {
     "end_time": "2019-07-30T04:04:01.152873Z",
     "start_time": "2019-07-30T04:04:00.223629Z"
    }
   },
   "outputs": [
    {
     "data": {
      "text/plain": [
       "City    Zip Code\n",
       "Austin  78610.0        84\n",
       "        78612.0        45\n",
       "        78613.0       724\n",
       "        78617.0      6085\n",
       "        78620.0        17\n",
       "        78621.0        45\n",
       "        78641.0        79\n",
       "        78645.0         1\n",
       "        78652.0       588\n",
       "        78653.0      1235\n",
       "        78654.0         6\n",
       "        78660.0      3089\n",
       "        78669.0        40\n",
       "        78681.0        24\n",
       "        78701.0     33380\n",
       "        78702.0     40679\n",
       "        78703.0     26712\n",
       "        78704.0     50008\n",
       "        78705.0     21683\n",
       "        78712.0       749\n",
       "        78717.0      6809\n",
       "        78719.0      1101\n",
       "        78721.0     16352\n",
       "        78722.0      8670\n",
       "        78723.0     35046\n",
       "        78724.0     16179\n",
       "        78725.0      3064\n",
       "        78726.0      4009\n",
       "        78727.0     13442\n",
       "        78728.0      2706\n",
       "        78729.0      8467\n",
       "        78730.0      2747\n",
       "        78731.0     21893\n",
       "        78732.0      1779\n",
       "        78733.0       946\n",
       "        78734.0      1489\n",
       "        78735.0      8414\n",
       "        78736.0      3462\n",
       "        78737.0       681\n",
       "        78738.0       274\n",
       "        78739.0      7875\n",
       "        78741.0     31883\n",
       "        78742.0      1309\n",
       "        78744.0     36270\n",
       "        78745.0     50127\n",
       "        78746.0     12074\n",
       "        78747.0      7572\n",
       "        78748.0     26558\n",
       "        78749.0     21488\n",
       "        78750.0     11913\n",
       "        78751.0     18721\n",
       "        78752.0     14712\n",
       "        78753.0     32042\n",
       "        78754.0     10910\n",
       "        78756.0     10815\n",
       "        78757.0     23507\n",
       "        78758.0     35324\n",
       "        78759.0     24544\n",
       "        79739.0        13\n",
       "dtype: int64"
      ]
     },
     "execution_count": 33,
     "metadata": {},
     "output_type": "execute_result"
    }
   ],
   "source": [
    "df.loc[df['City'].str.startswith('Aus', na=False).values, ['City', 'Zip Code']].groupby(by=['City', 'Zip Code']).size()"
   ]
  },
  {
   "cell_type": "code",
   "execution_count": null,
   "metadata": {},
   "outputs": [],
   "source": []
  },
  {
   "cell_type": "code",
   "execution_count": null,
   "metadata": {},
   "outputs": [],
   "source": []
  }
 ],
 "metadata": {
  "kernelspec": {
   "display_name": "Python 3.7 (Austin 311 EDA)",
   "language": "python",
   "name": "austin_eda"
  },
  "language_info": {
   "codemirror_mode": {
    "name": "ipython",
    "version": 3
   },
   "file_extension": ".py",
   "mimetype": "text/x-python",
   "name": "python",
   "nbconvert_exporter": "python",
   "pygments_lexer": "ipython3",
   "version": "3.7.3"
  }
 },
 "nbformat": 4,
 "nbformat_minor": 4
}
