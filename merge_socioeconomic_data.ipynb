{
 "cells": [
  {
   "cell_type": "markdown",
   "metadata": {},
   "source": [
    "# Combine Socioeconomic factors by Zipcodes\n",
    "\n",
    "<img src=\"imgs/austin-city.jpg\" width = \"500\" align=\"center\"/>"
   ]
  },
  {
   "cell_type": "code",
   "execution_count": 2,
   "metadata": {},
   "outputs": [],
   "source": [
    "import os\n",
    "import numpy as np\n",
    "import pandas as pd\n",
    "from bs4 import BeautifulSoup\n",
    "from requests import get"
   ]
  },
  {
   "cell_type": "markdown",
   "metadata": {},
   "source": [
    "# Fetch files"
   ]
  },
  {
   "cell_type": "markdown",
   "metadata": {},
   "source": [
    "Before we merge we need to fetch files from the `City of Austin's` demographic page, let's fetch all the `2017 ACS Survey Profiles` from there. "
   ]
  },
  {
   "cell_type": "code",
   "execution_count": 3,
   "metadata": {},
   "outputs": [
    {
     "name": "stdout",
     "output_type": "stream",
     "text": [
      "<!doctype html>\n",
      "<!--[if lt IE 7 ]><html class=\"ie ie6\" lang=\"en\"> <![endif]-->\n",
      "<!--[if IE 7 ]><html class=\"ie ie7\" lang=\"en\"> <![endif]-->\n",
      "<!--[if IE 8 ]><html class=\"ie ie8\" lang=\"en\"> <![endif]-->\n",
      "<!--[if (gte IE 9)|!(IE)]><!--><html lang=\"en\" dir=\"ltr\"> <!--<![endif]-->\n",
      "\n",
      "<head profile=\"http://www.w3.org/1999/xhtml/vocab\">\n",
      "  <meta http-equiv=\"Content-Type\" content=\"text/html; charset=utf-8\" />\n",
      "<link rel=\"shortcut icon\" href=\"http://www.austintexas.gov/sites/all/themes/austintexas_ninesixty/ima\n"
     ]
    }
   ],
   "source": [
    "url = 'http://www.austintexas.gov/page/demographic-data'\n",
    "response = get(url)\n",
    "print(response.text[:500])"
   ]
  },
  {
   "cell_type": "code",
   "execution_count": 5,
   "metadata": {},
   "outputs": [
    {
     "data": {
      "text/plain": [
       "bs4.BeautifulSoup"
      ]
     },
     "execution_count": 5,
     "metadata": {},
     "output_type": "execute_result"
    }
   ],
   "source": [
    "soup = BeautifulSoup(response.text, 'html.parser')\n",
    "type(soup)"
   ]
  },
  {
   "cell_type": "code",
   "execution_count": 6,
   "metadata": {},
   "outputs": [
    {
     "name": "stdout",
     "output_type": "stream",
     "text": [
      "4\n",
      "<table border=\"1\" cellpadding=\"2\" cellspacing=\"2\" class=\"zemel\" width=\"500\"><tbody><tr><td><a href=\"/sites/default/files/files/Planning/Demographics/Households_by_Income_Category_CoA.pdf\" target=\"_blank\">Households by Income Bracket, City of Austin: 2000, 2010 and 2015</a></td>\n",
      "<td><a href=\"/sites/default/files/files/Planning/Demographics/Families_by_Income_Category_CoA.pdf\" target=\"_blank\">Families by Income Bracket, City of Austin: 2000, 2010 and 2015</a></td>\n",
      "<td><a href=\"/sites/default/files/files/Planning/Demographics/Households_by_Income_Category_MSA.pdf\" target=\"_blank\">Households by Income Bracket, Austin MSA: 2000, 2010 and 2015</a></td>\n",
      "<td>\n",
      "<p><a href=\"/sites/default/files/files/Planning/Demographics/Families_by_Income_Category_MSA.pdf\" target=\"_blank\">Families by Income Bracket, Austin msa: 2000, 2010 and 2015</a></p>\n",
      "</td>\n",
      "</tr></tbody><tbody></tbody></table>\n"
     ]
    }
   ],
   "source": [
    "tables = soup.find_all('table', class_='zemel')\n",
    "print(len(tables))\n",
    "print(tables[0])"
   ]
  },
  {
   "cell_type": "code",
   "execution_count": null,
   "metadata": {},
   "outputs": [],
   "source": []
  }
 ],
 "metadata": {
  "kernelspec": {
   "display_name": "Python 3.7 (Austin 311 EDA)",
   "language": "python",
   "name": "austin_eda"
  },
  "language_info": {
   "codemirror_mode": {
    "name": "ipython",
    "version": 3
   },
   "file_extension": ".py",
   "mimetype": "text/x-python",
   "name": "python",
   "nbconvert_exporter": "python",
   "pygments_lexer": "ipython3",
   "version": "3.7.3"
  }
 },
 "nbformat": 4,
 "nbformat_minor": 4
}
